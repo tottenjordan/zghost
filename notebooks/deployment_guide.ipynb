{
 "cells": [
  {
   "cell_type": "markdown",
   "id": "893019e7",
   "metadata": {},
   "source": [
    "# How to deploy ADK Apps to Agent Engine\n",
    "\n",
    "[Documentation link 🔗](https://google.github.io/adk-docs/deploy/agent-engine/)\n",
    "\n",
    "## 1. Set the local environment variables\n",
    "These will be used in the Agent Engine deployment"
   ]
  },
  {
   "cell_type": "code",
   "execution_count": 1,
   "id": "eac665f1",
   "metadata": {},
   "outputs": [
    {
     "data": {
      "text/plain": [
       "True"
      ]
     },
     "execution_count": 1,
     "metadata": {},
     "output_type": "execute_result"
    }
   ],
   "source": [
    "from dotenv import load_dotenv\n",
    "import os\n",
    "\n",
    "load_dotenv(\"../trends_and_insights_agent/.env\")  # take environment variables"
   ]
  },
  {
   "cell_type": "markdown",
   "id": "54c0699d",
   "metadata": {},
   "source": [
    "## 2. Set up the `AdkApp` Convenience wrapper for ADK Agents -> Agent Engine\n",
    "\n",
    "Note the injection of the environment variables."
   ]
  },
  {
   "cell_type": "code",
   "execution_count": 2,
   "id": "f0e0e53c",
   "metadata": {},
   "outputs": [
    {
     "name": "stderr",
     "output_type": "stream",
     "text": [
      "WARNING:google.adk.agents.llm_agent:Invalid config for agent campaign_guide_data_generation_agent: output_schema cannot co-exist with agent transfer configurations. Setting disallow_transfer_to_parent=True, disallow_transfer_to_peers=True\n",
      "INFO:googleapiclient.discovery_cache:file_cache is only supported with oauth2client<4.0.0\n",
      "Invalid config for agent insights_generator_agent: output_schema cannot co-exist with agent transfer configurations. Setting disallow_transfer_to_parent=True, disallow_transfer_to_peers=True\n",
      "/Users/jwortz/zghost/trends_and_insights_agent/common_agents/ad_content_generator/tools.py:120: SyntaxWarning: \"is not\" with 'str' literal. Did you mean \"!=\"?\n",
      "  if existing_image_filename is not \"\":\n",
      "INFO:googleapiclient.discovery_cache:file_cache is only supported with oauth2client<4.0.0\n",
      "Invalid config for agent trends_generator_agent: output_schema cannot co-exist with agent transfer configurations. Setting disallow_transfer_to_parent=True, disallow_transfer_to_peers=True\n"
     ]
    }
   ],
   "source": [
    "from vertexai.preview.reasoning_engines import AdkApp\n",
    "\n",
    "from trends_and_insights_agent import agent\n",
    "\n",
    "env_vars = {}\n",
    "\n",
    "env_vars[\"GOOGLE_CLOUD_PROJECT\"] = os.getenv(\"GOOGLE_CLOUD_PROJECT\")\n",
    "env_vars[\"GOOGLE_CLOUD_LOCATION\"] = os.getenv(\"GOOGLE_CLOUD_LOCATION\")\n",
    "env_vars[\"GOOGLE_GENAI_USE_VERTEXAI\"] = os.getenv(\"GOOGLE_GENAI_USE_VERTEXAI\")\n",
    "env_vars[\"BUCKET\"] = os.getenv(\"BUCKET\")\n",
    "env_vars[\"GOOGLE_CLOUD_PROJECT_NUMBER\"] = os.getenv(\"GOOGLE_CLOUD_PROJECT_NUMBER\")\n",
    "env_vars[\"YT_SECRET_MNGR_NAME\"] = os.getenv(\"YT_SECRET_MNGR_NAME\")\n",
    "\n",
    "\n",
    "my_agent = AdkApp(agent=agent.root_agent, enable_tracing=False, env_vars=env_vars)"
   ]
  },
  {
   "cell_type": "markdown",
   "id": "e500ea11",
   "metadata": {},
   "source": [
    "# 3. Test the Agent Engine locally"
   ]
  },
  {
   "cell_type": "code",
   "execution_count": 14,
   "id": "33be24e1",
   "metadata": {},
   "outputs": [
    {
     "data": {
      "text/plain": [
       "Session(id='29d48183-1766-4f09-ac36-6600f70ce2b7', app_name='default-app-name', user_id='jwortz', state={}, events=[], last_update_time=1746391474.237503)"
      ]
     },
     "execution_count": 14,
     "metadata": {},
     "output_type": "execute_result"
    }
   ],
   "source": [
    "session = my_agent.create_session(user_id=\"jwortz\")\n",
    "session"
   ]
  },
  {
   "cell_type": "code",
   "execution_count": 15,
   "id": "a1a96d83",
   "metadata": {},
   "outputs": [
    {
     "data": {
      "text/plain": [
       "ListSessionsResponse(sessions=[Session(id='29d48183-1766-4f09-ac36-6600f70ce2b7', app_name='default-app-name', user_id='jwortz', state={}, events=[], last_update_time=1746391474.237503)])"
      ]
     },
     "execution_count": 15,
     "metadata": {},
     "output_type": "execute_result"
    }
   ],
   "source": [
    "my_agent.list_sessions(user_id=\"jwortz\")"
   ]
  },
  {
   "cell_type": "code",
   "execution_count": 16,
   "id": "c5178ae8",
   "metadata": {},
   "outputs": [],
   "source": [
    "EXAMPLE_BRIEF = \"\"\"\n",
    "Campaign Name: Connect Beyond Limits with Pix Phone 5\n",
    "Campaign Objectives\n",
    "● Increase awareness of the latest model of the Pix Phone\n",
    "● Generate leads and drive phone sales\n",
    "● Position Pix Phone and the trendy phone to have\n",
    "Target Audience\n",
    "● Individuals aged 20-40 in major markets such as US, France, Japan\n",
    "Media Strategy\n",
    "1. Social Media Marketing: Run targeted social media ads on platforms where the\n",
    "target audience is active.\n",
    "2. Influencer Marketing: Partner with influencers in the tech industry to promote Pix\n",
    "Phone 5\n",
    "3. Paid Advertising: Run targeted display ads on websites and apps frequented by\n",
    "the target audience. Use search engine marketing (SEM) to bid on relevant\n",
    "keywords and appear in search results when potential customers are looking for\n",
    "asset protection insurance.\n",
    "Timeline and country\n",
    "● Activity in the 3 major markets in at least the online channels by early Oct 2023\n",
    "● Start from US, followed by France then Japan\n",
    "● The campaign should use the US version as anchor and localized accordingly\n",
    "Performance Metrics\n",
    "1. Track website conversion, lead generation, and phone sales to measure campaign\n",
    "effectiveness.\n",
    "2. Use social media analytics to monitor engagement, reach, and sentiment.\n",
    "\"\"\""
   ]
  },
  {
   "cell_type": "code",
   "execution_count": 17,
   "id": "d371bfe6",
   "metadata": {},
   "outputs": [],
   "source": [
    "from pprint import pprint\n",
    "\n",
    "\n",
    "def stream_agent(agent, prompt: str) -> None:\n",
    "    for event in agent.stream_query(\n",
    "        user_id=\"jwortz\",\n",
    "        session_id=session.id,\n",
    "        message=prompt,\n",
    "    ):\n",
    "        pprint(event)"
   ]
  },
  {
   "cell_type": "code",
   "execution_count": 18,
   "id": "6a10dd01",
   "metadata": {},
   "outputs": [
    {
     "name": "stderr",
     "output_type": "stream",
     "text": [
      "INFO:google_genai.models:AFC is enabled with max remote calls: 10.\n"
     ]
    },
    {
     "name": "stderr",
     "output_type": "stream",
     "text": [
      "INFO:httpx:HTTP Request: POST https://us-central1-aiplatform.googleapis.com/v1beta1/projects/wortz-project-352116/locations/us-central1/publishers/google/models/gemini-2.0-flash:generateContent \"HTTP/1.1 200 OK\"\n",
      "INFO:root:\n",
      "[Callback] Entering agent: marketing_idea_generator_agent (Inv: e-1ba86531-93e3-4b5c-b829-1ab172c55269)\n",
      "INFO:root:[Callback] Current State: {}\n"
     ]
    },
    {
     "name": "stdout",
     "output_type": "stream",
     "text": [
      "{'actions': {'artifact_delta': {},\n",
      "             'requested_auth_configs': {},\n",
      "             'state_delta': {}},\n",
      " 'author': 'marketing_idea_generator_agent',\n",
      " 'content': {'parts': [{'text': \"Hello! I'm here to help you brainstorm some \"\n",
      "                                'great campaign ideas for the \"Connect Beyond '\n",
      "                                'Limits with Pix Phone 5\" campaign.\\n'\n",
      "                                '\\n'\n",
      "                                'To start, could you please provide the '\n",
      "                                'marketing campaign guide? You can paste the '\n",
      "                                'text, provide a URL to a webpage, or upload a '\n",
      "                                'PDF. This will help me get a better '\n",
      "                                'understanding of the campaign and your '\n",
      "                                'goals.\\n'\n",
      "                                '\\n'\n",
      "                                'For example, you could say:\\n'\n",
      "                                '\\n'\n",
      "                                '*   \"Here\\'s the campaign guide: [paste text '\n",
      "                                'here]\"\\n'\n",
      "                                '*   \"The campaign guide is available at this '\n",
      "                                'URL: [insert URL]\"\\n'\n",
      "                                '*   \"I\\'ve uploaded the campaign guide as a '\n",
      "                                'PDF.\"\\n'\n",
      "                                '\\n'\n",
      "                                \"Once I have the guide, I'll use the \"\n",
      "                                '`campaign_guide_data_generation_agent` to '\n",
      "                                'extract the key information and provide you '\n",
      "                                'with a concise summary.\\n'}],\n",
      "             'role': 'model'},\n",
      " 'id': 'e3aU2muS',\n",
      " 'invocation_id': 'e-1ba86531-93e3-4b5c-b829-1ab172c55269',\n",
      " 'timestamp': 1746391475.627603}\n",
      "{'actions': {'artifact_delta': {},\n",
      "             'requested_auth_configs': {},\n",
      "             'state_delta': {'campaign_guide': {'campaign_guide': 'not yet '\n",
      "                                                                  'populated'},\n",
      "                             'insights': {'insights': []},\n",
      "                             'trends': {'trends': []}}},\n",
      " 'author': 'marketing_idea_generator_agent',\n",
      " 'content': {'parts': [{'text': 'Agent marketing_idea_generator_agent setting '\n",
      "                                'default values for state variables: '\n",
      "                                'campaign_guide, trends, insights.'}],\n",
      "             'role': 'model'},\n",
      " 'id': 'TROekp7F',\n",
      " 'invocation_id': 'e-1ba86531-93e3-4b5c-b829-1ab172c55269',\n",
      " 'timestamp': 1746391477.973769}\n"
     ]
    }
   ],
   "source": [
    "first_prompt = f\"Check out the {EXAMPLE_BRIEF} and come up with some good campaign ideas. Be sure to generate a few image ideas for the campaign.\"\n",
    "stream_agent(my_agent, first_prompt)"
   ]
  },
  {
   "cell_type": "code",
   "execution_count": 19,
   "id": "2a3bc0a2",
   "metadata": {},
   "outputs": [
    {
     "name": "stderr",
     "output_type": "stream",
     "text": [
      "INFO:google_genai.models:AFC is enabled with max remote calls: 10.\n",
      "INFO:httpx:HTTP Request: POST https://us-central1-aiplatform.googleapis.com/v1beta1/projects/wortz-project-352116/locations/us-central1/publishers/google/models/gemini-2.0-flash:generateContent \"HTTP/1.1 200 OK\"\n",
      "INFO:root:\n",
      "[Callback] Entering agent: marketing_idea_generator_agent (Inv: e-3b3a9ab5-22b9-44c3-9e79-ea5c1ed02ccc)\n",
      "INFO:root:[Callback] Current State: {'campaign_guide': {'campaign_guide': 'not yet populated'}, 'trends': {'trends': []}, 'insights': {'insights': []}}\n"
     ]
    },
    {
     "name": "stdout",
     "output_type": "stream",
     "text": [
      "{'actions': {'artifact_delta': {},\n",
      "             'requested_auth_configs': {},\n",
      "             'state_delta': {}},\n",
      " 'author': 'marketing_idea_generator_agent',\n",
      " 'content': {'parts': [{'text': 'I am sorry, I need the campaign guide first '\n",
      "                                'before generating images. Please provide the '\n",
      "                                'campaign guide so I can assist you '\n",
      "                                'further.\\n'}],\n",
      "             'role': 'model'},\n",
      " 'id': 'AbgFoXPI',\n",
      " 'invocation_id': 'e-3b3a9ab5-22b9-44c3-9e79-ea5c1ed02ccc',\n",
      " 'timestamp': 1746391477.98363}\n"
     ]
    }
   ],
   "source": [
    "followup_prompt = \"Create images from these great ideas!\"\n",
    "stream_agent(my_agent, followup_prompt)"
   ]
  },
  {
   "cell_type": "markdown",
   "id": "2c97ad97",
   "metadata": {},
   "source": [
    "## 4. Deploy to Vertex AI Agent Engine\n",
    "To call and manage agents in production, deploy the agent to Vertex AI Agent Engine.\n",
    "\n",
    "**Important - run `poetry build` to package the agent**"
   ]
  },
  {
   "cell_type": "code",
   "execution_count": 20,
   "id": "3a022bf9",
   "metadata": {},
   "outputs": [
    {
     "name": "stdout",
     "output_type": "stream",
     "text": [
      "Building \u001b[36mtrends_and_insights_agent\u001b[39m (\u001b[39;1m0.1.0\u001b[39;22m)\n",
      "  - Building \u001b[34mwheel\u001b[39m\n",
      "  - Built \u001b[32mtrends_and_insights_agent-0.1.0-py3-none-any.whl\u001b[39m\n"
     ]
    }
   ],
   "source": [
    "! poetry build --format=wheel --output=notebooks/deployment"
   ]
  },
  {
   "cell_type": "markdown",
   "id": "76974f85",
   "metadata": {},
   "source": [
    "#### Initialize the Vertex client, then create a `remote_agent` that is deployed to Vertex\n",
    "\n",
    "This also takes the packaged agent code. This is required for more complex agents that have nested dependencies and require packaging\n",
    "\n",
    "Also, before running - be sure to give Secret Manager access to the Agent Engine service account. This can simply be done by running `. setup_ae_sm_access.sh`.\n",
    "\n",
    "The code can also be ran as follows (relative to repo root):\n",
    "\n",
    "```bash\n",
    "source trends_and_insights_agent/.env\n",
    "\n",
    "export RE_SA=\"service-${GOOGLE_CLOUD_PROJECT_NUMBER}@gcp-sa-aiplatform-re.iam.gserviceaccount.com\"\n",
    "gcloud secrets add-iam-policy-binding \"projects/$GOOGLE_CLOUD_PROJECT/secrets/$YT_SECRET_MNGR_NAME\" \\\n",
    "  --member=\"serviceAccount:$RE_SA\" \\\n",
    "  --role=\"roles/secretmanager.secretAccessor\"\n",
    "```"
   ]
  },
  {
   "cell_type": "code",
   "execution_count": 21,
   "id": "1b7eea3c",
   "metadata": {},
   "outputs": [
    {
     "name": "stdout",
     "output_type": "stream",
     "text": [
      "Identified the following requirements: {'pydantic': '2.11.3', 'cloudpickle': '3.1.1', 'google-cloud-aiplatform': '1.91.0'}\n"
     ]
    },
    {
     "name": "stderr",
     "output_type": "stream",
     "text": [
      "INFO:vertexai.agent_engines:Identified the following requirements: {'pydantic': '2.11.3', 'cloudpickle': '3.1.1', 'google-cloud-aiplatform': '1.91.0'}\n"
     ]
    },
    {
     "name": "stdout",
     "output_type": "stream",
     "text": [
      "Failed to parse constraint: deployment/trends_and_insights_agent-0.1.0-py3-none-any.whl. Exception: Expected end or semicolon (after name and no valid version specifier)\n",
      "    deployment/trends_and_insights_agent-0.1.0-py3-none-any.whl\n",
      "              ^\n"
     ]
    },
    {
     "name": "stderr",
     "output_type": "stream",
     "text": [
      "WARNING:vertexai.agent_engines:Failed to parse constraint: deployment/trends_and_insights_agent-0.1.0-py3-none-any.whl. Exception: Expected end or semicolon (after name and no valid version specifier)\n",
      "    deployment/trends_and_insights_agent-0.1.0-py3-none-any.whl\n",
      "              ^\n"
     ]
    },
    {
     "name": "stdout",
     "output_type": "stream",
     "text": [
      "The following requirements are missing: {'pydantic', 'cloudpickle', 'google-cloud-aiplatform'}\n"
     ]
    },
    {
     "name": "stderr",
     "output_type": "stream",
     "text": [
      "WARNING:vertexai.agent_engines:The following requirements are missing: {'pydantic', 'cloudpickle', 'google-cloud-aiplatform'}\n"
     ]
    },
    {
     "name": "stdout",
     "output_type": "stream",
     "text": [
      "The following requirements are appended: {'cloudpickle==3.1.1', 'pydantic==2.11.3'}\n"
     ]
    },
    {
     "name": "stderr",
     "output_type": "stream",
     "text": [
      "INFO:vertexai.agent_engines:The following requirements are appended: {'cloudpickle==3.1.1', 'pydantic==2.11.3'}\n"
     ]
    },
    {
     "name": "stdout",
     "output_type": "stream",
     "text": [
      "The final list of requirements: ['deployment/trends_and_insights_agent-0.1.0-py3-none-any.whl', 'cloudpickle==3.1.1', 'pydantic==2.11.3']\n"
     ]
    },
    {
     "name": "stderr",
     "output_type": "stream",
     "text": [
      "INFO:vertexai.agent_engines:The final list of requirements: ['deployment/trends_and_insights_agent-0.1.0-py3-none-any.whl', 'cloudpickle==3.1.1', 'pydantic==2.11.3']\n"
     ]
    },
    {
     "name": "stdout",
     "output_type": "stream",
     "text": [
      "Using bucket zghost-media-center\n"
     ]
    },
    {
     "name": "stderr",
     "output_type": "stream",
     "text": [
      "INFO:vertexai.agent_engines:Using bucket zghost-media-center\n"
     ]
    },
    {
     "name": "stdout",
     "output_type": "stream",
     "text": [
      "Wrote to gs://zghost-media-center/agent_engine/agent_engine.pkl\n"
     ]
    },
    {
     "name": "stderr",
     "output_type": "stream",
     "text": [
      "INFO:vertexai.agent_engines:Wrote to gs://zghost-media-center/agent_engine/agent_engine.pkl\n"
     ]
    },
    {
     "name": "stdout",
     "output_type": "stream",
     "text": [
      "Writing to gs://zghost-media-center/agent_engine/requirements.txt\n"
     ]
    },
    {
     "name": "stderr",
     "output_type": "stream",
     "text": [
      "INFO:vertexai.agent_engines:Writing to gs://zghost-media-center/agent_engine/requirements.txt\n"
     ]
    },
    {
     "name": "stdout",
     "output_type": "stream",
     "text": [
      "Creating in-memory tarfile of extra_packages\n"
     ]
    },
    {
     "name": "stderr",
     "output_type": "stream",
     "text": [
      "INFO:vertexai.agent_engines:Creating in-memory tarfile of extra_packages\n"
     ]
    },
    {
     "name": "stdout",
     "output_type": "stream",
     "text": [
      "Writing to gs://zghost-media-center/agent_engine/dependencies.tar.gz\n"
     ]
    },
    {
     "name": "stderr",
     "output_type": "stream",
     "text": [
      "INFO:vertexai.agent_engines:Writing to gs://zghost-media-center/agent_engine/dependencies.tar.gz\n"
     ]
    },
    {
     "name": "stdout",
     "output_type": "stream",
     "text": [
      "Creating AgentEngine\n"
     ]
    },
    {
     "name": "stderr",
     "output_type": "stream",
     "text": [
      "INFO:vertexai.agent_engines:Creating AgentEngine\n"
     ]
    },
    {
     "name": "stdout",
     "output_type": "stream",
     "text": [
      "Create AgentEngine backing LRO: projects/679926387543/locations/us-central1/reasoningEngines/8411677368858443776/operations/4644510391886413824\n"
     ]
    },
    {
     "name": "stderr",
     "output_type": "stream",
     "text": [
      "INFO:vertexai.agent_engines:Create AgentEngine backing LRO: projects/679926387543/locations/us-central1/reasoningEngines/8411677368858443776/operations/4644510391886413824\n"
     ]
    },
    {
     "name": "stdout",
     "output_type": "stream",
     "text": [
      "View progress and logs at https://console.cloud.google.com/logs/query?project=wortz-project-352116\n"
     ]
    },
    {
     "name": "stderr",
     "output_type": "stream",
     "text": [
      "INFO:vertexai.agent_engines:View progress and logs at https://console.cloud.google.com/logs/query?project=wortz-project-352116\n"
     ]
    },
    {
     "ename": "KeyboardInterrupt",
     "evalue": "",
     "output_type": "error",
     "traceback": [
      "\u001b[31m---------------------------------------------------------------------------\u001b[39m",
      "\u001b[31m_OperationNotComplete\u001b[39m                     Traceback (most recent call last)",
      "\u001b[36mFile \u001b[39m\u001b[32m~/zghost/.venv/lib/python3.12/site-packages/google/api_core/retry/retry_unary.py:144\u001b[39m, in \u001b[36mretry_target\u001b[39m\u001b[34m(target, predicate, sleep_generator, timeout, on_error, exception_factory, **kwargs)\u001b[39m\n\u001b[32m    143\u001b[39m \u001b[38;5;28;01mtry\u001b[39;00m:\n\u001b[32m--> \u001b[39m\u001b[32m144\u001b[39m     result = \u001b[43mtarget\u001b[49m\u001b[43m(\u001b[49m\u001b[43m)\u001b[49m\n\u001b[32m    145\u001b[39m     \u001b[38;5;28;01mif\u001b[39;00m inspect.isawaitable(result):\n",
      "\u001b[36mFile \u001b[39m\u001b[32m~/zghost/.venv/lib/python3.12/site-packages/google/api_core/future/polling.py:120\u001b[39m, in \u001b[36mPollingFuture._done_or_raise\u001b[39m\u001b[34m(self, retry)\u001b[39m\n\u001b[32m    119\u001b[39m \u001b[38;5;28;01mif\u001b[39;00m \u001b[38;5;129;01mnot\u001b[39;00m \u001b[38;5;28mself\u001b[39m.done(retry=retry):\n\u001b[32m--> \u001b[39m\u001b[32m120\u001b[39m     \u001b[38;5;28;01mraise\u001b[39;00m _OperationNotComplete()\n",
      "\u001b[31m_OperationNotComplete\u001b[39m: ",
      "\nDuring handling of the above exception, another exception occurred:\n",
      "\u001b[31mKeyboardInterrupt\u001b[39m                         Traceback (most recent call last)",
      "\u001b[36mCell\u001b[39m\u001b[36m \u001b[39m\u001b[32mIn[21]\u001b[39m\u001b[32m, line 14\u001b[39m\n\u001b[32m      6\u001b[39m BUCKET = os.getenv(\u001b[33m\"\u001b[39m\u001b[33mBUCKET\u001b[39m\u001b[33m\"\u001b[39m)\n\u001b[32m      8\u001b[39m vertexai.init(\n\u001b[32m      9\u001b[39m     project=GOOGLE_CLOUD_PROJECT,\n\u001b[32m     10\u001b[39m     location=\u001b[33m\"\u001b[39m\u001b[33mus-central1\u001b[39m\u001b[33m\"\u001b[39m,\n\u001b[32m     11\u001b[39m     staging_bucket=BUCKET,\n\u001b[32m     12\u001b[39m )\n\u001b[32m---> \u001b[39m\u001b[32m14\u001b[39m remote_agent = \u001b[43magent_engines\u001b[49m\u001b[43m.\u001b[49m\u001b[43mcreate\u001b[49m\u001b[43m(\u001b[49m\n\u001b[32m     15\u001b[39m \u001b[43m    \u001b[49m\u001b[43magent_engine\u001b[49m\u001b[43m=\u001b[49m\u001b[43mmy_agent\u001b[49m\u001b[43m,\u001b[49m\n\u001b[32m     16\u001b[39m \u001b[43m    \u001b[49m\u001b[43mrequirements\u001b[49m\u001b[43m=\u001b[49m\u001b[43m[\u001b[49m\n\u001b[32m     17\u001b[39m \u001b[43m        \u001b[49m\u001b[33;43m\"\u001b[39;49m\u001b[33;43mdeployment/trends_and_insights_agent-0.1.0-py3-none-any.whl\u001b[39;49m\u001b[33;43m\"\u001b[39;49m\u001b[43m,\u001b[49m\n\u001b[32m     18\u001b[39m \u001b[43m    \u001b[49m\u001b[43m]\u001b[49m\u001b[43m,\u001b[49m\n\u001b[32m     19\u001b[39m \u001b[43m    \u001b[49m\u001b[43mextra_packages\u001b[49m\u001b[43m=\u001b[49m\u001b[43m[\u001b[49m\n\u001b[32m     20\u001b[39m \u001b[43m        \u001b[49m\u001b[33;43m\"\u001b[39;49m\u001b[33;43mdeployment/trends_and_insights_agent-0.1.0-py3-none-any.whl\u001b[39;49m\u001b[33;43m\"\u001b[39;49m\u001b[43m,\u001b[49m\n\u001b[32m     21\u001b[39m \u001b[43m    \u001b[49m\u001b[43m]\u001b[49m\u001b[43m,\u001b[49m\n\u001b[32m     22\u001b[39m \u001b[43m)\u001b[49m\n",
      "\u001b[36mFile \u001b[39m\u001b[32m~/zghost/.venv/lib/python3.12/site-packages/vertexai/agent_engines/__init__.py:146\u001b[39m, in \u001b[36mcreate\u001b[39m\u001b[34m(agent_engine, requirements, display_name, description, gcs_dir_name, extra_packages, env_vars)\u001b[39m\n\u001b[32m     60\u001b[39m \u001b[38;5;28;01mdef\u001b[39;00m\u001b[38;5;250m \u001b[39m\u001b[34mcreate\u001b[39m(\n\u001b[32m     61\u001b[39m     agent_engine: Optional[Union[Queryable, OperationRegistrable]] = \u001b[38;5;28;01mNone\u001b[39;00m,\n\u001b[32m     62\u001b[39m     *,\n\u001b[32m   (...)\u001b[39m\u001b[32m     70\u001b[39m     ] = \u001b[38;5;28;01mNone\u001b[39;00m,\n\u001b[32m     71\u001b[39m ) -> AgentEngine:\n\u001b[32m     72\u001b[39m \u001b[38;5;250m    \u001b[39m\u001b[33;03m\"\"\"Creates a new Agent Engine.\u001b[39;00m\n\u001b[32m     73\u001b[39m \n\u001b[32m     74\u001b[39m \u001b[33;03m    The Agent Engine will be an instance of the `agent_engine` that\u001b[39;00m\n\u001b[32m   (...)\u001b[39m\u001b[32m    144\u001b[39m \u001b[33;03m        nonexistent file.\u001b[39;00m\n\u001b[32m    145\u001b[39m \u001b[33;03m    \"\"\"\u001b[39;00m\n\u001b[32m--> \u001b[39m\u001b[32m146\u001b[39m     \u001b[38;5;28;01mreturn\u001b[39;00m \u001b[43mAgentEngine\u001b[49m\u001b[43m.\u001b[49m\u001b[43mcreate\u001b[49m\u001b[43m(\u001b[49m\n\u001b[32m    147\u001b[39m \u001b[43m        \u001b[49m\u001b[43magent_engine\u001b[49m\u001b[43m=\u001b[49m\u001b[43magent_engine\u001b[49m\u001b[43m,\u001b[49m\n\u001b[32m    148\u001b[39m \u001b[43m        \u001b[49m\u001b[43mrequirements\u001b[49m\u001b[43m=\u001b[49m\u001b[43mrequirements\u001b[49m\u001b[43m,\u001b[49m\n\u001b[32m    149\u001b[39m \u001b[43m        \u001b[49m\u001b[43mdisplay_name\u001b[49m\u001b[43m=\u001b[49m\u001b[43mdisplay_name\u001b[49m\u001b[43m,\u001b[49m\n\u001b[32m    150\u001b[39m \u001b[43m        \u001b[49m\u001b[43mdescription\u001b[49m\u001b[43m=\u001b[49m\u001b[43mdescription\u001b[49m\u001b[43m,\u001b[49m\n\u001b[32m    151\u001b[39m \u001b[43m        \u001b[49m\u001b[43mgcs_dir_name\u001b[49m\u001b[43m=\u001b[49m\u001b[43mgcs_dir_name\u001b[49m\u001b[43m,\u001b[49m\n\u001b[32m    152\u001b[39m \u001b[43m        \u001b[49m\u001b[43mextra_packages\u001b[49m\u001b[43m=\u001b[49m\u001b[43mextra_packages\u001b[49m\u001b[43m,\u001b[49m\n\u001b[32m    153\u001b[39m \u001b[43m        \u001b[49m\u001b[43menv_vars\u001b[49m\u001b[43m=\u001b[49m\u001b[43menv_vars\u001b[49m\u001b[43m,\u001b[49m\n\u001b[32m    154\u001b[39m \u001b[43m    \u001b[49m\u001b[43m)\u001b[49m\n",
      "\u001b[36mFile \u001b[39m\u001b[32m~/zghost/.venv/lib/python3.12/site-packages/vertexai/agent_engines/_agent_engines.py:422\u001b[39m, in \u001b[36mAgentEngine.create\u001b[39m\u001b[34m(cls, agent_engine, requirements, display_name, description, gcs_dir_name, extra_packages, env_vars)\u001b[39m\n\u001b[32m    418\u001b[39m _LOGGER.log_create_with_lro(\u001b[38;5;28mcls\u001b[39m, operation_future)\n\u001b[32m    419\u001b[39m _LOGGER.info(\n\u001b[32m    420\u001b[39m     \u001b[33mf\u001b[39m\u001b[33m\"\u001b[39m\u001b[33mView progress and logs at https://console.cloud.google.com/logs/query?project=\u001b[39m\u001b[38;5;132;01m{\u001b[39;00msdk_resource.project\u001b[38;5;132;01m}\u001b[39;00m\u001b[33m\"\u001b[39m\n\u001b[32m    421\u001b[39m )\n\u001b[32m--> \u001b[39m\u001b[32m422\u001b[39m created_resource = \u001b[43moperation_future\u001b[49m\u001b[43m.\u001b[49m\u001b[43mresult\u001b[49m\u001b[43m(\u001b[49m\u001b[43m)\u001b[49m\n\u001b[32m    423\u001b[39m _LOGGER.info(\u001b[33mf\u001b[39m\u001b[33m\"\u001b[39m\u001b[38;5;132;01m{\u001b[39;00m\u001b[38;5;28mcls\u001b[39m.\u001b[34m__name__\u001b[39m\u001b[38;5;132;01m}\u001b[39;00m\u001b[33m created. Resource name: \u001b[39m\u001b[38;5;132;01m{\u001b[39;00mcreated_resource.name\u001b[38;5;132;01m}\u001b[39;00m\u001b[33m\"\u001b[39m)\n\u001b[32m    424\u001b[39m _LOGGER.info(\u001b[33mf\u001b[39m\u001b[33m\"\u001b[39m\u001b[33mTo use this \u001b[39m\u001b[38;5;132;01m{\u001b[39;00m\u001b[38;5;28mcls\u001b[39m.\u001b[34m__name__\u001b[39m\u001b[38;5;132;01m}\u001b[39;00m\u001b[33m in another session:\u001b[39m\u001b[33m\"\u001b[39m)\n",
      "\u001b[36mFile \u001b[39m\u001b[32m~/zghost/.venv/lib/python3.12/site-packages/google/api_core/future/polling.py:256\u001b[39m, in \u001b[36mPollingFuture.result\u001b[39m\u001b[34m(self, timeout, retry, polling)\u001b[39m\n\u001b[32m    144\u001b[39m \u001b[38;5;28;01mdef\u001b[39;00m\u001b[38;5;250m \u001b[39m\u001b[34mresult\u001b[39m(\u001b[38;5;28mself\u001b[39m, timeout=_DEFAULT_VALUE, retry=\u001b[38;5;28;01mNone\u001b[39;00m, polling=\u001b[38;5;28;01mNone\u001b[39;00m):\n\u001b[32m    145\u001b[39m \u001b[38;5;250m    \u001b[39m\u001b[33;03m\"\"\"Get the result of the operation.\u001b[39;00m\n\u001b[32m    146\u001b[39m \n\u001b[32m    147\u001b[39m \u001b[33;03m    This method will poll for operation status periodically, blocking if\u001b[39;00m\n\u001b[32m   (...)\u001b[39m\u001b[32m    253\u001b[39m \u001b[33;03m            the timeout is reached before the operation completes.\u001b[39;00m\n\u001b[32m    254\u001b[39m \u001b[33;03m    \"\"\"\u001b[39;00m\n\u001b[32m--> \u001b[39m\u001b[32m256\u001b[39m     \u001b[38;5;28;43mself\u001b[39;49m\u001b[43m.\u001b[49m\u001b[43m_blocking_poll\u001b[49m\u001b[43m(\u001b[49m\u001b[43mtimeout\u001b[49m\u001b[43m=\u001b[49m\u001b[43mtimeout\u001b[49m\u001b[43m,\u001b[49m\u001b[43m \u001b[49m\u001b[43mretry\u001b[49m\u001b[43m=\u001b[49m\u001b[43mretry\u001b[49m\u001b[43m,\u001b[49m\u001b[43m \u001b[49m\u001b[43mpolling\u001b[49m\u001b[43m=\u001b[49m\u001b[43mpolling\u001b[49m\u001b[43m)\u001b[49m\n\u001b[32m    258\u001b[39m     \u001b[38;5;28;01mif\u001b[39;00m \u001b[38;5;28mself\u001b[39m._exception \u001b[38;5;129;01mis\u001b[39;00m \u001b[38;5;129;01mnot\u001b[39;00m \u001b[38;5;28;01mNone\u001b[39;00m:\n\u001b[32m    259\u001b[39m         \u001b[38;5;66;03m# pylint: disable=raising-bad-type\u001b[39;00m\n\u001b[32m    260\u001b[39m         \u001b[38;5;66;03m# Pylint doesn't recognize that this is valid in this case.\u001b[39;00m\n\u001b[32m    261\u001b[39m         \u001b[38;5;28;01mraise\u001b[39;00m \u001b[38;5;28mself\u001b[39m._exception\n",
      "\u001b[36mFile \u001b[39m\u001b[32m~/zghost/.venv/lib/python3.12/site-packages/google/api_core/future/polling.py:137\u001b[39m, in \u001b[36mPollingFuture._blocking_poll\u001b[39m\u001b[34m(self, timeout, retry, polling)\u001b[39m\n\u001b[32m    134\u001b[39m     polling = polling.with_timeout(timeout)\n\u001b[32m    136\u001b[39m \u001b[38;5;28;01mtry\u001b[39;00m:\n\u001b[32m--> \u001b[39m\u001b[32m137\u001b[39m     \u001b[43mpolling\u001b[49m\u001b[43m(\u001b[49m\u001b[38;5;28;43mself\u001b[39;49m\u001b[43m.\u001b[49m\u001b[43m_done_or_raise\u001b[49m\u001b[43m)\u001b[49m\u001b[43m(\u001b[49m\u001b[43mretry\u001b[49m\u001b[43m=\u001b[49m\u001b[43mretry\u001b[49m\u001b[43m)\u001b[49m\n\u001b[32m    138\u001b[39m \u001b[38;5;28;01mexcept\u001b[39;00m exceptions.RetryError:\n\u001b[32m    139\u001b[39m     \u001b[38;5;28;01mraise\u001b[39;00m concurrent.futures.TimeoutError(\n\u001b[32m    140\u001b[39m         \u001b[33mf\u001b[39m\u001b[33m\"\u001b[39m\u001b[33mOperation did not complete within the designated timeout of \u001b[39m\u001b[33m\"\u001b[39m\n\u001b[32m    141\u001b[39m         \u001b[33mf\u001b[39m\u001b[33m\"\u001b[39m\u001b[38;5;132;01m{\u001b[39;00mpolling.timeout\u001b[38;5;132;01m}\u001b[39;00m\u001b[33m seconds.\u001b[39m\u001b[33m\"\u001b[39m\n\u001b[32m    142\u001b[39m     )\n",
      "\u001b[36mFile \u001b[39m\u001b[32m~/zghost/.venv/lib/python3.12/site-packages/google/api_core/retry/retry_unary.py:293\u001b[39m, in \u001b[36mRetry.__call__.<locals>.retry_wrapped_func\u001b[39m\u001b[34m(*args, **kwargs)\u001b[39m\n\u001b[32m    289\u001b[39m target = functools.partial(func, *args, **kwargs)\n\u001b[32m    290\u001b[39m sleep_generator = exponential_sleep_generator(\n\u001b[32m    291\u001b[39m     \u001b[38;5;28mself\u001b[39m._initial, \u001b[38;5;28mself\u001b[39m._maximum, multiplier=\u001b[38;5;28mself\u001b[39m._multiplier\n\u001b[32m    292\u001b[39m )\n\u001b[32m--> \u001b[39m\u001b[32m293\u001b[39m \u001b[38;5;28;01mreturn\u001b[39;00m \u001b[43mretry_target\u001b[49m\u001b[43m(\u001b[49m\n\u001b[32m    294\u001b[39m \u001b[43m    \u001b[49m\u001b[43mtarget\u001b[49m\u001b[43m,\u001b[49m\n\u001b[32m    295\u001b[39m \u001b[43m    \u001b[49m\u001b[38;5;28;43mself\u001b[39;49m\u001b[43m.\u001b[49m\u001b[43m_predicate\u001b[49m\u001b[43m,\u001b[49m\n\u001b[32m    296\u001b[39m \u001b[43m    \u001b[49m\u001b[43msleep_generator\u001b[49m\u001b[43m,\u001b[49m\n\u001b[32m    297\u001b[39m \u001b[43m    \u001b[49m\u001b[43mtimeout\u001b[49m\u001b[43m=\u001b[49m\u001b[38;5;28;43mself\u001b[39;49m\u001b[43m.\u001b[49m\u001b[43m_timeout\u001b[49m\u001b[43m,\u001b[49m\n\u001b[32m    298\u001b[39m \u001b[43m    \u001b[49m\u001b[43mon_error\u001b[49m\u001b[43m=\u001b[49m\u001b[43mon_error\u001b[49m\u001b[43m,\u001b[49m\n\u001b[32m    299\u001b[39m \u001b[43m\u001b[49m\u001b[43m)\u001b[49m\n",
      "\u001b[36mFile \u001b[39m\u001b[32m~/zghost/.venv/lib/python3.12/site-packages/google/api_core/retry/retry_unary.py:164\u001b[39m, in \u001b[36mretry_target\u001b[39m\u001b[34m(target, predicate, sleep_generator, timeout, on_error, exception_factory, **kwargs)\u001b[39m\n\u001b[32m    153\u001b[39m         _retry_error_helper(\n\u001b[32m    154\u001b[39m             exc,\n\u001b[32m    155\u001b[39m             deadline,\n\u001b[32m   (...)\u001b[39m\u001b[32m    161\u001b[39m             timeout,\n\u001b[32m    162\u001b[39m         )\n\u001b[32m    163\u001b[39m         \u001b[38;5;66;03m# if exception not raised, sleep before next attempt\u001b[39;00m\n\u001b[32m--> \u001b[39m\u001b[32m164\u001b[39m         \u001b[43mtime\u001b[49m\u001b[43m.\u001b[49m\u001b[43msleep\u001b[49m\u001b[43m(\u001b[49m\u001b[43msleep\u001b[49m\u001b[43m)\u001b[49m\n\u001b[32m    166\u001b[39m \u001b[38;5;28;01mraise\u001b[39;00m \u001b[38;5;167;01mValueError\u001b[39;00m(\u001b[33m\"\u001b[39m\u001b[33mSleep generator stopped yielding sleep values.\u001b[39m\u001b[33m\"\u001b[39m)\n",
      "\u001b[31mKeyboardInterrupt\u001b[39m: "
     ]
    }
   ],
   "source": [
    "import vertexai\n",
    "from vertexai import agent_engines\n",
    "\n",
    "GOOGLE_CLOUD_PROJECT = os.getenv(\"GOOGLE_CLOUD_PROJECT\")\n",
    "APP_NAME = \"retail-data-agent\"\n",
    "BUCKET = os.getenv(\"BUCKET\")\n",
    "\n",
    "vertexai.init(\n",
    "    project=GOOGLE_CLOUD_PROJECT,\n",
    "    location=\"us-central1\",\n",
    "    staging_bucket=BUCKET,\n",
    ")\n",
    "\n",
    "remote_agent = agent_engines.create(\n",
    "    agent_engine=my_agent,\n",
    "    requirements=[\n",
    "        \"deployment/trends_and_insights_agent-0.1.0-py3-none-any.whl\",\n",
    "    ],\n",
    "    extra_packages=[\n",
    "        \"deployment/trends_and_insights_agent-0.1.0-py3-none-any.whl\",\n",
    "    ],\n",
    ")"
   ]
  },
  {
   "cell_type": "markdown",
   "id": "c614619e",
   "metadata": {},
   "source": []
  },
  {
   "cell_type": "markdown",
   "id": "b1687a38",
   "metadata": {},
   "source": [
    "### Save the agent engine resource name\n",
    "\n",
    "This can be used by the command to deploy it to Agentspace\n",
    "\n",
    "```bash\n",
    "agent_engine = vertexai.agent_engines.get('projects/679926387543/locations/us-central1/reasoningEngines/1093257605637210112')\n",
    "```\n",
    "\n",
    "## 5. Try it remotely"
   ]
  },
  {
   "cell_type": "code",
   "execution_count": null,
   "id": "592e9803",
   "metadata": {},
   "outputs": [
    {
     "data": {
      "text/plain": [
       "{'events': [],\n",
       " 'last_update_time': 1744661630.683849,\n",
       " 'state': {},\n",
       " 'id': '2567100715868618752',\n",
       " 'app_name': '4697966894882226176',\n",
       " 'user_id': 'jwortz'}"
      ]
     },
     "execution_count": 5,
     "metadata": {},
     "output_type": "execute_result"
    }
   ],
   "source": [
    "session1 = remote_agent.create_session(user_id=\"jwortz\")\n",
    "session1"
   ]
  },
  {
   "cell_type": "markdown",
   "id": "5ecd44fa",
   "metadata": {},
   "source": [
    "#### Same idea above applies to remote agents"
   ]
  },
  {
   "cell_type": "code",
   "execution_count": null,
   "id": "63c680ce",
   "metadata": {},
   "outputs": [],
   "source": [
    "first_prompt = f\"Check out the {EXAMPLE_BRIEF} and come up with some good campaign ideas. Be sure to generate a few image ideas for the campaign.\"\n",
    "stream_agent(remote_agent, first_prompt)"
   ]
  },
  {
   "cell_type": "markdown",
   "id": "7b0a204b",
   "metadata": {},
   "source": [
    "# 6. Optional Cleanup"
   ]
  },
  {
   "cell_type": "code",
   "execution_count": null,
   "id": "9f77a789",
   "metadata": {},
   "outputs": [],
   "source": [
    "remote_agent.delete(force=True)"
   ]
  }
 ],
 "metadata": {
  "kernelspec": {
   "display_name": ".venv",
   "language": "python",
   "name": "python3"
  },
  "language_info": {
   "codemirror_mode": {
    "name": "ipython",
    "version": 3
   },
   "file_extension": ".py",
   "mimetype": "text/x-python",
   "name": "python",
   "nbconvert_exporter": "python",
   "pygments_lexer": "ipython3",
   "version": "3.12.2"
  }
 },
 "nbformat": 4,
 "nbformat_minor": 5
}
