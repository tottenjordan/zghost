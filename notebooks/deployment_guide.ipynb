{
 "cells": [
  {
   "cell_type": "markdown",
   "id": "893019e7",
   "metadata": {},
   "source": [
    "# How to deploy ADK Apps to Agent Engine\n",
    "\n",
    "[Documentation link 🔗](https://google.github.io/adk-docs/deploy/agent-engine/)\n",
    "\n",
    "## 1. Set the local environment variables\n",
    "These will be used in the Agent Engine deployment"
   ]
  },
  {
   "cell_type": "code",
   "execution_count": 1,
   "id": "eac665f1",
   "metadata": {},
   "outputs": [
    {
     "data": {
      "text/plain": [
       "True"
      ]
     },
     "execution_count": 1,
     "metadata": {},
     "output_type": "execute_result"
    }
   ],
   "source": [
    "from dotenv import load_dotenv\n",
    "import os\n",
    "\n",
    "load_dotenv(\"../trends_and_insights_agent/.env\")  # take environment variables"
   ]
  },
  {
   "cell_type": "markdown",
   "id": "54c0699d",
   "metadata": {},
   "source": [
    "## 2. Set up the `AdkApp` Convenience wrapper for ADK Agents -> Agent Engine\n",
    "\n",
    "Note the injection of the environment variables."
   ]
  },
  {
   "cell_type": "code",
   "execution_count": 2,
   "id": "f0e0e53c",
   "metadata": {},
   "outputs": [
    {
     "name": "stderr",
     "output_type": "stream",
     "text": [
      "INFO:root:\n",
      "\n",
      "`SESSION_STATE_JSON_PATH`: None\n",
      "\n",
      "\n",
      "INFO:googleapiclient.discovery_cache:file_cache is only supported with oauth2client<4.0.0\n",
      "/Users/jwortz/repos/zghost/zghost/.venv/lib/python3.12/site-packages/google/cloud/bigquery/table.py:1965: UserWarning: BigQuery Storage module not found, fetch data with the REST endpoint instead.\n",
      "  warnings.warn(\n",
      "/Users/jwortz/repos/zghost/zghost/trends_and_insights_agent/common_agents/trend_assistant/tools.py:153: FutureWarning: Series.__getitem__ treating keys as positions is deprecated. In a future version, integer keys will always be treated as labels (consistent with DataFrame behavior). To access a value by position, use `ser.iloc[pos]`\n",
      "  return max_date.iloc[0][0].strftime(\"%m/%d/%Y\")\n",
      "INFO:googleapiclient.discovery_cache:file_cache is only supported with oauth2client<4.0.0\n"
     ]
    }
   ],
   "source": [
    "from vertexai.preview.reasoning_engines import AdkApp\n",
    "from google.adk.artifacts import GcsArtifactService\n",
    "from google.adk.sessions import VertexAiSessionService\n",
    "\n",
    "from trends_and_insights_agent import agent\n",
    "\n",
    "env_vars = {}\n",
    "\n",
    "env_vars[\"GOOGLE_GENAI_USE_VERTEXAI\"] = os.getenv(\"GOOGLE_GENAI_USE_VERTEXAI\")\n",
    "env_vars[\"BUCKET\"] = os.getenv(\"BUCKET\", \"gs://default-bucket\")\n",
    "env_vars[\"GOOGLE_CLOUD_PROJECT_NUMBER\"] = os.getenv(\"GOOGLE_CLOUD_PROJECT_NUMBER\")\n",
    "env_vars[\"YT_SECRET_MNGR_NAME\"] = os.getenv(\"YT_SECRET_MNGR_NAME\")\n",
    "# env_vars[\"SESSION_STATE_JSON_PATH\"] = os.getenv(\"SESSION_STATE_JSON_PATH\")\n",
    "\n",
    "\n",
    "my_agent = AdkApp(\n",
    "    agent=agent.root_agent,\n",
    "    enable_tracing=True,\n",
    "    env_vars=env_vars,\n",
    ")"
   ]
  },
  {
   "cell_type": "markdown",
   "id": "e500ea11",
   "metadata": {},
   "source": [
    "# 3. Test the Agent Engine locally"
   ]
  },
  {
   "cell_type": "code",
   "execution_count": 3,
   "id": "33be24e1",
   "metadata": {},
   "outputs": [
    {
     "data": {
      "text/plain": [
       "Session(id='12345', app_name='default-app-name', user_id='jwortz', state={}, events=[], last_update_time=1753822682.469465)"
      ]
     },
     "execution_count": 3,
     "metadata": {},
     "output_type": "execute_result"
    }
   ],
   "source": [
    "session = my_agent.create_session(user_id=\"jwortz\", session_id=\"12345\")\n",
    "session"
   ]
  },
  {
   "cell_type": "code",
   "execution_count": 4,
   "id": "a1a96d83",
   "metadata": {},
   "outputs": [
    {
     "data": {
      "text/plain": [
       "ListSessionsResponse(sessions=[Session(id='12345', app_name='default-app-name', user_id='jwortz', state={}, events=[], last_update_time=1753822682.469465)])"
      ]
     },
     "execution_count": 4,
     "metadata": {},
     "output_type": "execute_result"
    }
   ],
   "source": [
    "my_agent.list_sessions(user_id=\"jwortz\")"
   ]
  },
  {
   "cell_type": "code",
   "execution_count": 9,
   "id": "d371bfe6",
   "metadata": {},
   "outputs": [],
   "source": [
    "from pprint import pprint\n",
    "\n",
    "\n",
    "def stream_agent(agent, prompt: str, session) -> None | Exception:\n",
    "    try:\n",
    "        session_id = session[\"id\"]\n",
    "    # local prefers attributes vs. remote prefers dict keys\n",
    "    except TypeError:\n",
    "        session_id = session.id\n",
    "    except Exception as e:\n",
    "        return f\"Session Object not valid: {e}\"\n",
    "\n",
    "    for event in agent.stream_query(\n",
    "        user_id=\"jwortz\",\n",
    "        session_id=session_id,\n",
    "        message=prompt,\n",
    "    ):\n",
    "        pprint(event)"
   ]
  },
  {
   "cell_type": "code",
   "execution_count": 6,
   "id": "6a10dd01",
   "metadata": {},
   "outputs": [
    {
     "name": "stderr",
     "output_type": "stream",
     "text": [
      "INFO:root:\n",
      "\n",
      "Loading Initial State (empty): {'state': {'final_select_ad_copies': {'final_select_ad_copies': []}, 'final_select_vis_concepts': {'final_select_vis_concepts': []}, 'img_artifact_keys': {'img_artifact_keys': []}, 'vid_artifact_keys': {'vid_artifact_keys': []}, 'brand': '', 'target_product': '', 'target_audience': '', 'key_selling_points': '', 'target_search_trends': {'target_search_trends': []}, 'target_yt_trends': {'target_yt_trends': []}}}\n",
      "\n",
      "\n",
      "INFO:google_adk.google.adk.models.google_llm:Sending out request, model: gemini-2.5-flash, backend: GoogleLLMVariant.VERTEX_AI, stream: False\n",
      "INFO:google_adk.google.adk.models.google_llm:\n",
      "LLM Request:\n",
      "-----------------------------------------------------------\n",
      "System Instruction:\n",
      "\n",
      "You are a helpful AI assistant, part of a multi-agent system designed for advanced web research and ad creative generation.\n",
      "Do not perform any research yourself. Your job is to **delegate**.\n",
      "\n",
      "\n",
      "You are an Expert AI Marketing Research & Strategy Assistant. \n",
      "\n",
      "Your primary function is to orchestrate a suite of **specialized tools and sub-agents** to provide users with comprehensive insights, trend analysis, and creative ideas for their marketing campaigns. \n",
      "\n",
      "\n",
      "**Instructions:**\n",
      "Start by greeting the user and giving them a high-level overview of what you do. Then proceed sequentially with the tasks below:\n",
      "\n",
      "1. First, transfer to the `trends_and_insights_agent` sub-agent to capture any unknown campaign metadata and help the user find interesting trends.\n",
      "2. Once the trends are selected, transfer to the `research_orchestrator` sub-agent to coordinate multiple rounds of research. Strictly follow all the steps one-by-one. Do not skip any steps or execute them out of order.\n",
      "3. After all research tasks are complete, show the URL and confirm the pdf output to the user. Pause and ask if the report looks good, if it does then transfer to the `ad_content_generator_agent` sub-agent to generate ad creatives based on the campaign metadata, trend analysis, and web research.\n",
      "4. After all creatives are generated and the user is satisfied, use the `save_creatives_and_research_report` tool to build the final report outlining the web research and ad creatives.\n",
      "\n",
      "\n",
      "**Sub-agents:**\n",
      "- Use `trends_and_insights_agent` to gather inputs from the user e.g., campaign metadata, search trend(s), and trending Youtube video(s) of interest.\n",
      "- Use `research_orchestrator` to coordinate and execute all research tasks.\n",
      "- Use `ad_content_generator_agent` to help the user create visual concepts for ads.\n",
      "\n",
      "\n",
      "**Tools:**\n",
      "- Use `save_creatives_and_research_report` tool to build the final report, detailing research and creatives generated during a session, and save it as an artifact. Only use this tool after the `ad_content_generator_agent` sub-agent is finished.\n",
      "\n",
      "\n",
      "**Campaign metadata:**\n",
      "\n",
      "    <brand></brand>\n",
      "\n",
      "    <target_product></target_product>\n",
      "\n",
      "    <key_selling_points>\n",
      "    \n",
      "    </key_selling_points>\n",
      "\n",
      "    <target_audience>\n",
      "    \n",
      "    </target_audience>\n",
      "\n",
      "\n",
      "\n",
      "You are an agent. Your internal name is \"root_agent\".\n",
      "\n",
      " The description about you is \"A trend and insight assistant using the services of multiple sub-agents.\"\n",
      "\n",
      "\n",
      "You have a list of other agents to transfer to:\n",
      "\n",
      "\n",
      "Agent name: research_orchestrator\n",
      "Agent description: Orchestrate comprehensive research for the campaign metadata and trending topics.\n",
      "\n",
      "\n",
      "Agent name: trends_and_insights_agent\n",
      "Agent description: Captures campaign metadata and displays trending topics from Google Search and trending videos from YouTube.\n",
      "\n",
      "\n",
      "Agent name: ad_content_generator_agent\n",
      "Agent description: Help users with ad generation; brainstorm and refine ad copy and visual concept ideas with actor-critic workflows; iterate with the user to generate final ad creatives.\n",
      "\n",
      "\n",
      "If you are the best to answer the question according to your description, you\n",
      "can answer it.\n",
      "\n",
      "If another agent is better for answering the question according to its\n",
      "description, call `transfer_to_agent` function to transfer the\n",
      "question to that agent. When transferring, do not generate any text other than\n",
      "the function call.\n",
      "\n",
      "-----------------------------------------------------------\n",
      "Contents:\n",
      "{\"parts\":[{\"text\":\"Hello\"}],\"role\":\"user\"}\n",
      "-----------------------------------------------------------\n",
      "Functions:\n",
      "transfer_to_agent: {'agent_name': {'type': <Type.STRING: 'STRING'>}} \n",
      "save_creatives_and_research_report: {} -> {'type': <Type.OBJECT: 'OBJECT'>}\n",
      "-----------------------------------------------------------\n",
      "\n",
      "INFO:google_genai.models:AFC is enabled with max remote calls: 10.\n"
     ]
    },
    {
     "name": "stdout",
     "output_type": "stream",
     "text": [
      "{'actions': {'artifact_delta': {},\n",
      "             'requested_auth_configs': {},\n",
      "             'state_delta': {'_state_init': True,\n",
      "                             'brand': '',\n",
      "                             'final_select_ad_copies': {'final_select_ad_copies': []},\n",
      "                             'final_select_vis_concepts': {'final_select_vis_concepts': []},\n",
      "                             'gcs_folder': '2025_07_29_20_58',\n",
      "                             'img_artifact_keys': {'img_artifact_keys': []},\n",
      "                             'key_selling_points': '',\n",
      "                             'target_audience': '',\n",
      "                             'target_product': '',\n",
      "                             'target_search_trends': {'target_search_trends': []},\n",
      "                             'target_yt_trends': {'target_yt_trends': []},\n",
      "                             'vid_artifact_keys': {'vid_artifact_keys': []}}},\n",
      " 'author': 'root_agent',\n",
      " 'id': '3cc14e05-2e5b-44ba-b813-46731215579a',\n",
      " 'invocation_id': 'e-93e1dd23-03ec-4958-ac4a-9c043c66ab75',\n",
      " 'timestamp': 1753822688.410064}\n"
     ]
    },
    {
     "name": "stderr",
     "output_type": "stream",
     "text": [
      "WARNING:google_genai.types:Warning: there are non-text parts in the response: ['function_call'], returning concatenated text result from text parts. Check the full candidates.content.parts accessor to get the full model response.\n",
      "INFO:google_adk.google.adk.models.google_llm:\n",
      "LLM Response:\n",
      "-----------------------------------------------------------\n",
      "Text:\n",
      "Hello! I'm your AI Marketing Research & Strategy Assistant. I can help you with comprehensive insights, trend analysis, and creative ideas for your marketing campaigns.\n",
      "\n",
      "To get started, I'll transfer you to my `trends_and_insights_agent` sub-agent, who will help us capture your campaign metadata and identify interesting trends.\n",
      "\n",
      "-----------------------------------------------------------\n",
      "Function calls:\n",
      "name: transfer_to_agent, args: {'agent_name': 'trends_and_insights_agent'}\n",
      "-----------------------------------------------------------\n",
      "Raw response:\n",
      "{\"sdk_http_response\":{\"headers\":{\"Content-Type\":\"application/json; charset=UTF-8\",\"Vary\":\"Referer\",\"Content-Encoding\":\"gzip\",\"Date\":\"Tue, 29 Jul 2025 20:58:11 GMT\",\"Server\":\"scaffolding on HTTPServer2\",\"X-XSS-Protection\":\"0\",\"X-Frame-Options\":\"SAMEORIGIN\",\"X-Content-Type-Options\":\"nosniff\",\"Alt-Svc\":\"h3=\\\":443\\\"; ma=2592000,h3-29=\\\":443\\\"; ma=2592000\",\"Transfer-Encoding\":\"chunked\"}},\"candidates\":[{\"content\":{\"parts\":[{\"text\":\"Hello! I'm your AI Marketing Research & Strategy Assistant. I can help you with comprehensive insights, trend analysis, and creative ideas for your marketing campaigns.\\n\\nTo get started, I'll transfer you to my `trends_and_insights_agent` sub-agent, who will help us capture your campaign metadata and identify interesting trends.\\n\"},{\"function_call\":{\"args\":{\"agent_name\":\"trends_and_insights_agent\"},\"name\":\"transfer_to_agent\"}}],\"role\":\"model\"},\"finish_reason\":\"STOP\",\"avg_logprobs\":-0.16866639603015987}],\"create_time\":\"2025-07-29T20:58:09.113600Z\",\"response_id\":\"4TWJaMD3Bs2eld8Pgs7B0Ak\",\"model_version\":\"gemini-2.5-flash\",\"usage_metadata\":{\"candidates_token_count\":86,\"candidates_tokens_details\":[{\"modality\":\"TEXT\",\"token_count\":86}],\"prompt_token_count\":876,\"prompt_tokens_details\":[{\"modality\":\"TEXT\",\"token_count\":876}],\"thoughts_token_count\":58,\"total_token_count\":1020,\"traffic_type\":\"ON_DEMAND\"},\"automatic_function_calling_history\":[]}\n",
      "-----------------------------------------------------------\n",
      "\n",
      "INFO:google_adk.google.adk.models.google_llm:Sending out request, model: gemini-2.5-flash, backend: GoogleLLMVariant.VERTEX_AI, stream: False\n",
      "INFO:google_adk.google.adk.models.google_llm:\n",
      "LLM Request:\n",
      "-----------------------------------------------------------\n",
      "System Instruction:\n",
      "\n",
      "You are a helpful AI assistant, part of a multi-agent system designed for advanced web research and ad creative generation.\n",
      "Do not perform any research yourself. Your job is to **delegate**.\n",
      "\n",
      "\n",
      "\n",
      "You are a planning agent who helps users create marketing campaign briefs that will guide and inform downstream research and creative processes.\n",
      "- You do not conduct any research or creative processes. You are strictly helping users with their selections and preferences only.\n",
      "- You want to gather specific campaign-related metadata from the user. The actual research will be handled by transferring to the `combined_research_merger` later.\n",
      "\n",
      "You are responsible for capturing three categories of information:\n",
      "1. Campaign metadata e.g., brand, product, key selling points, and target audience.\n",
      "2. Trending topics from Google Search.\n",
      "3. Trending videos from YouTube.\n",
      "\n",
      "Your **objective** is to use the **available tools** to complete the **instructions** step-by-step.\n",
      "\n",
      "## Available Tools\n",
      "*   `get_daily_gtrends`: Use this tool to extract the top trends from Google Search for the current week.\n",
      "*   `get_youtube_trends`: Use this tool to query the YouTube Data API for the top trending YouTube videos.\n",
      "*   `save_yt_trends_to_session_state`: Use this tool to update the 'target_yt_trends' state variable with the user-selected video(s) trending on YouTube.\n",
      "*   `save_search_trends_to_session_state`: Use this tool to update the 'target_search_trends' state variable with the user-selected Search Trend.\n",
      "*   `memorize`: Use this tool to store user selections in the session state.\n",
      "\n",
      "## Instructions\n",
      "1. Your goal is to help the user, by first completing the following information if any is blank:\n",
      "    <brand></brand>\n",
      "    <target_audience></target_audience>\n",
      "    <target_product></target_product>\n",
      "    <key_selling_points></key_selling_points>\n",
      "    \n",
      "2. Ask for missing information from the user.\n",
      "3. Use the `memorize` tool to store campaign metadata into the following variables:\n",
      "  - `brand`, \n",
      "  - `target_audience`\n",
      "  - `target_product` and \n",
      "  - `key_selling_points`\n",
      "  To make sure everything is stored correctly, instead of calling memorize all at once, chain the calls such that \n",
      "  you only call another `memorize` after the last call has responded. \n",
      "4. Use instructions from <FIND_SEARCH_TRENDS/> to find the user's desired Search trend.\n",
      "5. Use instructions from <FIND_YOUTUBE_TRENDS/> to find the user's desired trending YouTube video.\n",
      "6. Finally, once the above information is captured, reconfirm with user, if the user is satisfied, transfer to the `root_agent`.\n",
      "\n",
      "<FIND_SEARCH_TRENDS>\n",
      "- Use the `get_daily_gtrends` tool to display the top 25 trending Search terms to the user. This tool produces a formatted markdown table of the trends, which can be found in the 'markdown_table' key of the tool's response. You must display this markdown table to the user **in markdown format** \n",
      "- Work with the user to understand which trending topic they'd like to proceed with. Do not proceed to the next step until the user has selected a Search trend topic.\n",
      "- Once they choose a Search trend topic, use the `save_search_trends_to_session_state` tool to update the session state with the `term`, `rank`, and `refresh_date` from this Search trend topic.\n",
      "</FIND_SEARCH_TRENDS>\n",
      "\n",
      "<FIND_YOUTUBE_TRENDS>\n",
      "- Use the `get_youtube_trends` tool to extract the top trending videos on YouTube for the US. Display each trending video's title, duration, and URL to the user in a numbered list like this:\n",
      "    <Example>\n",
      "    1. **Video Title** - Duration - URL\n",
      "    2. **Video Title** - Duration - URL\n",
      "    3. **Video Title** - Duration - URL\n",
      "    </Example\n",
      "- Ask the user which trending video to proceed with. Don't proceed to the next step until the user has selected at least one trending video.\n",
      "- Once they choose a trending video, use the `save_yt_trends_to_session_state` tool to save their choice in the 'target_yt_trends' state key.\n",
      "</FIND_YOUTUBE_TRENDS>\n",
      "\n",
      "\n",
      "\n",
      "You are an agent. Your internal name is \"trends_and_insights_agent\".\n",
      "\n",
      " The description about you is \"Captures campaign metadata and displays trending topics from Google Search and trending videos from YouTube.\"\n",
      "\n",
      "\n",
      "You have a list of other agents to transfer to:\n",
      "\n",
      "\n",
      "Agent name: root_agent\n",
      "Agent description: A trend and insight assistant using the services of multiple sub-agents.\n",
      "\n",
      "\n",
      "Agent name: research_orchestrator\n",
      "Agent description: Orchestrate comprehensive research for the campaign metadata and trending topics.\n",
      "\n",
      "\n",
      "Agent name: ad_content_generator_agent\n",
      "Agent description: Help users with ad generation; brainstorm and refine ad copy and visual concept ideas with actor-critic workflows; iterate with the user to generate final ad creatives.\n",
      "\n",
      "\n",
      "If you are the best to answer the question according to your description, you\n",
      "can answer it.\n",
      "\n",
      "If another agent is better for answering the question according to its\n",
      "description, call `transfer_to_agent` function to transfer the\n",
      "question to that agent. When transferring, do not generate any text other than\n",
      "the function call.\n",
      "\n",
      "Your parent agent is root_agent. If neither the other agents nor\n",
      "you are best for answering the question according to the descriptions, transfer\n",
      "to your parent agent.\n",
      "\n",
      "-----------------------------------------------------------\n",
      "Contents:\n",
      "{\"parts\":[{\"text\":\"Hello\"}],\"role\":\"user\"}\n",
      "{\"parts\":[{\"text\":\"For context:\"},{\"text\":\"[root_agent] said: Hello! I'm your AI Marketing Research & Strategy Assistant. I can help you with comprehensive insights, trend analysis, and creative ideas for your marketing campaigns.\\n\\nTo get started, I'll transfer you to my `trends_and_insights_agent` sub-agent, who will help us capture your campaign metadata and identify interesting trends.\\n\"},{\"text\":\"[root_agent] called tool `transfer_to_agent` with parameters: {'agent_name': 'trends_and_insights_agent'}\"}],\"role\":\"user\"}\n",
      "{\"parts\":[{\"text\":\"For context:\"},{\"text\":\"[root_agent] `transfer_to_agent` tool returned result: {'result': None}\"}],\"role\":\"user\"}\n",
      "-----------------------------------------------------------\n",
      "Functions:\n",
      "transfer_to_agent: {'agent_name': {'type': <Type.STRING: 'STRING'>}} \n",
      "memorize: {'key': {'type': <Type.STRING: 'STRING'>}, 'value': {'type': <Type.STRING: 'STRING'>}} \n",
      "get_daily_gtrends: {'today_date': {'default': '07/28/2025', 'type': <Type.STRING: 'STRING'>}} -> {'type': <Type.OBJECT: 'OBJECT'>}\n",
      "get_youtube_trends: {'region_code': {'default': 'US', 'type': <Type.STRING: 'STRING'>}, 'max_results': {'default': 45, 'type': <Type.INTEGER: 'INTEGER'>}} -> {'type': <Type.OBJECT: 'OBJECT'>}\n",
      "save_yt_trends_to_session_state: {'selected_trends': {'type': <Type.OBJECT: 'OBJECT'>}} -> {'type': <Type.OBJECT: 'OBJECT'>}\n",
      "save_search_trends_to_session_state: {'new_trends': {'type': <Type.OBJECT: 'OBJECT'>}} -> {'type': <Type.OBJECT: 'OBJECT'>}\n",
      "-----------------------------------------------------------\n",
      "\n",
      "INFO:google_genai.models:AFC is enabled with max remote calls: 10.\n"
     ]
    },
    {
     "name": "stdout",
     "output_type": "stream",
     "text": [
      "{'actions': {'artifact_delta': {},\n",
      "             'requested_auth_configs': {},\n",
      "             'state_delta': {'request_count': 1,\n",
      "                             'timer_start': 1753822688.412184}},\n",
      " 'author': 'root_agent',\n",
      " 'content': {'parts': [{'text': \"Hello! I'm your AI Marketing Research & \"\n",
      "                                'Strategy Assistant. I can help you with '\n",
      "                                'comprehensive insights, trend analysis, and '\n",
      "                                'creative ideas for your marketing campaigns.\\n'\n",
      "                                '\\n'\n",
      "                                \"To get started, I'll transfer you to my \"\n",
      "                                '`trends_and_insights_agent` sub-agent, who '\n",
      "                                'will help us capture your campaign metadata '\n",
      "                                'and identify interesting trends.\\n'},\n",
      "                       {'function_call': {'args': {'agent_name': 'trends_and_insights_agent'},\n",
      "                                          'id': 'adk-20ead9ce-173d-42ae-939f-4ec7788068be',\n",
      "                                          'name': 'transfer_to_agent'}}],\n",
      "             'role': 'model'},\n",
      " 'id': 'c877dee8-06a8-40e4-9aae-b8f0b4c7a1a0',\n",
      " 'invocation_id': 'e-93e1dd23-03ec-4958-ac4a-9c043c66ab75',\n",
      " 'long_running_tool_ids': set(),\n",
      " 'timestamp': 1753822688.412144,\n",
      " 'usage_metadata': {'candidates_token_count': 86,\n",
      "                    'candidates_tokens_details': [{'modality': <MediaModality.TEXT: 'TEXT'>,\n",
      "                                                   'token_count': 86}],\n",
      "                    'prompt_token_count': 876,\n",
      "                    'prompt_tokens_details': [{'modality': <MediaModality.TEXT: 'TEXT'>,\n",
      "                                               'token_count': 876}],\n",
      "                    'thoughts_token_count': 58,\n",
      "                    'total_token_count': 1020,\n",
      "                    'traffic_type': <TrafficType.ON_DEMAND: 'ON_DEMAND'>}}\n",
      "{'actions': {'artifact_delta': {},\n",
      "             'requested_auth_configs': {},\n",
      "             'state_delta': {},\n",
      "             'transfer_to_agent': 'trends_and_insights_agent'},\n",
      " 'author': 'root_agent',\n",
      " 'content': {'parts': [{'function_response': {'id': 'adk-20ead9ce-173d-42ae-939f-4ec7788068be',\n",
      "                                              'name': 'transfer_to_agent',\n",
      "                                              'response': {'result': None}}}],\n",
      "             'role': 'user'},\n",
      " 'id': '369e547f-c225-41e5-a704-c4db98f87cc8',\n",
      " 'invocation_id': 'e-93e1dd23-03ec-4958-ac4a-9c043c66ab75',\n",
      " 'timestamp': 1753822691.095631}\n"
     ]
    },
    {
     "name": "stderr",
     "output_type": "stream",
     "text": [
      "INFO:google_adk.google.adk.models.google_llm:\n",
      "LLM Response:\n",
      "-----------------------------------------------------------\n",
      "Text:\n",
      "Hello! I'm your Trends and Insights Assistant. I can help you by gathering information for your marketing campaign.\n",
      "\n",
      "To start, please tell me the following:\n",
      "*   **Brand Name:**\n",
      "*   **Target Audience:**\n",
      "*   **Target Product:**\n",
      "*   **Key Selling Points of the product:**\n",
      "-----------------------------------------------------------\n",
      "Function calls:\n",
      "\n",
      "-----------------------------------------------------------\n",
      "Raw response:\n",
      "{\"sdk_http_response\":{\"headers\":{\"Content-Type\":\"application/json; charset=UTF-8\",\"Vary\":\"Referer\",\"Content-Encoding\":\"gzip\",\"Date\":\"Tue, 29 Jul 2025 20:58:13 GMT\",\"Server\":\"scaffolding on HTTPServer2\",\"X-XSS-Protection\":\"0\",\"X-Frame-Options\":\"SAMEORIGIN\",\"X-Content-Type-Options\":\"nosniff\",\"Alt-Svc\":\"h3=\\\":443\\\"; ma=2592000,h3-29=\\\":443\\\"; ma=2592000\",\"Transfer-Encoding\":\"chunked\"}},\"candidates\":[{\"content\":{\"parts\":[{\"text\":\"Hello! I'm your Trends and Insights Assistant. I can help you by gathering information for your marketing campaign.\\n\\nTo start, please tell me the following:\\n*   **Brand Name:**\\n*   **Target Audience:**\\n*   **Target Product:**\\n*   **Key Selling Points of the product:**\"}],\"role\":\"model\"},\"finish_reason\":\"STOP\",\"avg_logprobs\":-0.4005987020639273}],\"create_time\":\"2025-07-29T20:58:11.789748Z\",\"response_id\":\"4zWJaPSZMI38ld8PhZnKuQM\",\"model_version\":\"gemini-2.5-flash\",\"usage_metadata\":{\"candidates_token_count\":65,\"candidates_tokens_details\":[{\"modality\":\"TEXT\",\"token_count\":65}],\"prompt_token_count\":2203,\"prompt_tokens_details\":[{\"modality\":\"TEXT\",\"token_count\":2203}],\"thoughts_token_count\":82,\"total_token_count\":2350,\"traffic_type\":\"ON_DEMAND\"},\"automatic_function_calling_history\":[]}\n",
      "-----------------------------------------------------------\n",
      "\n"
     ]
    },
    {
     "name": "stdout",
     "output_type": "stream",
     "text": [
      "{'actions': {'artifact_delta': {},\n",
      "             'requested_auth_configs': {},\n",
      "             'state_delta': {}},\n",
      " 'author': 'trends_and_insights_agent',\n",
      " 'content': {'parts': [{'text': \"Hello! I'm your Trends and Insights \"\n",
      "                                'Assistant. I can help you by gathering '\n",
      "                                'information for your marketing campaign.\\n'\n",
      "                                '\\n'\n",
      "                                'To start, please tell me the following:\\n'\n",
      "                                '*   **Brand Name:**\\n'\n",
      "                                '*   **Target Audience:**\\n'\n",
      "                                '*   **Target Product:**\\n'\n",
      "                                '*   **Key Selling Points of the product:**'}],\n",
      "             'role': 'model'},\n",
      " 'id': 'f7798729-2f6a-4c9d-9cd5-006f955e8c7e',\n",
      " 'invocation_id': 'e-93e1dd23-03ec-4958-ac4a-9c043c66ab75',\n",
      " 'timestamp': 1753822691.101807,\n",
      " 'usage_metadata': {'candidates_token_count': 65,\n",
      "                    'candidates_tokens_details': [{'modality': <MediaModality.TEXT: 'TEXT'>,\n",
      "                                                   'token_count': 65}],\n",
      "                    'prompt_token_count': 2203,\n",
      "                    'prompt_tokens_details': [{'modality': <MediaModality.TEXT: 'TEXT'>,\n",
      "                                               'token_count': 2203}],\n",
      "                    'thoughts_token_count': 82,\n",
      "                    'total_token_count': 2350,\n",
      "                    'traffic_type': <TrafficType.ON_DEMAND: 'ON_DEMAND'>}}\n"
     ]
    }
   ],
   "source": [
    "first_prompt = f\"Hello\"\n",
    "stream_agent(my_agent, first_prompt, session)"
   ]
  },
  {
   "cell_type": "code",
   "execution_count": null,
   "id": "2a3bc0a2",
   "metadata": {},
   "outputs": [],
   "source": [
    "followup_prompt = \"Create images from these great ideas!\"\n",
    "stream_agent(my_agent, followup_prompt, session)"
   ]
  },
  {
   "cell_type": "markdown",
   "id": "2c97ad97",
   "metadata": {},
   "source": [
    "## 4. Deploy to Vertex AI Agent Engine\n",
    "To call and manage agents in production, deploy the agent to Vertex AI Agent Engine.\n",
    "\n",
    "**Important - run `poetry build` to package the agent**"
   ]
  },
  {
   "cell_type": "code",
   "execution_count": 5,
   "id": "3a022bf9",
   "metadata": {},
   "outputs": [
    {
     "name": "stdout",
     "output_type": "stream",
     "text": [
      "Building \u001b[36mtrends_and_insights_agent\u001b[39m (\u001b[39;1m0.1.0\u001b[39;22m)\n",
      "Building \u001b[34mwheel\u001b[39m\n",
      "  - Building \u001b[34mwheel\u001b[39m\n",
      "  - Built \u001b[32mtrends_and_insights_agent-0.1.0-py3-none-any.whl\u001b[39m\n"
     ]
    }
   ],
   "source": [
    "! poetry build --format=wheel --output=notebooks/deployment"
   ]
  },
  {
   "cell_type": "markdown",
   "id": "76974f85",
   "metadata": {},
   "source": [
    "#### Initialize the Vertex client, then create a `remote_agent` that is deployed to Vertex\n",
    "\n",
    "This also takes the packaged agent code. This is required for more complex agents that have nested dependencies and require packaging\n",
    "\n",
    "Also, before running - be sure to give Secret Manager access to the Agent Engine service account. This can simply be done by running `. setup_ae_sm_access.sh`.\n",
    "\n",
    "The code can also be ran as follows (relative to repo root):\n",
    "\n",
    "```bash\n",
    "source trends_and_insights_agent/.env\n",
    "\n",
    "export RE_SA=\"service-${GOOGLE_CLOUD_PROJECT_NUMBER}@gcp-sa-aiplatform-re.iam.gserviceaccount.com\"\n",
    "gcloud secrets add-iam-policy-binding \"projects/$GOOGLE_CLOUD_PROJECT/secrets/$YT_SECRET_MNGR_NAME\" \\\n",
    "  --member=\"serviceAccount:$RE_SA\" \\\n",
    "  --role=\"roles/secretmanager.secretAccessor\"\n",
    "```"
   ]
  },
  {
   "cell_type": "code",
   "execution_count": 4,
   "id": "f10d3166",
   "metadata": {},
   "outputs": [],
   "source": [
    "from vertexai import agent_engines  # optional cleanup\n",
    "\n",
    "for agent in agent_engines.list():\n",
    "    agent.delete(force=True)"
   ]
  },
  {
   "cell_type": "code",
   "execution_count": 6,
   "id": "1b7eea3c",
   "metadata": {},
   "outputs": [
    {
     "name": "stdout",
     "output_type": "stream",
     "text": [
      "Identified the following requirements: {'pydantic': '2.11.7', 'cloudpickle': '3.1.1', 'google-cloud-aiplatform': '1.105.0'}\n"
     ]
    },
    {
     "name": "stderr",
     "output_type": "stream",
     "text": [
      "INFO:vertexai.agent_engines:Identified the following requirements: {'pydantic': '2.11.7', 'cloudpickle': '3.1.1', 'google-cloud-aiplatform': '1.105.0'}\n"
     ]
    },
    {
     "name": "stdout",
     "output_type": "stream",
     "text": [
      "Failed to parse constraint: deployment/trends_and_insights_agent-0.1.0-py3-none-any.whl. Exception: Expected end or semicolon (after name and no valid version specifier)\n",
      "    deployment/trends_and_insights_agent-0.1.0-py3-none-any.whl\n",
      "              ^\n"
     ]
    },
    {
     "name": "stderr",
     "output_type": "stream",
     "text": [
      "WARNING:vertexai.agent_engines:Failed to parse constraint: deployment/trends_and_insights_agent-0.1.0-py3-none-any.whl. Exception: Expected end or semicolon (after name and no valid version specifier)\n",
      "    deployment/trends_and_insights_agent-0.1.0-py3-none-any.whl\n",
      "              ^\n"
     ]
    },
    {
     "name": "stdout",
     "output_type": "stream",
     "text": [
      "The following requirements are missing: {'pydantic', 'cloudpickle', 'google-cloud-aiplatform'}\n"
     ]
    },
    {
     "name": "stderr",
     "output_type": "stream",
     "text": [
      "WARNING:vertexai.agent_engines:The following requirements are missing: {'pydantic', 'cloudpickle', 'google-cloud-aiplatform'}\n"
     ]
    },
    {
     "name": "stdout",
     "output_type": "stream",
     "text": [
      "The following requirements are appended: {'pydantic==2.11.7', 'cloudpickle==3.1.1'}\n"
     ]
    },
    {
     "name": "stderr",
     "output_type": "stream",
     "text": [
      "INFO:vertexai.agent_engines:The following requirements are appended: {'pydantic==2.11.7', 'cloudpickle==3.1.1'}\n"
     ]
    },
    {
     "name": "stdout",
     "output_type": "stream",
     "text": [
      "The final list of requirements: ['deployment/trends_and_insights_agent-0.1.0-py3-none-any.whl', 'db-dtypes', 'tabulate', 'pydantic==2.11.7', 'cloudpickle==3.1.1']\n"
     ]
    },
    {
     "name": "stderr",
     "output_type": "stream",
     "text": [
      "INFO:vertexai.agent_engines:The final list of requirements: ['deployment/trends_and_insights_agent-0.1.0-py3-none-any.whl', 'db-dtypes', 'tabulate', 'pydantic==2.11.7', 'cloudpickle==3.1.1']\n"
     ]
    },
    {
     "name": "stdout",
     "output_type": "stream",
     "text": [
      "Using bucket zghost-media-center\n"
     ]
    },
    {
     "name": "stderr",
     "output_type": "stream",
     "text": [
      "INFO:vertexai.agent_engines:Using bucket zghost-media-center\n"
     ]
    },
    {
     "name": "stdout",
     "output_type": "stream",
     "text": [
      "Wrote to gs://zghost-media-center/agent_engine/agent_engine.pkl\n"
     ]
    },
    {
     "name": "stderr",
     "output_type": "stream",
     "text": [
      "INFO:vertexai.agent_engines:Wrote to gs://zghost-media-center/agent_engine/agent_engine.pkl\n"
     ]
    },
    {
     "name": "stdout",
     "output_type": "stream",
     "text": [
      "Writing to gs://zghost-media-center/agent_engine/requirements.txt\n"
     ]
    },
    {
     "name": "stderr",
     "output_type": "stream",
     "text": [
      "INFO:vertexai.agent_engines:Writing to gs://zghost-media-center/agent_engine/requirements.txt\n"
     ]
    },
    {
     "name": "stdout",
     "output_type": "stream",
     "text": [
      "Creating in-memory tarfile of extra_packages\n"
     ]
    },
    {
     "name": "stderr",
     "output_type": "stream",
     "text": [
      "INFO:vertexai.agent_engines:Creating in-memory tarfile of extra_packages\n"
     ]
    },
    {
     "name": "stdout",
     "output_type": "stream",
     "text": [
      "Writing to gs://zghost-media-center/agent_engine/dependencies.tar.gz\n"
     ]
    },
    {
     "name": "stderr",
     "output_type": "stream",
     "text": [
      "INFO:vertexai.agent_engines:Writing to gs://zghost-media-center/agent_engine/dependencies.tar.gz\n"
     ]
    },
    {
     "name": "stdout",
     "output_type": "stream",
     "text": [
      "Creating AgentEngine\n"
     ]
    },
    {
     "name": "stderr",
     "output_type": "stream",
     "text": [
      "INFO:vertexai.agent_engines:Creating AgentEngine\n"
     ]
    },
    {
     "name": "stdout",
     "output_type": "stream",
     "text": [
      "Create AgentEngine backing LRO: projects/679926387543/locations/us-central1/reasoningEngines/3252927141007851520/operations/6194730939902328832\n"
     ]
    },
    {
     "name": "stderr",
     "output_type": "stream",
     "text": [
      "INFO:vertexai.agent_engines:Create AgentEngine backing LRO: projects/679926387543/locations/us-central1/reasoningEngines/3252927141007851520/operations/6194730939902328832\n"
     ]
    },
    {
     "name": "stdout",
     "output_type": "stream",
     "text": [
      "View progress and logs at https://console.cloud.google.com/logs/query?project=wortz-project-352116\n"
     ]
    },
    {
     "name": "stderr",
     "output_type": "stream",
     "text": [
      "INFO:vertexai.agent_engines:View progress and logs at https://console.cloud.google.com/logs/query?project=wortz-project-352116\n"
     ]
    },
    {
     "name": "stdout",
     "output_type": "stream",
     "text": [
      "AgentEngine created. Resource name: projects/679926387543/locations/us-central1/reasoningEngines/3252927141007851520\n"
     ]
    },
    {
     "name": "stderr",
     "output_type": "stream",
     "text": [
      "INFO:vertexai.agent_engines:AgentEngine created. Resource name: projects/679926387543/locations/us-central1/reasoningEngines/3252927141007851520\n"
     ]
    },
    {
     "name": "stdout",
     "output_type": "stream",
     "text": [
      "To use this AgentEngine in another session:\n"
     ]
    },
    {
     "name": "stderr",
     "output_type": "stream",
     "text": [
      "INFO:vertexai.agent_engines:To use this AgentEngine in another session:\n"
     ]
    },
    {
     "name": "stdout",
     "output_type": "stream",
     "text": [
      "agent_engine = vertexai.agent_engines.get('projects/679926387543/locations/us-central1/reasoningEngines/3252927141007851520')\n"
     ]
    },
    {
     "name": "stderr",
     "output_type": "stream",
     "text": [
      "INFO:vertexai.agent_engines:agent_engine = vertexai.agent_engines.get('projects/679926387543/locations/us-central1/reasoningEngines/3252927141007851520')\n"
     ]
    }
   ],
   "source": [
    "import vertexai\n",
    "from vertexai import agent_engines\n",
    "\n",
    "GOOGLE_CLOUD_PROJECT = os.getenv(\"GOOGLE_CLOUD_PROJECT\")\n",
    "BUCKET = os.getenv(\"BUCKET\")\n",
    "\n",
    "vertexai.init(\n",
    "    project=GOOGLE_CLOUD_PROJECT,\n",
    "    location=\"us-central1\",\n",
    "    staging_bucket=BUCKET,\n",
    ")\n",
    "\n",
    "remote_agent = agent_engines.create(\n",
    "    agent_engine=my_agent,\n",
    "    display_name=\"trends-and-insights\",\n",
    "    description=\"You are a helpful AI assistant, part of a multi-agent system designed for advanced web research and ad creative generation.\",\n",
    "    requirements=[\n",
    "        \"deployment/trends_and_insights_agent-0.1.0-py3-none-any.whl\",\n",
    "        \"db-dtypes\",\n",
    "        \"tabulate\",\n",
    "    ],\n",
    "    extra_packages=[\n",
    "        \"deployment/trends_and_insights_agent-0.1.0-py3-none-any.whl\",\n",
    "        \"installation_scripts/install_opencv.sh\",\n",
    "        \"installation_scripts/install_ffmpeg.sh\",\n",
    "    ],\n",
    "    env_vars=env_vars,\n",
    "    build_options={\n",
    "        \"installation\": [\n",
    "            \"installation_scripts/install_opencv.sh\",\n",
    "            \"installation_scripts/install_ffmpeg.sh\",\n",
    "        ]\n",
    "    },\n",
    ")"
   ]
  },
  {
   "cell_type": "markdown",
   "id": "b1687a38",
   "metadata": {},
   "source": [
    "### Save the agent engine resource name\n",
    "\n",
    "This can be used by the command to deploy it to Agentspace\n",
    "\n",
    "```bash\n",
    "agent_engine = vertexai.agent_engines.get('projects/679926387543/locations/us-central1/reasoningEngines/1093257605637210112')\n",
    "```\n",
    "\n",
    "## 5. Try it remotely"
   ]
  },
  {
   "cell_type": "code",
   "execution_count": 7,
   "id": "592e9803",
   "metadata": {},
   "outputs": [
    {
     "data": {
      "text/plain": [
       "{'lastUpdateTime': 1754493816.518254,\n",
       " 'events': [],\n",
       " 'userId': 'jwortz',\n",
       " 'appName': '3252927141007851520',\n",
       " 'id': '2675871003157987328',\n",
       " 'state': {}}"
      ]
     },
     "execution_count": 7,
     "metadata": {},
     "output_type": "execute_result"
    }
   ],
   "source": [
    "online_session = remote_agent.create_session(user_id=\"jwortz\")\n",
    "online_session"
   ]
  },
  {
   "cell_type": "markdown",
   "id": "5ecd44fa",
   "metadata": {},
   "source": [
    "#### Same idea above applies to remote agents"
   ]
  },
  {
   "cell_type": "code",
   "execution_count": 10,
   "id": "63c680ce",
   "metadata": {},
   "outputs": [
    {
     "name": "stdout",
     "output_type": "stream",
     "text": [
      "{'actions': {'artifact_delta': {},\n",
      "             'requested_auth_configs': {},\n",
      "             'state_delta': {'_state_init': True,\n",
      "                             'brand': '',\n",
      "                             'final_select_ad_copies': {'final_select_ad_copies': []},\n",
      "                             'final_select_vis_concepts': {'final_select_vis_concepts': []},\n",
      "                             'gcs_folder': '2025_08_06_15_23',\n",
      "                             'img_artifact_keys': {'img_artifact_keys': []},\n",
      "                             'key_selling_points': '',\n",
      "                             'target_audience': '',\n",
      "                             'target_product': '',\n",
      "                             'target_search_trends': {'target_search_trends': []},\n",
      "                             'target_yt_trends': {'target_yt_trends': []},\n",
      "                             'vid_artifact_keys': {'vid_artifact_keys': []}}},\n",
      " 'author': 'root_agent',\n",
      " 'id': 'd25979c5-5eb8-477a-ad87-14f5e0150bee',\n",
      " 'invocation_id': 'e-d6b5a3bb-803a-4bf3-99d5-6c2aa33c1efd',\n",
      " 'timestamp': 1754493831.309956}\n",
      "{'actions': {'artifact_delta': {},\n",
      "             'requested_auth_configs': {},\n",
      "             'state_delta': {'request_count': 1,\n",
      "                             'timer_start': 1754493831.5061977}},\n",
      " 'author': 'root_agent',\n",
      " 'content': {'parts': [{'text': \"Hello! I'm your AI Marketing Research & \"\n",
      "                                'Strategy Assistant. I can help you with '\n",
      "                                'comprehensive insights, trend analysis, and '\n",
      "                                'creative ideas for your marketing campaigns.\\n'\n",
      "                                '\\n'\n",
      "                                \"To get started, I'll transfer you to my \"\n",
      "                                '`trends_and_insights_agent` sub-agent, who '\n",
      "                                'will help us capture your campaign metadata '\n",
      "                                'and identify interesting trends.\\n'},\n",
      "                       {'function_call': {'args': {'agent_name': 'trends_and_insights_agent'},\n",
      "                                          'id': 'adk-d5516b8b-4ca4-4423-9869-75411ddaf2ad',\n",
      "                                          'name': 'transfer_to_agent'}}],\n",
      "             'role': 'model'},\n",
      " 'id': '09803c0d-d416-43e4-a9d7-de3f051c66e9',\n",
      " 'invocation_id': 'e-d6b5a3bb-803a-4bf3-99d5-6c2aa33c1efd',\n",
      " 'long_running_tool_ids': [],\n",
      " 'timestamp': 1754493831.506145,\n",
      " 'usage_metadata': {'candidates_token_count': 86,\n",
      "                    'candidates_tokens_details': [{'modality': 'TEXT',\n",
      "                                                   'token_count': 86}],\n",
      "                    'prompt_token_count': 876,\n",
      "                    'prompt_tokens_details': [{'modality': 'TEXT',\n",
      "                                               'token_count': 876}],\n",
      "                    'thoughts_token_count': 58,\n",
      "                    'total_token_count': 1020,\n",
      "                    'traffic_type': 'ON_DEMAND'}}\n",
      "{'actions': {'artifact_delta': {},\n",
      "             'requested_auth_configs': {},\n",
      "             'state_delta': {},\n",
      "             'transfer_to_agent': 'trends_and_insights_agent'},\n",
      " 'author': 'root_agent',\n",
      " 'content': {'parts': [{'function_response': {'id': 'adk-d5516b8b-4ca4-4423-9869-75411ddaf2ad',\n",
      "                                              'name': 'transfer_to_agent',\n",
      "                                              'response': {'result': None}}}],\n",
      "             'role': 'user'},\n",
      " 'id': '760c8d26-6769-4340-b606-9cd86f664ca4',\n",
      " 'invocation_id': 'e-d6b5a3bb-803a-4bf3-99d5-6c2aa33c1efd',\n",
      " 'timestamp': 1754493833.417884}\n",
      "{'actions': {'artifact_delta': {},\n",
      "             'requested_auth_configs': {},\n",
      "             'state_delta': {}},\n",
      " 'author': 'trends_and_insights_agent',\n",
      " 'content': {'parts': [{'text': 'Hello! I can help you with your marketing '\n",
      "                                'campaign. To start, please tell me the '\n",
      "                                'following:\\n'\n",
      "                                '\\n'\n",
      "                                '*   **Brand Name:**\\n'\n",
      "                                '*   **Target Audience:**\\n'\n",
      "                                '*   **Target Product:**\\n'\n",
      "                                '*   **Key Selling Points of the product:**'}],\n",
      "             'role': 'model'},\n",
      " 'id': 'a4aa195e-1f3e-4079-895c-902a1fb872a7',\n",
      " 'invocation_id': 'e-d6b5a3bb-803a-4bf3-99d5-6c2aa33c1efd',\n",
      " 'timestamp': 1754493833.651914,\n",
      " 'usage_metadata': {'candidates_token_count': 52,\n",
      "                    'candidates_tokens_details': [{'modality': 'TEXT',\n",
      "                                                   'token_count': 52}],\n",
      "                    'prompt_token_count': 2203,\n",
      "                    'prompt_tokens_details': [{'modality': 'TEXT',\n",
      "                                               'token_count': 2203}],\n",
      "                    'thoughts_token_count': 78,\n",
      "                    'total_token_count': 2333,\n",
      "                    'traffic_type': 'ON_DEMAND'}}\n"
     ]
    }
   ],
   "source": [
    "first_prompt = f\"Hello\"\n",
    "\n",
    "stream_agent(remote_agent, first_prompt, online_session)"
   ]
  },
  {
   "cell_type": "markdown",
   "id": "7b0a204b",
   "metadata": {},
   "source": [
    "# 6. Optional Cleanup"
   ]
  },
  {
   "cell_type": "code",
   "execution_count": null,
   "id": "9f77a789",
   "metadata": {},
   "outputs": [],
   "source": [
    "remote_agent.delete(force=True)"
   ]
  }
 ],
 "metadata": {
  "kernelspec": {
   "display_name": "trends-and-insights-agent-py3.12 (3.12.2)",
   "language": "python",
   "name": "python3"
  },
  "language_info": {
   "codemirror_mode": {
    "name": "ipython",
    "version": 3
   },
   "file_extension": ".py",
   "mimetype": "text/x-python",
   "name": "python",
   "nbconvert_exporter": "python",
   "pygments_lexer": "ipython3",
   "version": "3.12.2"
  }
 },
 "nbformat": 4,
 "nbformat_minor": 5
}
