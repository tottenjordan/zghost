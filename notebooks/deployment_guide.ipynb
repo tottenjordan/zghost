{
 "cells": [
  {
   "cell_type": "markdown",
   "id": "893019e7",
   "metadata": {},
   "source": [
    "# How to deploy ADK Apps to Agent Engine\n",
    "\n",
    "[Documentation link 🔗](https://google.github.io/adk-docs/deploy/agent-engine/)\n",
    "\n",
    "## 1. Set the local environment variables\n",
    "These will be used in the Agent Engine deployment"
   ]
  },
  {
   "cell_type": "code",
   "execution_count": 1,
   "id": "eac665f1",
   "metadata": {},
   "outputs": [
    {
     "data": {
      "text/plain": [
       "True"
      ]
     },
     "execution_count": 1,
     "metadata": {},
     "output_type": "execute_result"
    }
   ],
   "source": [
    "from dotenv import load_dotenv\n",
    "import os\n",
    "\n",
    "load_dotenv(\"../trends_and_insights_agent/.env\")  # take environment variables"
   ]
  },
  {
   "cell_type": "markdown",
   "id": "54c0699d",
   "metadata": {},
   "source": [
    "## 2. Set up the `AdkApp` Convenience wrapper for ADK Agents -> Agent Engine\n",
    "\n",
    "Note the injection of the environment variables."
   ]
  },
  {
   "cell_type": "code",
   "execution_count": 8,
   "id": "f0e0e53c",
   "metadata": {},
   "outputs": [],
   "source": [
    "from vertexai.preview.reasoning_engines import AdkApp\n",
    "\n",
    "from trends_and_insights_agent import agent\n",
    "\n",
    "env_vars = {}\n",
    "\n",
    "# env_vars[\"GOOGLE_CLOUD_PROJECT\"] = os.getenv(\"GOOGLE_CLOUD_PROJECT\")\n",
    "# env_vars[\"GOOGLE_CLOUD_LOCATION\"] = os.getenv(\"GOOGLE_CLOUD_LOCATION\")\n",
    "env_vars[\"GOOGLE_GENAI_USE_VERTEXAI\"] = os.getenv(\"GOOGLE_GENAI_USE_VERTEXAI\")\n",
    "env_vars[\"BUCKET\"] = os.getenv(\"BUCKET\")\n",
    "env_vars[\"GOOGLE_CLOUD_PROJECT_NUMBER\"] = os.getenv(\"GOOGLE_CLOUD_PROJECT_NUMBER\")\n",
    "env_vars[\"YT_SECRET_MNGR_NAME\"] = os.getenv(\"YT_SECRET_MNGR_NAME\")\n",
    "\n",
    "\n",
    "my_agent = AdkApp(agent=agent.root_agent, enable_tracing=False, env_vars=env_vars)"
   ]
  },
  {
   "cell_type": "markdown",
   "id": "e500ea11",
   "metadata": {},
   "source": [
    "# 3. Test the Agent Engine locally"
   ]
  },
  {
   "cell_type": "code",
   "execution_count": 3,
   "id": "33be24e1",
   "metadata": {},
   "outputs": [
    {
     "data": {
      "text/plain": [
       "Session(id='aab6fad5-cc2d-4f13-bc2a-64f1de6d6168', app_name='default-app-name', user_id='jwortz', state={}, events=[], last_update_time=1746546457.966926)"
      ]
     },
     "execution_count": 3,
     "metadata": {},
     "output_type": "execute_result"
    }
   ],
   "source": [
    "session = my_agent.create_session(user_id=\"jwortz\")\n",
    "session"
   ]
  },
  {
   "cell_type": "code",
   "execution_count": 4,
   "id": "a1a96d83",
   "metadata": {},
   "outputs": [
    {
     "data": {
      "text/plain": [
       "ListSessionsResponse(sessions=[Session(id='aab6fad5-cc2d-4f13-bc2a-64f1de6d6168', app_name='default-app-name', user_id='jwortz', state={}, events=[], last_update_time=1746546457.966926)])"
      ]
     },
     "execution_count": 4,
     "metadata": {},
     "output_type": "execute_result"
    }
   ],
   "source": [
    "my_agent.list_sessions(user_id=\"jwortz\")"
   ]
  },
  {
   "cell_type": "code",
   "execution_count": 5,
   "id": "c5178ae8",
   "metadata": {},
   "outputs": [],
   "source": [
    "EXAMPLE_BRIEF = \"\"\"\n",
    "Campaign Name: Connect Beyond Limits with Pix Phone 5\n",
    "Campaign Objectives\n",
    "● Increase awareness of the latest model of the Pix Phone\n",
    "● Generate leads and drive phone sales\n",
    "● Position Pix Phone and the trendy phone to have\n",
    "Target Audience\n",
    "● Individuals aged 20-40 in major markets such as US, France, Japan\n",
    "Media Strategy\n",
    "1. Social Media Marketing: Run targeted social media ads on platforms where the\n",
    "target audience is active.\n",
    "2. Influencer Marketing: Partner with influencers in the tech industry to promote Pix\n",
    "Phone 5\n",
    "3. Paid Advertising: Run targeted display ads on websites and apps frequented by\n",
    "the target audience. Use search engine marketing (SEM) to bid on relevant\n",
    "keywords and appear in search results when potential customers are looking for\n",
    "asset protection insurance.\n",
    "Timeline and country\n",
    "● Activity in the 3 major markets in at least the online channels by early Oct 2023\n",
    "● Start from US, followed by France then Japan\n",
    "● The campaign should use the US version as anchor and localized accordingly\n",
    "Performance Metrics\n",
    "1. Track website conversion, lead generation, and phone sales to measure campaign\n",
    "effectiveness.\n",
    "2. Use social media analytics to monitor engagement, reach, and sentiment.\n",
    "\"\"\""
   ]
  },
  {
   "cell_type": "code",
   "execution_count": 6,
   "id": "d371bfe6",
   "metadata": {},
   "outputs": [],
   "source": [
    "from pprint import pprint\n",
    "\n",
    "\n",
    "def stream_agent(agent, prompt: str, session) -> None:\n",
    "    try:\n",
    "        session_id = session['id']\n",
    "    # local prefers attributes vs. remote prefers dict keys\n",
    "    except TypeError:\n",
    "        session_id = session.id\n",
    "    except Exception as e:\n",
    "        return f\"Session Object not valid: {e}\"\n",
    "        \n",
    "    for event in agent.stream_query(\n",
    "        user_id=\"jwortz\",\n",
    "        session_id=session_id,\n",
    "        message=prompt,\n",
    "    ):\n",
    "        pprint(event)"
   ]
  },
  {
   "cell_type": "code",
   "execution_count": 7,
   "id": "6a10dd01",
   "metadata": {},
   "outputs": [
    {
     "name": "stderr",
     "output_type": "stream",
     "text": [
      "INFO:google_genai.models:AFC is enabled with max remote calls: 10.\n"
     ]
    },
    {
     "name": "stderr",
     "output_type": "stream",
     "text": [
      "INFO:httpx:HTTP Request: POST https://us-central1-aiplatform.googleapis.com/v1beta1/projects/wortz-project-352116/locations/us-central1/publishers/google/models/gemini-2.0-flash:generateContent \"HTTP/1.1 200 OK\"\n",
      "INFO:root:\n",
      "[Callback] Entering agent: marketing_idea_generator_agent (Inv: e-8e7a1f48-2b79-49f9-ab44-939b6ccf37ed)\n",
      "INFO:root:[Callback] Current State: {}\n"
     ]
    },
    {
     "name": "stdout",
     "output_type": "stream",
     "text": [
      "{'actions': {'artifact_delta': {},\n",
      "             'requested_auth_configs': {},\n",
      "             'state_delta': {}},\n",
      " 'author': 'marketing_idea_generator_agent',\n",
      " 'content': {'parts': [{'text': \"Hello! I'm here to help you brainstorm some \"\n",
      "                                'great campaign ideas for the \"Connect Beyond '\n",
      "                                'Limits with Pix Phone 5\" campaign.\\n'\n",
      "                                '\\n'\n",
      "                                'To start, could you please provide the '\n",
      "                                'marketing campaign guide? You can paste the '\n",
      "                                'text, provide a URL to a webpage, or upload a '\n",
      "                                'PDF. This will help me get a better '\n",
      "                                'understanding of the campaign and target '\n",
      "                                'audience.\\n'\n",
      "                                '\\n'\n",
      "                                'For example, you could say:\\n'\n",
      "                                '\\n'\n",
      "                                '*   \"Here\\'s the campaign guide: [paste text '\n",
      "                                'here]\"\\n'\n",
      "                                '*   \"The campaign guide is available at this '\n",
      "                                'URL: [insert URL]\"\\n'\n",
      "                                '*   \"I\\'ve uploaded the campaign guide as a '\n",
      "                                'PDF.\"\\n'\n",
      "                                '\\n'\n",
      "                                \"Once I have the guide, I'll use the \"\n",
      "                                '`campaign_guide_data_generation_agent` to '\n",
      "                                'extract the key information and provide you '\n",
      "                                'with a concise summary.\\n'}],\n",
      "             'role': 'model'},\n",
      " 'id': 'YU19rlyw',\n",
      " 'invocation_id': 'e-8e7a1f48-2b79-49f9-ab44-939b6ccf37ed',\n",
      " 'timestamp': 1746546460.457094}\n",
      "{'actions': {'artifact_delta': {},\n",
      "             'requested_auth_configs': {},\n",
      "             'state_delta': {'campaign_guide': {'campaign_guide': 'not yet '\n",
      "                                                                  'populated'},\n",
      "                             'insights': {'insights': []},\n",
      "                             'trends': {'trends': []}}},\n",
      " 'author': 'marketing_idea_generator_agent',\n",
      " 'content': {'parts': [{'text': 'Agent marketing_idea_generator_agent setting '\n",
      "                                'default values for state variables: '\n",
      "                                'campaign_guide, trends, insights.'}],\n",
      "             'role': 'model'},\n",
      " 'id': 'ZkPNx6F5',\n",
      " 'invocation_id': 'e-8e7a1f48-2b79-49f9-ab44-939b6ccf37ed',\n",
      " 'timestamp': 1746546462.544575}\n"
     ]
    }
   ],
   "source": [
    "first_prompt = f\"Check out the {EXAMPLE_BRIEF} and come up with some good campaign ideas. Be sure to generate a few image ideas for the campaign.\"\n",
    "stream_agent(my_agent, first_prompt, session)"
   ]
  },
  {
   "cell_type": "code",
   "execution_count": 8,
   "id": "2a3bc0a2",
   "metadata": {},
   "outputs": [
    {
     "name": "stderr",
     "output_type": "stream",
     "text": [
      "INFO:google_genai.models:AFC is enabled with max remote calls: 10.\n",
      "INFO:httpx:HTTP Request: POST https://us-central1-aiplatform.googleapis.com/v1beta1/projects/wortz-project-352116/locations/us-central1/publishers/google/models/gemini-2.0-flash:generateContent \"HTTP/1.1 200 OK\"\n",
      "INFO:root:\n",
      "[Callback] Entering agent: marketing_idea_generator_agent (Inv: e-997f9aee-100f-46fb-9bf2-f8c9c55bef1f)\n",
      "INFO:root:[Callback] Current State: {'campaign_guide': {'campaign_guide': 'not yet populated'}, 'trends': {'trends': []}, 'insights': {'insights': []}}\n"
     ]
    },
    {
     "name": "stdout",
     "output_type": "stream",
     "text": [
      "{'actions': {'artifact_delta': {},\n",
      "             'requested_auth_configs': {},\n",
      "             'state_delta': {}},\n",
      " 'author': 'marketing_idea_generator_agent',\n",
      " 'content': {'parts': [{'text': 'I do not have access to the campaign guide. '\n",
      "                                'Please provide the campaign guide so that I '\n",
      "                                'can create images from the ideas.\\n'}],\n",
      "             'role': 'model'},\n",
      " 'id': 'OZM1dbze',\n",
      " 'invocation_id': 'e-997f9aee-100f-46fb-9bf2-f8c9c55bef1f',\n",
      " 'timestamp': 1746546462.556237}\n"
     ]
    }
   ],
   "source": [
    "followup_prompt = \"Create images from these great ideas!\"\n",
    "stream_agent(my_agent, followup_prompt, session)"
   ]
  },
  {
   "cell_type": "markdown",
   "id": "2c97ad97",
   "metadata": {},
   "source": [
    "## 4. Deploy to Vertex AI Agent Engine\n",
    "To call and manage agents in production, deploy the agent to Vertex AI Agent Engine.\n",
    "\n",
    "**Important - run `poetry build` to package the agent**"
   ]
  },
  {
   "cell_type": "code",
   "execution_count": 3,
   "id": "3a022bf9",
   "metadata": {},
   "outputs": [
    {
     "name": "stdout",
     "output_type": "stream",
     "text": [
      "Building \u001b[36mtrends_and_insights_agent\u001b[39m (\u001b[39;1m0.1.0\u001b[39;22m)\n",
      "Building \u001b[34mwheel\u001b[39m\n",
      "  - Building \u001b[34mwheel\u001b[39m\n",
      "  - Built \u001b[32mtrends_and_insights_agent-0.1.0-py3-none-any.whl\u001b[39m\n"
     ]
    }
   ],
   "source": [
    "! poetry build --format=wheel --output=notebooks/deployment"
   ]
  },
  {
   "cell_type": "markdown",
   "id": "76974f85",
   "metadata": {},
   "source": [
    "#### Initialize the Vertex client, then create a `remote_agent` that is deployed to Vertex\n",
    "\n",
    "This also takes the packaged agent code. This is required for more complex agents that have nested dependencies and require packaging\n",
    "\n",
    "Also, before running - be sure to give Secret Manager access to the Agent Engine service account. This can simply be done by running `. setup_ae_sm_access.sh`.\n",
    "\n",
    "The code can also be ran as follows (relative to repo root):\n",
    "\n",
    "```bash\n",
    "source trends_and_insights_agent/.env\n",
    "\n",
    "export RE_SA=\"service-${GOOGLE_CLOUD_PROJECT_NUMBER}@gcp-sa-aiplatform-re.iam.gserviceaccount.com\"\n",
    "gcloud secrets add-iam-policy-binding \"projects/$GOOGLE_CLOUD_PROJECT/secrets/$YT_SECRET_MNGR_NAME\" \\\n",
    "  --member=\"serviceAccount:$RE_SA\" \\\n",
    "  --role=\"roles/secretmanager.secretAccessor\"\n",
    "```"
   ]
  },
  {
   "cell_type": "code",
   "execution_count": null,
   "id": "1b7eea3c",
   "metadata": {},
   "outputs": [
    {
     "name": "stdout",
     "output_type": "stream",
     "text": [
      "Identified the following requirements: {'pydantic': '2.11.7', 'google-cloud-aiplatform': '1.97.0', 'cloudpickle': '3.1.1'}\n"
     ]
    },
    {
     "name": "stderr",
     "output_type": "stream",
     "text": [
      "INFO:vertexai.agent_engines:Identified the following requirements: {'pydantic': '2.11.7', 'google-cloud-aiplatform': '1.97.0', 'cloudpickle': '3.1.1'}\n"
     ]
    },
    {
     "name": "stdout",
     "output_type": "stream",
     "text": [
      "Failed to parse constraint: deployment/trends_and_insights_agent-0.1.0-py3-none-any.whl. Exception: Expected end or semicolon (after name and no valid version specifier)\n",
      "    deployment/trends_and_insights_agent-0.1.0-py3-none-any.whl\n",
      "              ^\n"
     ]
    },
    {
     "name": "stderr",
     "output_type": "stream",
     "text": [
      "WARNING:vertexai.agent_engines:Failed to parse constraint: deployment/trends_and_insights_agent-0.1.0-py3-none-any.whl. Exception: Expected end or semicolon (after name and no valid version specifier)\n",
      "    deployment/trends_and_insights_agent-0.1.0-py3-none-any.whl\n",
      "              ^\n"
     ]
    },
    {
     "name": "stdout",
     "output_type": "stream",
     "text": [
      "The following requirements are missing: {'google-cloud-aiplatform', 'pydantic', 'cloudpickle'}\n"
     ]
    },
    {
     "name": "stderr",
     "output_type": "stream",
     "text": [
      "WARNING:vertexai.agent_engines:The following requirements are missing: {'google-cloud-aiplatform', 'pydantic', 'cloudpickle'}\n"
     ]
    },
    {
     "name": "stdout",
     "output_type": "stream",
     "text": [
      "The following requirements are appended: {'pydantic==2.11.7', 'cloudpickle==3.1.1'}\n"
     ]
    },
    {
     "name": "stderr",
     "output_type": "stream",
     "text": [
      "INFO:vertexai.agent_engines:The following requirements are appended: {'pydantic==2.11.7', 'cloudpickle==3.1.1'}\n"
     ]
    },
    {
     "name": "stdout",
     "output_type": "stream",
     "text": [
      "The final list of requirements: ['deployment/trends_and_insights_agent-0.1.0-py3-none-any.whl', 'pydantic==2.11.7', 'cloudpickle==3.1.1']\n"
     ]
    },
    {
     "name": "stderr",
     "output_type": "stream",
     "text": [
      "INFO:vertexai.agent_engines:The final list of requirements: ['deployment/trends_and_insights_agent-0.1.0-py3-none-any.whl', 'pydantic==2.11.7', 'cloudpickle==3.1.1']\n"
     ]
    },
    {
     "name": "stdout",
     "output_type": "stream",
     "text": [
      "Using bucket zghost-media-center\n"
     ]
    },
    {
     "name": "stderr",
     "output_type": "stream",
     "text": [
      "INFO:vertexai.agent_engines:Using bucket zghost-media-center\n"
     ]
    },
    {
     "name": "stdout",
     "output_type": "stream",
     "text": [
      "Wrote to gs://zghost-media-center/agent_engine/agent_engine.pkl\n"
     ]
    },
    {
     "name": "stderr",
     "output_type": "stream",
     "text": [
      "INFO:vertexai.agent_engines:Wrote to gs://zghost-media-center/agent_engine/agent_engine.pkl\n"
     ]
    },
    {
     "name": "stdout",
     "output_type": "stream",
     "text": [
      "Writing to gs://zghost-media-center/agent_engine/requirements.txt\n"
     ]
    },
    {
     "name": "stderr",
     "output_type": "stream",
     "text": [
      "INFO:vertexai.agent_engines:Writing to gs://zghost-media-center/agent_engine/requirements.txt\n"
     ]
    },
    {
     "name": "stdout",
     "output_type": "stream",
     "text": [
      "Creating in-memory tarfile of extra_packages\n"
     ]
    },
    {
     "name": "stderr",
     "output_type": "stream",
     "text": [
      "INFO:vertexai.agent_engines:Creating in-memory tarfile of extra_packages\n"
     ]
    },
    {
     "name": "stdout",
     "output_type": "stream",
     "text": [
      "Writing to gs://zghost-media-center/agent_engine/dependencies.tar.gz\n"
     ]
    },
    {
     "name": "stderr",
     "output_type": "stream",
     "text": [
      "INFO:vertexai.agent_engines:Writing to gs://zghost-media-center/agent_engine/dependencies.tar.gz\n"
     ]
    },
    {
     "name": "stdout",
     "output_type": "stream",
     "text": [
      "Creating AgentEngine\n"
     ]
    },
    {
     "name": "stderr",
     "output_type": "stream",
     "text": [
      "INFO:vertexai.agent_engines:Creating AgentEngine\n"
     ]
    },
    {
     "name": "stdout",
     "output_type": "stream",
     "text": [
      "Create AgentEngine backing LRO: projects/679926387543/locations/us-central1/reasoningEngines/7553125913332809728/operations/3250198393665880064\n"
     ]
    },
    {
     "name": "stderr",
     "output_type": "stream",
     "text": [
      "INFO:vertexai.agent_engines:Create AgentEngine backing LRO: projects/679926387543/locations/us-central1/reasoningEngines/7553125913332809728/operations/3250198393665880064\n"
     ]
    },
    {
     "name": "stdout",
     "output_type": "stream",
     "text": [
      "View progress and logs at https://console.cloud.google.com/logs/query?project=wortz-project-352116\n"
     ]
    },
    {
     "name": "stderr",
     "output_type": "stream",
     "text": [
      "INFO:vertexai.agent_engines:View progress and logs at https://console.cloud.google.com/logs/query?project=wortz-project-352116\n"
     ]
    },
    {
     "name": "stdout",
     "output_type": "stream",
     "text": [
      "AgentEngine created. Resource name: projects/679926387543/locations/us-central1/reasoningEngines/7553125913332809728\n"
     ]
    },
    {
     "name": "stderr",
     "output_type": "stream",
     "text": [
      "INFO:vertexai.agent_engines:AgentEngine created. Resource name: projects/679926387543/locations/us-central1/reasoningEngines/7553125913332809728\n"
     ]
    },
    {
     "name": "stdout",
     "output_type": "stream",
     "text": [
      "To use this AgentEngine in another session:\n"
     ]
    },
    {
     "name": "stderr",
     "output_type": "stream",
     "text": [
      "INFO:vertexai.agent_engines:To use this AgentEngine in another session:\n"
     ]
    },
    {
     "name": "stdout",
     "output_type": "stream",
     "text": [
      "agent_engine = vertexai.agent_engines.get('projects/679926387543/locations/us-central1/reasoningEngines/7553125913332809728')\n"
     ]
    },
    {
     "name": "stderr",
     "output_type": "stream",
     "text": [
      "INFO:vertexai.agent_engines:agent_engine = vertexai.agent_engines.get('projects/679926387543/locations/us-central1/reasoningEngines/7553125913332809728')\n"
     ]
    }
   ],
   "source": [
    "import vertexai\n",
    "from vertexai import agent_engines\n",
    "\n",
    "GOOGLE_CLOUD_PROJECT = os.getenv(\"GOOGLE_CLOUD_PROJECT\")\n",
    "APP_NAME = \"retail-data-agent\"\n",
    "BUCKET = os.getenv(\"BUCKET\")\n",
    "\n",
    "vertexai.init(\n",
    "    project=GOOGLE_CLOUD_PROJECT,\n",
    "    location=\"us-central1\",\n",
    "    staging_bucket=BUCKET,\n",
    ")\n",
    "\n",
    "remote_agent = agent_engines.create(\n",
    "    agent_engine=my_agent,\n",
    "    display_name=\"trends-and-insights\",\n",
    "    description=\"This agent finds trends and relates them to a product brief, creating videos and image outputs\",\n",
    "    requirements=[\n",
    "        \"deployment/trends_and_insights_agent-0.1.0-py3-none-any.whl\",\n",
    "    ],\n",
    "    extra_packages=[\n",
    "        \"deployment/trends_and_insights_agent-0.1.0-py3-none-any.whl\",\n",
    "    ],\n",
    "    env_vars=env_vars,\n",
    ")"
   ]
  },
  {
   "cell_type": "markdown",
   "id": "c614619e",
   "metadata": {},
   "source": []
  },
  {
   "cell_type": "markdown",
   "id": "b1687a38",
   "metadata": {},
   "source": [
    "### Save the agent engine resource name\n",
    "\n",
    "This can be used by the command to deploy it to Agentspace\n",
    "\n",
    "```bash\n",
    "agent_engine = vertexai.agent_engines.get('projects/679926387543/locations/us-central1/reasoningEngines/1093257605637210112')\n",
    "```\n",
    "\n",
    "## 5. Try it remotely"
   ]
  },
  {
   "cell_type": "code",
   "execution_count": 21,
   "id": "592e9803",
   "metadata": {},
   "outputs": [
    {
     "data": {
      "text/plain": [
       "{'events': [],\n",
       " 'last_update_time': 1746545979.732115,\n",
       " 'state': {},\n",
       " 'id': '3776035740840886272',\n",
       " 'app_name': '9085528463103754240',\n",
       " 'user_id': 'jwortz'}"
      ]
     },
     "execution_count": 21,
     "metadata": {},
     "output_type": "execute_result"
    }
   ],
   "source": [
    "session1 = remote_agent.create_session(user_id=\"jwortz\")\n",
    "session1"
   ]
  },
  {
   "cell_type": "markdown",
   "id": "5ecd44fa",
   "metadata": {},
   "source": [
    "#### Same idea above applies to remote agents"
   ]
  },
  {
   "cell_type": "code",
   "execution_count": 26,
   "id": "63c680ce",
   "metadata": {},
   "outputs": [
    {
     "name": "stdout",
     "output_type": "stream",
     "text": [
      "{'actions': {'artifact_delta': {},\n",
      "             'requested_auth_configs': {},\n",
      "             'state_delta': {}},\n",
      " 'author': 'marketing_idea_generator_agent',\n",
      " 'content': {'parts': [{'text': \"Hello! I'm here to help you brainstorm some \"\n",
      "                                'great campaign ideas for the \"Connect Beyond '\n",
      "                                'Limits with Pix Phone 5\" campaign.\\n'\n",
      "                                '\\n'\n",
      "                                'To start, could you please provide the '\n",
      "                                'marketing campaign guide? You can paste the '\n",
      "                                'text, provide a URL to a webpage, or upload a '\n",
      "                                'PDF. This will help me get a better '\n",
      "                                'understanding of the campaign and your '\n",
      "                                'goals.\\n'\n",
      "                                '\\n'\n",
      "                                'For example, you could say:\\n'\n",
      "                                '\\n'\n",
      "                                '*   \"Here\\'s the campaign guide: [paste text '\n",
      "                                'here]\"\\n'\n",
      "                                '*   \"The campaign guide is available at this '\n",
      "                                'URL: [insert URL]\"\\n'\n",
      "                                '*   \"I\\'ve uploaded the campaign guide as a '\n",
      "                                'PDF.\"\\n'\n",
      "                                '\\n'\n",
      "                                \"Once I have the guide, I'll use the \"\n",
      "                                '`campaign_guide_data_generation_agent` to '\n",
      "                                'extract the key information and provide you '\n",
      "                                'with a concise summary.\\n'}],\n",
      "             'role': 'model'},\n",
      " 'id': 'B71N1xZ6',\n",
      " 'invocation_id': 'e-3ab4a632-a3d1-4daf-84e2-7763695a9aa3',\n",
      " 'timestamp': 1746546101.683938}\n",
      "{'actions': {'artifact_delta': {},\n",
      "             'requested_auth_configs': {},\n",
      "             'state_delta': {'campaign_guide': {'campaign_guide': 'not yet '\n",
      "                                                                  'populated'},\n",
      "                             'insights': {'insights': []},\n",
      "                             'trends': {'trends': []}}},\n",
      " 'author': 'marketing_idea_generator_agent',\n",
      " 'content': {'parts': [{'text': 'Agent marketing_idea_generator_agent setting '\n",
      "                                'default values for state variables: '\n",
      "                                'campaign_guide, trends, insights.'}],\n",
      "             'role': 'model'},\n",
      " 'id': 'PAAVfhIS',\n",
      " 'invocation_id': 'e-3ab4a632-a3d1-4daf-84e2-7763695a9aa3',\n",
      " 'timestamp': 1746546103.371224}\n"
     ]
    }
   ],
   "source": [
    "first_prompt = f\"Check out the {EXAMPLE_BRIEF} and come up with some good campaign ideas. Be sure to generate a few image ideas for the campaign.\"\n",
    "stream_agent(remote_agent, first_prompt, session1)"
   ]
  },
  {
   "cell_type": "markdown",
   "id": "7b0a204b",
   "metadata": {},
   "source": [
    "# 6. Optional Cleanup"
   ]
  },
  {
   "cell_type": "code",
   "execution_count": null,
   "id": "9f77a789",
   "metadata": {},
   "outputs": [],
   "source": [
    "remote_agent.delete(force=True)"
   ]
  }
 ],
 "metadata": {
  "kernelspec": {
   "display_name": "zghost-py3.12",
   "language": "python",
   "name": "python3"
  },
  "language_info": {
   "codemirror_mode": {
    "name": "ipython",
    "version": 3
   },
   "file_extension": ".py",
   "mimetype": "text/x-python",
   "name": "python",
   "nbconvert_exporter": "python",
   "pygments_lexer": "ipython3",
   "version": "3.12.2"
  }
 },
 "nbformat": 4,
 "nbformat_minor": 5
}
