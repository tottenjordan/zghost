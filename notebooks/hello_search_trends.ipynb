{
 "cells": [
  {
   "cell_type": "markdown",
   "metadata": {},
   "source": [
    "# Get trending topics from Google Search and YouTube"
   ]
  },
  {
   "cell_type": "markdown",
   "metadata": {},
   "source": [
    "##### TODOs\n",
    "\n",
    "1. check out the [YouTube Reporting API](https://pantheon.corp.google.com/apis/api/youtubereporting.googleapis.com/metrics?project=hybrid-vertex&e=13802955&inv=1&invt=AbtH2w&mods=-ai_platform_fake_service,-ai_platform_staging_service) in Cloud console \n",
    "    * Schedules reporting jobs containing your YouTube Analytics data and downloads the resulting bulk data reports in the form of CSV files.\n",
    "\n",
    "2. create helper functions for YouTube Search, YouTube Trends, and displaying their results"
   ]
  },
  {
   "cell_type": "markdown",
   "metadata": {},
   "source": [
    "### env config"
   ]
  },
  {
   "cell_type": "code",
   "execution_count": 1,
   "metadata": {},
   "outputs": [
    {
     "name": "stdout",
     "output_type": "stream",
     "text": [
      "PROJECT_ID: hybrid-vertex\n",
      "LOCATION: us-central1\n",
      "PREFIX: zghost_v1\n",
      "BQ_DATASET: youtube_video_analysis\n"
     ]
    }
   ],
   "source": [
    "import os\n",
    "import sys\n",
    "import ipykernel\n",
    "\n",
    "from dotenv import load_dotenv\n",
    "\n",
    "load_dotenv()  # this loads the .env script for use below\n",
    "PROJECT_ID = os.getenv(\"PROJECT_ID\")\n",
    "LOCATION = os.getenv(\"LOCATION\")\n",
    "PREFIX = os.getenv(\"PREFIX\")\n",
    "BQ_DATASET = os.getenv(\"BQ_DATASET\")\n",
    "\n",
    "print(f\"PROJECT_ID: {PROJECT_ID}\")\n",
    "print(f\"LOCATION: {LOCATION}\")\n",
    "print(f\"PREFIX: {PREFIX}\")\n",
    "print(f\"BQ_DATASET: {BQ_DATASET}\")"
   ]
  },
  {
   "cell_type": "markdown",
   "metadata": {},
   "source": [
    "### imports"
   ]
  },
  {
   "cell_type": "code",
   "execution_count": 2,
   "metadata": {},
   "outputs": [],
   "source": [
    "import numpy as np\n",
    "import pandas as pd\n",
    "from typing import List\n",
    "from pprint import pprint\n",
    "from pandas import DataFrame\n",
    "from datetime import date, datetime, timedelta\n",
    "from IPython.display import HTML, Markdown, display, YouTubeVideo\n",
    "\n",
    "import warnings\n",
    "warnings.filterwarnings('ignore')\n",
    "\n",
    "import logging\n",
    "logging.disable(logging.WARNING)\n",
    "\n",
    "# google\n",
    "from google.cloud import bigquery\n",
    "bq = bigquery.Client(project = PROJECT_ID)"
   ]
  },
  {
   "cell_type": "markdown",
   "metadata": {},
   "source": [
    "# Google Search Trends\n",
    "\n",
    "references\n",
    "* overview and samples for the [Search Trends](https://pantheon.corp.google.com/marketplace/product/bigquery-public-datasets/google-search-trends?_ga=2.261190030.2019434361.1656948847-1975246695.1656948843&e=13802955&mods=-ai_platform_fake_service,-ai_platform_staging_service&inv=1&invt=AbtEjw&project=hybrid-vertex) (BigQuery public dataset)\n",
    "* code for [generating time intervals](https://source.corp.google.com/piper///depot/google3/experimental/marketing/trendcrawler/trend_crawler/src/data/transformers.py;ws=jwortz%2F310)\n",
    "\n",
    "previous version\n",
    "1) get date\n",
    "2) get params\n",
    "3) perform search w/ SERPAPI\n",
    "4) convert SERPAPI search results to dataframe"
   ]
  },
  {
   "cell_type": "code",
   "execution_count": 6,
   "metadata": {},
   "outputs": [],
   "source": [
    "TARGET_DATE = \"03/25/2025\"\n",
    "\n",
    "# AS_OF_DATE = \"20240103\"\n",
    "# default_date = datetime.strptime(AS_OF_DATE, \"%Y%m%d\")\n",
    "# selected_date_str = default_date.strftime(\"%Y%m%d\")\n",
    "# print(\"As of date: \", default_date)"
   ]
  },
  {
   "cell_type": "markdown",
   "metadata": {},
   "source": [
    "### top 25 search terms, most recent week"
   ]
  },
  {
   "cell_type": "code",
   "execution_count": 7,
   "metadata": {},
   "outputs": [
    {
     "name": "stdout",
     "output_type": "stream",
     "text": [
      "\n",
      "    SELECT\n",
      "      term,\n",
      "      refresh_date,\n",
      "      ARRAY_AGG(STRUCT(rank,week) ORDER BY week DESC LIMIT 1) x\n",
      "    FROM `bigquery-public-data.google_trends.top_terms`\n",
      "    WHERE refresh_date = PARSE_DATE('%m/%d/%Y',  '03/25/2025')\n",
      "    GROUP BY term, refresh_date\n",
      "    ORDER BY (SELECT rank FROM UNNEST(x))\n",
      "\n"
     ]
    }
   ],
   "source": [
    "query = f\"\"\"\n",
    "    SELECT\n",
    "      term,\n",
    "      refresh_date,\n",
    "      ARRAY_AGG(STRUCT(rank,week) ORDER BY week DESC LIMIT 1) x\n",
    "    FROM `bigquery-public-data.google_trends.top_terms`\n",
    "    WHERE refresh_date = PARSE_DATE('%m/%d/%Y',  '{TARGET_DATE}')\n",
    "    GROUP BY term, refresh_date\n",
    "    ORDER BY (SELECT rank FROM UNNEST(x))\n",
    "\"\"\"\n",
    "print(query)"
   ]
  },
  {
   "cell_type": "code",
   "execution_count": 8,
   "metadata": {},
   "outputs": [
    {
     "name": "stdout",
     "output_type": "stream",
     "text": [
      "bolivia vs uruguay\n"
     ]
    },
    {
     "data": {
      "text/html": [
       "<div>\n",
       "<style scoped>\n",
       "    .dataframe tbody tr th:only-of-type {\n",
       "        vertical-align: middle;\n",
       "    }\n",
       "\n",
       "    .dataframe tbody tr th {\n",
       "        vertical-align: top;\n",
       "    }\n",
       "\n",
       "    .dataframe thead th {\n",
       "        text-align: right;\n",
       "    }\n",
       "</style>\n",
       "<table border=\"1\" class=\"dataframe\">\n",
       "  <thead>\n",
       "    <tr style=\"text-align: right;\">\n",
       "      <th></th>\n",
       "      <th>term</th>\n",
       "      <th>refresh_date</th>\n",
       "      <th>x</th>\n",
       "    </tr>\n",
       "  </thead>\n",
       "  <tbody>\n",
       "    <tr>\n",
       "      <th>0</th>\n",
       "      <td>bolivia vs uruguay</td>\n",
       "      <td>2025-03-25</td>\n",
       "      <td>[{'rank': 1, 'week': 2025-03-23 00:00:00}]</td>\n",
       "    </tr>\n",
       "    <tr>\n",
       "      <th>1</th>\n",
       "      <td>bolivia - uruguay</td>\n",
       "      <td>2025-03-25</td>\n",
       "      <td>[{'rank': 2, 'week': 2025-03-23 00:00:00}]</td>\n",
       "    </tr>\n",
       "    <tr>\n",
       "      <th>2</th>\n",
       "      <td>jasmine crockett</td>\n",
       "      <td>2025-03-25</td>\n",
       "      <td>[{'rank': 3, 'week': 2025-03-23 00:00:00}]</td>\n",
       "    </tr>\n",
       "    <tr>\n",
       "      <th>3</th>\n",
       "      <td>troy taylor</td>\n",
       "      <td>2025-03-25</td>\n",
       "      <td>[{'rank': 4, 'week': 2025-03-23 00:00:00}]</td>\n",
       "    </tr>\n",
       "    <tr>\n",
       "      <th>4</th>\n",
       "      <td>outside lands 2025</td>\n",
       "      <td>2025-03-25</td>\n",
       "      <td>[{'rank': 5, 'week': 2025-03-23 00:00:00}]</td>\n",
       "    </tr>\n",
       "  </tbody>\n",
       "</table>\n",
       "</div>"
      ],
      "text/plain": [
       "                 term refresh_date                                           x\n",
       "0  bolivia vs uruguay   2025-03-25  [{'rank': 1, 'week': 2025-03-23 00:00:00}]\n",
       "1   bolivia - uruguay   2025-03-25  [{'rank': 2, 'week': 2025-03-23 00:00:00}]\n",
       "2    jasmine crockett   2025-03-25  [{'rank': 3, 'week': 2025-03-23 00:00:00}]\n",
       "3         troy taylor   2025-03-25  [{'rank': 4, 'week': 2025-03-23 00:00:00}]\n",
       "4  outside lands 2025   2025-03-25  [{'rank': 5, 'week': 2025-03-23 00:00:00}]"
      ]
     },
     "execution_count": 8,
     "metadata": {},
     "output_type": "execute_result"
    }
   ],
   "source": [
    "target_trends_df = bq.query(query).to_dataframe()\n",
    "\n",
    "sample_term = target_trends_df['term'].iloc[0]\n",
    "print(sample_term)\n",
    "\n",
    "target_trends_df.head(5)"
   ]
  },
  {
   "cell_type": "markdown",
   "metadata": {},
   "source": [
    "### get trends history\n",
    "\n",
    "**TODO**\n",
    "\n",
    "* [src](https://github.com/tottenjordan/social-pulse/blob/main/zeitghost/src/data/single_context_collector.py#L45C1-L67C15)\n",
    "\n",
    "```python\n",
    "formatted_today = date.today().strftime(\"%m/%d/%Y\") # Month/Day/Year\n",
    "print(formatted_today)\n",
    "```"
   ]
  },
  {
   "cell_type": "code",
   "execution_count": 9,
   "metadata": {},
   "outputs": [],
   "source": [
    "def get_date_x_days_ago(x):\n",
    "  \"\"\"\n",
    "  Calculates the date x days ago from today.\n",
    "  \n",
    "  Args:\n",
    "    x: An integer representing the number of days ago.\n",
    "\n",
    "  Returns:\n",
    "    A datetime.date object representing the date x days ago.\n",
    "  \"\"\"\n",
    "  return date.today() - timedelta(days=x)"
   ]
  },
  {
   "cell_type": "code",
   "execution_count": 10,
   "metadata": {},
   "outputs": [
    {
     "name": "stdout",
     "output_type": "stream",
     "text": [
      "{'target_date': '03/25/2025',\n",
      " 'timesframes': [('03/20/2025', '03/27/2025'),\n",
      "                 ('02/25/2025', '03/27/2025'),\n",
      "                 ('12/27/2024', '03/27/2025')],\n",
      " 'topic': 'widespread panic'}\n"
     ]
    }
   ],
   "source": [
    "TARGET_QUERY = \"widespread panic\"\n",
    "TIMEFRAMES = [7, 30, 90] # days in past\n",
    "q_dict = {}\n",
    "interval_list = []\n",
    "\n",
    "_TODAY = date.today().strftime(\"%m/%d/%Y\")\n",
    "\n",
    "q_dict.update({\"topic\": TARGET_QUERY})\n",
    "q_dict.update({\"target_date\": TARGET_DATE})\n",
    "\n",
    "for day in TIMEFRAMES:\n",
    "  prev_date = get_date_x_days_ago(day)\n",
    "  prev_date = prev_date.strftime(\"%m/%d/%Y\")\n",
    "  interval_list.append((prev_date, _TODAY))\n",
    "\n",
    "q_dict.update({f\"timesframes\": interval_list})\n",
    "\n",
    "pprint(q_dict)"
   ]
  },
  {
   "cell_type": "markdown",
   "metadata": {},
   "source": [
    "# YouTube Data API"
   ]
  },
  {
   "cell_type": "markdown",
   "metadata": {},
   "source": [
    "references\n",
    "* API reference: [parameters](https://developers.google.com/youtube/v3/docs/videos/list#parameters)\n",
    "* video resource [JSON structure](https://developers.google.com/youtube/v3/docs/videos#resource-representation)"
   ]
  },
  {
   "cell_type": "markdown",
   "metadata": {},
   "source": [
    "### config"
   ]
  },
  {
   "cell_type": "code",
   "execution_count": 12,
   "metadata": {},
   "outputs": [],
   "source": [
    "from vertexai.generative_models import GenerativeModel, Part\n",
    "\n",
    "# Set Gemini Flash and Pro models to be used in this notebook\n",
    "GEMINI_FLASH_MODEL_ID = \"gemini-1.5-flash-002\"\n",
    "GEMINI_PRO_MODEL_ID = \"gemini-1.5-pro-002\"\n",
    "\n",
    "gemini_flash_model = GenerativeModel(GEMINI_FLASH_MODEL_ID)\n",
    "gemini_pro_model = GenerativeModel(GEMINI_PRO_MODEL_ID)\n",
    "\n",
    "# Disable OAuthlib's HTTPS verification when running locally.\n",
    "# *DO NOT* leave this option enabled in production.\n",
    "os.environ[\"OAUTHLIB_INSECURE_TRANSPORT\"] = \"1\""
   ]
  },
  {
   "cell_type": "code",
   "execution_count": 11,
   "metadata": {},
   "outputs": [
    {
     "name": "stdout",
     "output_type": "stream",
     "text": [
      "_SECRET_NAME: projects/hybrid-vertex/secrets/projects/934903580331/secrets/yt-data-api\n",
      "\n"
     ]
    }
   ],
   "source": [
    "import pandas as pd\n",
    "from IPython.display import HTML\n",
    "\n",
    "# import google_auth_oauthlib.flow\n",
    "from google.cloud import secretmanager\n",
    "import googleapiclient.discovery\n",
    "import googleapiclient.errors\n",
    "\n",
    "scopes = [\"https://www.googleapis.com/auth/youtube.readonly\"]\n",
    "sm_client = secretmanager.SecretManagerServiceClient()\n",
    "\n",
    "API_SERVICE_NAME = \"youtube\"\n",
    "API_VERSION = \"v3\"\n",
    "\n",
    "_SECRET_ID = 'projects/934903580331/secrets/yt-data-api'\n",
    "_SECRET_VERSION = '{}/versions/1'.format(_SECRET_ID)\n",
    "_SECRET_NAME = sm_client.secret_path(PROJECT_ID, _SECRET_ID)\n",
    "print(f\"_SECRET_NAME: {_SECRET_NAME}\\n\")\n",
    "\n",
    "response = sm_client.access_secret_version(request={\"name\": _SECRET_VERSION})\n",
    "# print(f\"response: {response}\")\n",
    "\n",
    "YOUTUBE_DATA_API_KEY = response.payload.data.decode(\"UTF-8\")\n",
    "# print(f\"YOUTUBE_DATA_API_KEY: {YOUTUBE_DATA_API_KEY}\")"
   ]
  },
  {
   "cell_type": "markdown",
   "metadata": {},
   "source": [
    "### yt discovery client\n",
    "\n",
    "> see [src](https://github.com/googleapis/google-api-python-client/blob/main/googleapiclient/discovery.py)"
   ]
  },
  {
   "cell_type": "code",
   "execution_count": 13,
   "metadata": {},
   "outputs": [
    {
     "data": {
      "text/plain": [
       "<googleapiclient.discovery.Resource at 0x7f04c805d310>"
      ]
     },
     "execution_count": 13,
     "metadata": {},
     "output_type": "execute_result"
    }
   ],
   "source": [
    "youtube = googleapiclient.discovery.build(\n",
    "    serviceName=API_SERVICE_NAME, \n",
    "    version=API_VERSION, \n",
    "    developerKey=YOUTUBE_DATA_API_KEY\n",
    ")\n",
    "\n",
    "youtube"
   ]
  },
  {
   "cell_type": "markdown",
   "metadata": {},
   "source": [
    "## Search YouTube"
   ]
  },
  {
   "cell_type": "code",
   "execution_count": 14,
   "metadata": {},
   "outputs": [
    {
     "name": "stdout",
     "output_type": "stream",
     "text": [
      "search_query: time travel\n",
      "channelId: UC9MAhZQQd9egwWCxrwSIsJQ\n",
      "video_duration_type: medium\n",
      "published_after: 2025-01-26T20:00:36.471857+00:00\n",
      "order_criteria: relevance\n",
      "num_results: 5\n"
     ]
    }
   ],
   "source": [
    "TARGET_QUERY = \"time travel\"\n",
    "\n",
    "# CHANNEL_ID = \"UCvW9uSNy6Lytcnib1CdXrow\" # TPB\n",
    "CHANNEL_ID = \"UC9MAhZQQd9egwWCxrwSIsJQ\" # AA\n",
    "\n",
    "NUM_RESULTS = 5\n",
    "\n",
    "# duration (minutes): ['any', 'long', 'medium', 'short']\n",
    "# short: (-inf, 4)\n",
    "# medium: [4, 20]\n",
    "# long: (20, inf)\n",
    "VIDEO_DURATION = \"medium\"\n",
    "\n",
    "# order resources in API response\n",
    "ORDER_CRITERIA = \"relevance\"  # ['date', 'rating', 'relevance', 'title', 'viewCount']\n",
    "\n",
    "MAX_DAYS_AGO = 60\n",
    "PUBLISHED_AFTER_TIMESTAMP = (\n",
    "    (pd.Timestamp.now() - pd.DateOffset(days=MAX_DAYS_AGO))\n",
    "    .tz_localize(\"UTC\")\n",
    "    .isoformat()\n",
    ")\n",
    "\n",
    "print(f\"search_query: {TARGET_QUERY}\")\n",
    "print(f\"channelId: {CHANNEL_ID}\")\n",
    "print(f\"video_duration_type: {VIDEO_DURATION}\")\n",
    "print(f\"published_after: {PUBLISHED_AFTER_TIMESTAMP}\")\n",
    "print(f\"order_criteria: {ORDER_CRITERIA}\")\n",
    "print(f\"num_results: {NUM_RESULTS}\")"
   ]
  },
  {
   "cell_type": "markdown",
   "metadata": {},
   "source": [
    "### youtube search parameters\n",
    "\n",
    "* `mostPopular` - Return the most popular videos for the specified content region and video category\n",
    "\n",
    "* see options for `part` parameter:\n",
    "  * [contentDetails](https://developers.google.com/youtube/v3/docs/videos#contentDetails)\n",
    "  * [statisitcs](https://developers.google.com/youtube/v3/docs/videos#statistics)\n",
    "  * [topicDetails](https://developers.google.com/youtube/v3/docs/videos#topicDetails)"
   ]
  },
  {
   "cell_type": "code",
   "execution_count": 15,
   "metadata": {},
   "outputs": [
    {
     "data": {
      "text/html": [
       "<table border=\"1\" class=\"dataframe\">\n",
       "  <thead>\n",
       "    <tr style=\"text-align: right;\">\n",
       "      <th></th>\n",
       "      <th>publishedAt</th>\n",
       "      <th>videoId</th>\n",
       "      <th>videoTitle</th>\n",
       "      <th>videoDescription</th>\n",
       "      <th>videoThumbnail</th>\n",
       "      <th>videoURL</th>\n",
       "      <th>channelTitle</th>\n",
       "      <th>channelId</th>\n",
       "    </tr>\n",
       "  </thead>\n",
       "  <tbody>\n",
       "    <tr>\n",
       "      <th>0</th>\n",
       "      <td>2025-03-25T15:01:18Z</td>\n",
       "      <td>vaMi79TmqJs</td>\n",
       "      <td>MASSIVE Investigations Launched into Hindenburg Disaster | History&#39;s Most Shocking (S1)</td>\n",
       "      <td>The Hindenburg, the pride of Germany, explodes in flames while flying over New Jersey in 1937, sparking a mystery. See more in ...</td>\n",
       "      <td><a href=\"https://i.ytimg.com/vi/vaMi79TmqJs/hqdefault.jpg\" target=\"_blank\">https://i.ytimg.com/vi/vaMi79TmqJs/hqdefault.jpg</a></td>\n",
       "      <td><a href=\"https://www.youtube.com/watch?v=vaMi79TmqJs\" target=\"_blank\">https://www.youtube.com/watch?v=vaMi79TmqJs</a></td>\n",
       "      <td>HISTORY</td>\n",
       "      <td>UC9MAhZQQd9egwWCxrwSIsJQ</td>\n",
       "    </tr>\n",
       "    <tr>\n",
       "      <th>1</th>\n",
       "      <td>2025-03-23T18:00:10Z</td>\n",
       "      <td>HWz-7gQiLBQ</td>\n",
       "      <td>Investigating Cosmic Mysteries | Ancient Aliens</td>\n",
       "      <td>Follow David Childress as he investigates mysteries around the world. See more in this Ancient Aliens compilation. Watch all new ...</td>\n",
       "      <td><a href=\"https://i.ytimg.com/vi/HWz-7gQiLBQ/hqdefault.jpg\" target=\"_blank\">https://i.ytimg.com/vi/HWz-7gQiLBQ/hqdefault.jpg</a></td>\n",
       "      <td><a href=\"https://www.youtube.com/watch?v=HWz-7gQiLBQ\" target=\"_blank\">https://www.youtube.com/watch?v=HWz-7gQiLBQ</a></td>\n",
       "      <td>HISTORY</td>\n",
       "      <td>UC9MAhZQQd9egwWCxrwSIsJQ</td>\n",
       "    </tr>\n",
       "    <tr>\n",
       "      <th>2</th>\n",
       "      <td>2025-03-17T18:00:06Z</td>\n",
       "      <td>6Em9JoAuOyY</td>\n",
       "      <td>3 Groundbreaking Gold Finds | The Curse of Oak Island</td>\n",
       "      <td>The crew investigates major finds that could be made of gold. See more in this The Curse of Oak Island compilation. 0:00 Testing ...</td>\n",
       "      <td><a href=\"https://i.ytimg.com/vi/6Em9JoAuOyY/hqdefault.jpg\" target=\"_blank\">https://i.ytimg.com/vi/6Em9JoAuOyY/hqdefault.jpg</a></td>\n",
       "      <td><a href=\"https://www.youtube.com/watch?v=6Em9JoAuOyY\" target=\"_blank\">https://www.youtube.com/watch?v=6Em9JoAuOyY</a></td>\n",
       "      <td>HISTORY</td>\n",
       "      <td>UC9MAhZQQd9egwWCxrwSIsJQ</td>\n",
       "    </tr>\n",
       "  </tbody>\n",
       "</table>"
      ],
      "text/plain": [
       "<IPython.core.display.HTML object>"
      ]
     },
     "execution_count": 15,
     "metadata": {},
     "output_type": "execute_result"
    }
   ],
   "source": [
    "# Using Search:list - https://developers.google.com/youtube/v3/docs/search/list\n",
    "yt_data_api_request = youtube.search().list(\n",
    "    part=\"id,snippet\",\n",
    "    type=\"video\",\n",
    "    q=TARGET_QUERY,\n",
    "    videoDuration=VIDEO_DURATION,\n",
    "    maxResults=NUM_RESULTS,\n",
    "    publishedAfter=PUBLISHED_AFTER_TIMESTAMP,\n",
    "    channelId=CHANNEL_ID,\n",
    "    order=ORDER_CRITERIA,\n",
    "    videoCaption=\"closedCaption\" # only include videos with CC?\n",
    ")\n",
    "yt_data_api_response = yt_data_api_request.execute()\n",
    "\n",
    "# prepare results dataframe\n",
    "data_dict = {}\n",
    "i=1\n",
    "\n",
    "for video in yt_data_api_response['items']:\n",
    "    row_name = f\"row{i}\"\n",
    "    data_dict.update(\n",
    "        {\n",
    "            row_name: {\n",
    "                'publishedAt': video['snippet']['publishedAt'],\n",
    "                'videoId': video['id']['videoId'], \n",
    "                'videoTitle': video['snippet']['title'],\n",
    "                'videoDescription': video['snippet']['description'],\n",
    "                'videoThumbnail': video['snippet']['thumbnails']['high']['url'],\n",
    "                'videoURL': f\"https://www.youtube.com/watch?v={video['id']['videoId']}\",\n",
    "                'channelTitle': video['snippet']['channelTitle'],\n",
    "                'channelId': video['snippet']['channelId'],\n",
    "            }\n",
    "        }\n",
    "    )\n",
    "    i+=1\n",
    "\n",
    "yt_df = pd.DataFrame.from_dict(data_dict, orient='index')\n",
    "yt_df = yt_df.reset_index(drop=True)\n",
    "\n",
    "HTML(yt_df.to_html(render_links=True, escape=False))"
   ]
  },
  {
   "cell_type": "code",
   "execution_count": null,
   "metadata": {},
   "outputs": [
    {
     "name": "stdout",
     "output_type": "stream",
     "text": [
      "{'etag': 'jisC5xfUqF3p86EwzB_7k-JZMO4',\n",
      " 'items': [{'etag': 'DDj68gUpa-kr1vdX1STM5SxgPnU',\n",
      "            'id': {'kind': 'youtube#video', 'videoId': 'NxpZ_g3sMCw'},\n",
      "            'kind': 'youtube#searchResult',\n",
      "            'snippet': {'channelId': 'UC9MAhZQQd9egwWCxrwSIsJQ',\n",
      "                        'channelTitle': 'HISTORY',\n",
      "                        'description': 'Check out these groundbreaking time '\n",
      "                                       'travel theories. See more in this '\n",
      "                                       'Ancient Aliens compilation. 1) 0:00 2) '\n",
      "                                       '17:36 Watch all new ...',\n",
      "                        'liveBroadcastContent': 'none',\n",
      "                        'publishTime': '2025-03-11T18:00:16Z',\n",
      "                        'publishedAt': '2025-03-11T18:00:16Z',\n",
      "                        'thumbnails': {'default': {'height': 90,\n",
      "                                                   'url': 'https://i.ytimg.com/vi/NxpZ_g3sMCw/default.jpg',\n",
      "                                                   'width': 120},\n",
      "                                       'high': {'height': 360,\n",
      "                                                'url': 'https://i.ytimg.com/vi/NxpZ_g3sMCw/hqdefault.jpg',\n",
      "                                                'width': 480},\n",
      "                                       'medium': {'height': 180,\n",
      "                                                  'url': 'https://i.ytimg.com/vi/NxpZ_g3sMCw/mqdefault.jpg',\n",
      "                                                  'width': 320}},\n",
      "                        'title': 'Time Travel Secrets Exposed! | Ancient '\n",
      "                                 'Aliens'}},\n",
      "           {'etag': 'wIzrIdOnSGPbD3Hny7kzYwANxQY',\n",
      "            'id': {'kind': 'youtube#video', 'videoId': '-UfqVbm3bGY'},\n",
      "            'kind': 'youtube#searchResult',\n",
      "            'snippet': {'channelId': 'UC9MAhZQQd9egwWCxrwSIsJQ',\n",
      "                        'channelTitle': 'HISTORY',\n",
      "                        'description': 'Highly advanced mathematical theories '\n",
      "                                       'are discussed in this Ancient Aliens '\n",
      "                                       'compilation. Watch all new episodes '\n",
      "                                       'Fridays 9/8c; ...',\n",
      "                        'liveBroadcastContent': 'none',\n",
      "                        'publishTime': '2025-03-06T19:00:00Z',\n",
      "                        'publishedAt': '2025-03-06T19:00:00Z',\n",
      "                        'thumbnails': {'default': {'height': 90,\n",
      "                                                   'url': 'https://i.ytimg.com/vi/-UfqVbm3bGY/default.jpg',\n",
      "                                                   'width': 120},\n",
      "                                       'high': {'height': 360,\n",
      "                                                'url': 'https://i.ytimg.com/vi/-UfqVbm3bGY/hqdefault.jpg',\n",
      "                                                'width': 480},\n",
      "                                       'medium': {'height': 180,\n",
      "                                                  'url': 'https://i.ytimg.com/vi/-UfqVbm3bGY/mqdefault.jpg',\n",
      "                                                  'width': 320}},\n",
      "                        'title': 'The Most Mysterious Theories in Mathematics '\n",
      "                                 '| Ancient Aliens'}},\n",
      "           {'etag': 'iW7s-pm-T-gLzG3Ui3GlVOPzhTQ',\n",
      "            'id': {'kind': 'youtube#video', 'videoId': 'vaMi79TmqJs'},\n",
      "            'kind': 'youtube#searchResult',\n",
      "            'snippet': {'channelId': 'UC9MAhZQQd9egwWCxrwSIsJQ',\n",
      "                        'channelTitle': 'HISTORY',\n",
      "                        'description': 'The Hindenburg, the pride of Germany, '\n",
      "                                       'explodes in flames while flying over '\n",
      "                                       'New Jersey in 1937, sparking a '\n",
      "                                       'mystery. See more in ...',\n",
      "                        'liveBroadcastContent': 'none',\n",
      "                        'publishTime': '2025-03-25T15:01:18Z',\n",
      "                        'publishedAt': '2025-03-25T15:01:18Z',\n",
      "                        'thumbnails': {'default': {'height': 90,\n",
      "                                                   'url': 'https://i.ytimg.com/vi/vaMi79TmqJs/default.jpg',\n",
      "                                                   'width': 120},\n",
      "                                       'high': {'height': 360,\n",
      "                                                'url': 'https://i.ytimg.com/vi/vaMi79TmqJs/hqdefault.jpg',\n",
      "                                                'width': 480},\n",
      "                                       'medium': {'height': 180,\n",
      "                                                  'url': 'https://i.ytimg.com/vi/vaMi79TmqJs/mqdefault.jpg',\n",
      "                                                  'width': 320}},\n",
      "                        'title': 'MASSIVE Investigations Launched into '\n",
      "                                 'Hindenburg Disaster | History&#39;s Most '\n",
      "                                 'Shocking (S1)'}},\n",
      "           {'etag': '_3YLYtOWRryNiKSErZxhk_FW5TQ',\n",
      "            'id': {'kind': 'youtube#video', 'videoId': 'HWz-7gQiLBQ'},\n",
      "            'kind': 'youtube#searchResult',\n",
      "            'snippet': {'channelId': 'UC9MAhZQQd9egwWCxrwSIsJQ',\n",
      "                        'channelTitle': 'HISTORY',\n",
      "                        'description': 'Follow David Childress as he '\n",
      "                                       'investigates mysteries around the '\n",
      "                                       'world. See more in this Ancient Aliens '\n",
      "                                       'compilation. Watch all new ...',\n",
      "                        'liveBroadcastContent': 'none',\n",
      "                        'publishTime': '2025-03-23T18:00:10Z',\n",
      "                        'publishedAt': '2025-03-23T18:00:10Z',\n",
      "                        'thumbnails': {'default': {'height': 90,\n",
      "                                                   'url': 'https://i.ytimg.com/vi/HWz-7gQiLBQ/default.jpg',\n",
      "                                                   'width': 120},\n",
      "                                       'high': {'height': 360,\n",
      "                                                'url': 'https://i.ytimg.com/vi/HWz-7gQiLBQ/hqdefault.jpg',\n",
      "                                                'width': 480},\n",
      "                                       'medium': {'height': 180,\n",
      "                                                  'url': 'https://i.ytimg.com/vi/HWz-7gQiLBQ/mqdefault.jpg',\n",
      "                                                  'width': 320}},\n",
      "                        'title': 'Investigating Cosmic Mysteries | Ancient '\n",
      "                                 'Aliens'}},\n",
      "           {'etag': 'aqmJd-7STYG8PMslRg-p9OBfoSc',\n",
      "            'id': {'kind': 'youtube#video', 'videoId': '6Em9JoAuOyY'},\n",
      "            'kind': 'youtube#searchResult',\n",
      "            'snippet': {'channelId': 'UC9MAhZQQd9egwWCxrwSIsJQ',\n",
      "                        'channelTitle': 'HISTORY',\n",
      "                        'description': 'The crew investigates major finds that '\n",
      "                                       'could be made of gold. See more in '\n",
      "                                       'this The Curse of Oak Island '\n",
      "                                       'compilation. 0:00 Testing ...',\n",
      "                        'liveBroadcastContent': 'none',\n",
      "                        'publishTime': '2025-03-17T18:00:06Z',\n",
      "                        'publishedAt': '2025-03-17T18:00:06Z',\n",
      "                        'thumbnails': {'default': {'height': 90,\n",
      "                                                   'url': 'https://i.ytimg.com/vi/6Em9JoAuOyY/default.jpg',\n",
      "                                                   'width': 120},\n",
      "                                       'high': {'height': 360,\n",
      "                                                'url': 'https://i.ytimg.com/vi/6Em9JoAuOyY/hqdefault.jpg',\n",
      "                                                'width': 480},\n",
      "                                       'medium': {'height': 180,\n",
      "                                                  'url': 'https://i.ytimg.com/vi/6Em9JoAuOyY/mqdefault.jpg',\n",
      "                                                  'width': 320}},\n",
      "                        'title': '3 Groundbreaking Gold Finds | The Curse of '\n",
      "                                 'Oak Island'}}],\n",
      " 'kind': 'youtube#searchListResponse',\n",
      " 'nextPageToken': 'CAUQAA',\n",
      " 'pageInfo': {'resultsPerPage': 5, 'totalResults': 14},\n",
      " 'regionCode': 'ZZ'}\n"
     ]
    }
   ],
   "source": [
    "# yt_data_api_response['items'][0]\n",
    "# \n",
    "# # pprint(yt_data_api_response)"
   ]
  },
  {
   "cell_type": "markdown",
   "metadata": {},
   "source": [
    "### Get summary from Gemini for each video"
   ]
  },
  {
   "cell_type": "code",
   "execution_count": null,
   "metadata": {},
   "outputs": [
    {
     "data": {
      "text/html": [
       "<table border=\"1\" class=\"dataframe\">\n",
       "  <thead>\n",
       "    <tr style=\"text-align: right;\">\n",
       "      <th></th>\n",
       "      <th>publishedAt</th>\n",
       "      <th>videoId</th>\n",
       "      <th>videoTitle</th>\n",
       "      <th>videoDescription</th>\n",
       "      <th>videoThumbnail</th>\n",
       "      <th>videoURL</th>\n",
       "      <th>channelTitle</th>\n",
       "      <th>channelId</th>\n",
       "      <th>geminiVideoSummary</th>\n",
       "    </tr>\n",
       "  </thead>\n",
       "  <tbody>\n",
       "    <tr>\n",
       "      <th>0</th>\n",
       "      <td>2025-03-25T15:01:18Z</td>\n",
       "      <td>vaMi79TmqJs</td>\n",
       "      <td>MASSIVE Investigations Launched into Hindenburg Disaster | History&#39;s Most Shocking (S1)</td>\n",
       "      <td>The Hindenburg, the pride of Germany, explodes in flames while flying over New Jersey in 1937, sparking a mystery. See more in ...</td>\n",
       "      <td><a href=\"https://i.ytimg.com/vi/vaMi79TmqJs/hqdefault.jpg\" target=\"_blank\">https://i.ytimg.com/vi/vaMi79TmqJs/hqdefault.jpg</a></td>\n",
       "      <td><a href=\"https://www.youtube.com/watch?v=vaMi79TmqJs\" target=\"_blank\">https://www.youtube.com/watch?v=vaMi79TmqJs</a></td>\n",
       "      <td>HISTORY</td>\n",
       "      <td>UC9MAhZQQd9egwWCxrwSIsJQ</td>\n",
       "      <td>Here is a summary of the provided video from History’s Most Shocking:\\n\\nThe Hindenburg was a German zeppelin that was the ultimate experience in luxury air travel during the last century. In 1937, it was on its way to the United States when it tragically exploded. The disaster happened over a naval air station in Lakehurst, New Jersey on May 6, 1937. It was carrying 36 passengers and 61 crew members. The rear of the Hindenburg exploded just four minutes after landing procedures were initiated, killing 36 people, including one ground worker. Miraculously, 62 passengers and crew members survived.\\n\\nThe cause of the accident was initially unknown, leading to speculation of sabotage by a passenger, Joseph Spah. German and American investigations launched after the event determined that hydrogen ignited within the balloon’s tail section.\\n\\nThe Hindenburg disaster became a viral moment, as images of the explosion were seen on newsreels and in movie theaters around the world. \\n\\nHowever, the exact cause of the spark remained unknown. In the video, Dr. Michio Kaku explains that the skin of the zeppelin was probably supercharged with electricity, but it had nowhere to go. A similar situation is like walking across carpet with socks, creating static electricity. The combination of aluminum powder and iron oxide on the fabric created a flammable mixture that was likely ignited by an electric spark caused by a buildup of static electricity and rainy, stormy conditions.</td>\n",
       "    </tr>\n",
       "    <tr>\n",
       "      <th>1</th>\n",
       "      <td>2025-03-23T18:00:10Z</td>\n",
       "      <td>HWz-7gQiLBQ</td>\n",
       "      <td>Investigating Cosmic Mysteries | Ancient Aliens</td>\n",
       "      <td>Follow David Childress as he investigates mysteries around the world. See more in this Ancient Aliens compilation. Watch all new ...</td>\n",
       "      <td><a href=\"https://i.ytimg.com/vi/HWz-7gQiLBQ/hqdefault.jpg\" target=\"_blank\">https://i.ytimg.com/vi/HWz-7gQiLBQ/hqdefault.jpg</a></td>\n",
       "      <td><a href=\"https://www.youtube.com/watch?v=HWz-7gQiLBQ\" target=\"_blank\">https://www.youtube.com/watch?v=HWz-7gQiLBQ</a></td>\n",
       "      <td>HISTORY</td>\n",
       "      <td>UC9MAhZQQd9egwWCxrwSIsJQ</td>\n",
       "      <td>Ancient astronaut theorists explore the mysterious stone structures of Carnac on the northwest coast of France. The megaliths are more than 3,000 granite rocks arranged in various shapes. Local legend tells of invading Roman soldiers turned into stone by Merlin the Magician. But the rocks also have magnetic properties, are cut on one side, and nearly all of them come to a point. Did their placement create some kind of geomagnetic field? These rock formations may be one of the places on earth that have been recognized as points with high magnetic forces. Other places such as the Giza pyramids, Machu Picchu, and Baalbek in Lebanon all have similar properties. These locations may have been chosen to harness an ancient world energy grid. The Carnac stones, according to the legend, were built to be viewed from above. Three similar locations that can be viewed from space are the Great Wall of China, the Nazca lines, and Carnac. Could these stone structures have been erected for or by extraterrestrials?</td>\n",
       "    </tr>\n",
       "    <tr>\n",
       "      <th>2</th>\n",
       "      <td>2025-03-17T18:00:06Z</td>\n",
       "      <td>6Em9JoAuOyY</td>\n",
       "      <td>3 Groundbreaking Gold Finds | The Curse of Oak Island</td>\n",
       "      <td>The crew investigates major finds that could be made of gold. See more in this The Curse of Oak Island compilation. 0:00 Testing ...</td>\n",
       "      <td><a href=\"https://i.ytimg.com/vi/6Em9JoAuOyY/hqdefault.jpg\" target=\"_blank\">https://i.ytimg.com/vi/6Em9JoAuOyY/hqdefault.jpg</a></td>\n",
       "      <td><a href=\"https://www.youtube.com/watch?v=6Em9JoAuOyY\" target=\"_blank\">https://www.youtube.com/watch?v=6Em9JoAuOyY</a></td>\n",
       "      <td>HISTORY</td>\n",
       "      <td>UC9MAhZQQd9egwWCxrwSIsJQ</td>\n",
       "      <td>Marty Lagina, Alex Lagina and Craig Tester visit Saint Mary’s University in Halifax. They want to find out if an antique brooch found on lot 21 is partially made of gold. Dr. Christa Brosseau, an associate professor of chemistry, and her colleague, Dr. Xiangyang, examine the brooch with a high-powered scanning electron microscope, which magnifies the brooch tens of thousands of times its actual size. They are able to examine the chemical composition of the brooch and determine that it is indeed made of gold. Later, back on Oak Island, Marty Lagina informs the rest of the team of the discovery, which is believed to be a momentous development in the 223-year history of the Oak Island treasure hunt. \\n\\nIn another discovery, the team has extracted wood samples from a depth of fifty-five feet inside the Garden Shaft, containing high-trace evidence of gold. The wood was dried and scanned by Emma Culligan, an archaeo metallurgist, using an X-ray fluorescence spectrometer, or XRF, which bombarded it with gamma rays and confirmed the presence of gold.</td>\n",
       "    </tr>\n",
       "  </tbody>\n",
       "</table>"
      ],
      "text/plain": [
       "<IPython.core.display.HTML object>"
      ]
     },
     "execution_count": 18,
     "metadata": {},
     "output_type": "execute_result"
    }
   ],
   "source": [
    "def get_gemini_summary_from_youtube_video_url(video_url):\n",
    "    video_summary_prompt = \"Summarize this video.\"\n",
    "    \n",
    "    # Gemini Pro: highest quality\n",
    "    video_summary_response = gemini_pro_model.generate_content(\n",
    "        [\n",
    "            video_summary_prompt,\n",
    "            Part.from_uri(mime_type=\"video/webm\", uri=video_url)\n",
    "        ]\n",
    "    )\n",
    "    \n",
    "    # Gemini Flash: prioritize latency/cost\n",
    "    # video_summary_response = gemini_flash_model.generate_content(\n",
    "    #     [\n",
    "    #         video_summary_prompt,\n",
    "    #         Part.from_uri(mime_type=\"video/webm\", uri=video_url)\n",
    "    #     ]\n",
    "    # )\n",
    "\n",
    "    summary_text = video_summary_response.text    \n",
    "    return summary_text\n",
    "\n",
    "# generate summaries \n",
    "yt_df[\"geminiVideoSummary\"] = yt_df[\"videoURL\"].apply(\n",
    "    get_gemini_summary_from_youtube_video_url\n",
    ")\n",
    "HTML(yt_df.to_html(render_links=True, escape=False, max_rows=3))"
   ]
  },
  {
   "cell_type": "markdown",
   "metadata": {},
   "source": [
    "### Load response dataframe to BigQuery"
   ]
  },
  {
   "cell_type": "code",
   "execution_count": 19,
   "metadata": {},
   "outputs": [],
   "source": [
    "BQ_DATASET = 'youtube_video_analysis' # os.getenv(\"BQ_DATASET\")\n",
    "TRENDING_YT_RESPONSE_TABLE = \"yt_search_responses_v2\""
   ]
  },
  {
   "cell_type": "code",
   "execution_count": 20,
   "metadata": {},
   "outputs": [
    {
     "data": {
      "text/plain": [
       "LoadJob<project=hybrid-vertex, location=us-central1, id=173da702-a0dc-4d82-a89e-585ef8d41fff>"
      ]
     },
     "execution_count": 20,
     "metadata": {},
     "output_type": "execute_result"
    }
   ],
   "source": [
    "YOUTUBE_API_LOAD_JOB = bq.load_table_from_dataframe(\n",
    "    yt_df,\n",
    "    f\"{BQ_DATASET}.{TRENDING_YT_RESPONSE_TABLE}\",\n",
    "    # job_config=bigquery.LoadJobConfig(write_disposition=\"WRITE_TRUNCATE\"),\n",
    ")\n",
    "\n",
    "# Wait for the load job to complete\n",
    "YOUTUBE_API_LOAD_JOB.result()"
   ]
  },
  {
   "cell_type": "markdown",
   "metadata": {},
   "source": [
    "## YouTube Trends"
   ]
  },
  {
   "cell_type": "code",
   "execution_count": 26,
   "metadata": {},
   "outputs": [],
   "source": [
    "request = youtube.videos().list(\n",
    "    part=\"snippet,contentDetails,statistics\",\n",
    "    chart=\"mostPopular\",\n",
    "    regionCode=\"US\",\n",
    "    maxResults=7,\n",
    ")\n",
    "response = request.execute()\n",
    "# print(response)"
   ]
  },
  {
   "cell_type": "code",
   "execution_count": 27,
   "metadata": {},
   "outputs": [
    {
     "data": {
      "text/html": [
       "<table border=\"1\" class=\"dataframe\">\n",
       "  <thead>\n",
       "    <tr style=\"text-align: right;\">\n",
       "      <th></th>\n",
       "      <th>publishedAt</th>\n",
       "      <th>videoId</th>\n",
       "      <th>videoTitle</th>\n",
       "      <th>videoDescription</th>\n",
       "      <th>duration</th>\n",
       "      <th>videoTags</th>\n",
       "      <th>viewCount</th>\n",
       "      <th>likeCount</th>\n",
       "      <th>favoriteCount</th>\n",
       "      <th>commentCount</th>\n",
       "      <th>videoURL</th>\n",
       "      <th>videoThumbnail</th>\n",
       "      <th>channelTitle</th>\n",
       "      <th>channelId</th>\n",
       "    </tr>\n",
       "  </thead>\n",
       "  <tbody>\n",
       "    <tr>\n",
       "      <th>0</th>\n",
       "      <td>2025-03-26T18:50:00Z</td>\n",
       "      <td>vH0OetsEZ7A</td>\n",
       "      <td>The LeBron James Unfiltered Full Interview With The Pat McAfee Show</td>\n",
       "      <td>Welcome to The Pat McAfee Show LIVE from Noon-3PM EST Mon-Fri. You can also find us live on ESPN, ESPN+, & TikTok!\\n\\nBecome a #McAfeeMafia member! https://www.youtube.com/channel/UCxcTeAKWJca6XyJ37_ZoKIQ/join\\n\\nSUBSCRIBE:\\nhttps://www.youtube.com/channel/UCxcTeAKWJca6XyJ37_ZoKIQ?sub_confirmation=1\\n\\nMERCH: https://store.patmcafeeshow.com\\n\\nSubscribe to the Pat McAfee Show(s)!\\n @Hammer Dahn  \\n @The CONCAFA Show \\n @The Pod  \\n @The Pat McAfee Show  \\n   \\nMERCH: https://store.patmcafeeshow.com\\nSPONSOR THE SHOW: https://www.patmcafeeshow.com/partnerships\\n\\n#PatMcAfee #NFL</td>\n",
       "      <td>PT1H12M42S</td>\n",
       "      <td>[pat mcafee, podcast, sports, nfl, ncaa, football, for the brand, punter, kicker, pat mcafee show, american football, nfl news, pat mcafee clips, pat mcafee reacts, pat mcafee highlights, pat mcafee live, pat mcafee show live, pat mcafee podcast, the pat mcafee show, McAfeeESPN2023, lebron james, lebron james song, lebron james highlights, lebron james and bronny, lebron james stephen a smith, lebron james pat mcafee, pat mcafee lebron, lebron interview, lebron podcast]</td>\n",
       "      <td>1135166</td>\n",
       "      <td>45050</td>\n",
       "      <td>0</td>\n",
       "      <td>5340</td>\n",
       "      <td><a href=\"https://www.youtube.com/watch?v=vH0OetsEZ7A\" target=\"_blank\">https://www.youtube.com/watch?v=vH0OetsEZ7A</a></td>\n",
       "      <td><a href=\"https://i.ytimg.com/vi/vH0OetsEZ7A/hqdefault.jpg\" target=\"_blank\">https://i.ytimg.com/vi/vH0OetsEZ7A/hqdefault.jpg</a></td>\n",
       "      <td>The Pat McAfee Show</td>\n",
       "      <td>UCxcTeAKWJca6XyJ37_ZoKIQ</td>\n",
       "    </tr>\n",
       "    <tr>\n",
       "      <th>...</th>\n",
       "      <td>...</td>\n",
       "      <td>...</td>\n",
       "      <td>...</td>\n",
       "      <td>...</td>\n",
       "      <td>...</td>\n",
       "      <td>...</td>\n",
       "      <td>...</td>\n",
       "      <td>...</td>\n",
       "      <td>...</td>\n",
       "      <td>...</td>\n",
       "      <td>...</td>\n",
       "      <td>...</td>\n",
       "      <td>...</td>\n",
       "      <td>...</td>\n",
       "    </tr>\n",
       "    <tr>\n",
       "      <th>6</th>\n",
       "      <td>2025-03-25T15:00:41Z</td>\n",
       "      <td>UWMzKXsY9A4</td>\n",
       "      <td>Final Destination Bloodlines | Official Trailer</td>\n",
       "      <td>Death is a relentless son of a *****. #FinalDestination #Bloodlines - Only in Theaters and IMAX May 16. #FilmedforIMAX\\n\\nThe newest chapter in New Line Cinema’s bloody successful franchise takes audiences back to the very beginning of Death’s twisted sense of justice—“Final Destination Bloodlines.”  \\n\\nPlagued by a violent recurring nightmare, college student Stefanie heads home to track down the one person who might be able to break the cycle and save her family from the grisly demise that inevitably awaits them all. \\n“Final Destination Bloodlines” stars Kaitlyn Santa Juana, Teo Briones, Richard Harmon, Owen Patrick Joyner, Anna Lore, with Brec Bassinger, and Tony Todd.\\n\\nThe film is directed by Adam Stein & Zach Lipovsky. The screenplay is by Guy Busick & Lori Evans Taylor, and story is by Jon Watts and Guy Busick & Lori Evans Taylor. It is based on characters created by Jeffrey Reddick.\\n“Final Destination Bloodlines” is produced by Craig Perry, Sheila Hanahan Taylor, Jon Watts, Dianne McGunigle and Toby Emmerich. The executive producers are David Siegel and Warren Zide. The behind-the-camera talent includes director of photography Christian Sebaldt and production designer Rachel O’Toole. The film is edited by Sabrina Pitre. The music is by Tim Wynn. The costumes are designed by Michelle Hunter. The casting is by Rich Delia.\\n\\nNew Line Cinema presents A Practical Pictures / Freshman Year / Fireside Films Production: “Final Destination Bloodlines.” The film will be distributed in theaters and IMAX worldwide by Warner Bros. Pictures, in theaters only nationwide on May 16, 2025, and internationally beginning on 14 May 2025.</td>\n",
       "      <td>PT2M25S</td>\n",
       "      <td>[Adam B Stein, Anna Lore, Brec Bassinger, ComingSoon, Disaster Movie, FinalDestination, FinalDestinationBloodLines, Guy Busick, Horror, Jon Watts, Kaitlyn Santa Juana, Lori Evans Taylor, May2025, Owen Patrick Joyner, Richard Harmon, Rya Kihlstedt, Teo Briones, Tony Todd, Trailer, Trailer2025, WB, WBD, WarnerBros, WarnerBrothers, Zach Lipovsky]</td>\n",
       "      <td>11938794</td>\n",
       "      <td>170184</td>\n",
       "      <td>0</td>\n",
       "      <td>14474</td>\n",
       "      <td><a href=\"https://www.youtube.com/watch?v=UWMzKXsY9A4\" target=\"_blank\">https://www.youtube.com/watch?v=UWMzKXsY9A4</a></td>\n",
       "      <td><a href=\"https://i.ytimg.com/vi/UWMzKXsY9A4/hqdefault.jpg\" target=\"_blank\">https://i.ytimg.com/vi/UWMzKXsY9A4/hqdefault.jpg</a></td>\n",
       "      <td>Warner Bros.</td>\n",
       "      <td>UCjmJDM5pRKbUlVIzDYYWb6g</td>\n",
       "    </tr>\n",
       "  </tbody>\n",
       "</table>"
      ],
      "text/plain": [
       "<IPython.core.display.HTML object>"
      ]
     },
     "execution_count": 27,
     "metadata": {},
     "output_type": "execute_result"
    }
   ],
   "source": [
    "# prepare results dataframe\n",
    "trend_dict = {}\n",
    "i=1\n",
    "\n",
    "for video in response['items']:\n",
    "    row_name = f\"row{i}\"\n",
    "\n",
    "    # the `tags` field is ommitted if video doesnt have tags\n",
    "    if \"tags\" in video['snippet'].keys():\n",
    "        TAGS_VALUE = video['snippet']['tags']\n",
    "    else:\n",
    "        TAGS_VALUE = []\n",
    "\n",
    "    trend_dict.update(\n",
    "        {\n",
    "            row_name: {\n",
    "                'publishedAt': video['snippet']['publishedAt'],\n",
    "                'videoId': video['id'],\n",
    "                'videoTitle': video['snippet']['title'],\n",
    "                'videoDescription': video['snippet']['description'],\n",
    "                'duration': video['contentDetails']['duration'],\n",
    "                # 'videoTags': video['snippet']['tags'],\n",
    "                'videoTags': TAGS_VALUE,\n",
    "                'viewCount': video['statistics']['viewCount'],\n",
    "                'likeCount': video['statistics']['likeCount'],\n",
    "                'favoriteCount': video['statistics']['favoriteCount'],\n",
    "                'commentCount': video['statistics']['commentCount'],\n",
    "                'videoURL': f\"https://www.youtube.com/watch?v={video['id']}\",\n",
    "                'videoThumbnail': video['snippet']['thumbnails']['high']['url'],\n",
    "                'channelTitle': video['snippet']['channelTitle'],\n",
    "                'channelId': video['snippet']['channelId'],\n",
    "            }\n",
    "        }\n",
    "    )\n",
    "\n",
    "    i+=1\n",
    "\n",
    "yt_trend_df = pd.DataFrame.from_dict(trend_dict, orient='index')\n",
    "yt_trend_df = yt_trend_df.reset_index(drop=True)\n",
    "\n",
    "HTML(yt_trend_df.to_html(render_links=True, escape=False, max_rows=3))"
   ]
  },
  {
   "cell_type": "markdown",
   "metadata": {},
   "source": [
    "### Load response dataframe to BigQuery"
   ]
  },
  {
   "cell_type": "code",
   "execution_count": 29,
   "metadata": {},
   "outputs": [
    {
     "data": {
      "text/plain": [
       "LoadJob<project=hybrid-vertex, location=us-central1, id=7cc2943b-27c3-4e77-b3e6-0967d9624fe7>"
      ]
     },
     "execution_count": 29,
     "metadata": {},
     "output_type": "execute_result"
    }
   ],
   "source": [
    "# BQ_DATASET = 'youtube_video_analysis' # os.getenv(\"BQ_DATASET\")\n",
    "YT_TRENDS_RESPONSE_TABLE = \"yt_trending_videos_v2\"\n",
    "\n",
    "YOUTUBE_API_LOAD_JOB_v2 = bq.load_table_from_dataframe(\n",
    "    yt_trend_df,\n",
    "    f\"{BQ_DATASET}.{YT_TRENDS_RESPONSE_TABLE}\",\n",
    "    # job_config=bigquery.LoadJobConfig(write_disposition=\"WRITE_TRUNCATE\"),\n",
    ")\n",
    "\n",
    "# Wait for the load job to complete\n",
    "YOUTUBE_API_LOAD_JOB_v2.result()"
   ]
  },
  {
   "cell_type": "markdown",
   "metadata": {},
   "source": [
    "```python\n",
    "{\n",
    "  \"kind\": \"youtube#videoListResponse\",\n",
    "  \"etag\": etag,\n",
    "  \"nextPageToken\": string,\n",
    "  \"prevPageToken\": string,\n",
    "  \"pageInfo\": {\n",
    "    \"totalResults\": integer,\n",
    "    \"resultsPerPage\": integer\n",
    "  },\n",
    "  \"items\": [\n",
    "    video Resource\n",
    "  ]\n",
    "}\n",
    "```"
   ]
  },
  {
   "cell_type": "markdown",
   "metadata": {},
   "source": []
  }
 ],
 "metadata": {
  "kernelspec": {
   "display_name": ".venv",
   "language": "python",
   "name": "python3"
  },
  "language_info": {
   "codemirror_mode": {
    "name": "ipython",
    "version": 3
   },
   "file_extension": ".py",
   "mimetype": "text/x-python",
   "name": "python",
   "nbconvert_exporter": "python",
   "pygments_lexer": "ipython3",
   "version": "3.12.8"
  }
 },
 "nbformat": 4,
 "nbformat_minor": 2
}
