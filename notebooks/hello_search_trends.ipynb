{
 "cells": [
  {
   "cell_type": "markdown",
   "metadata": {},
   "source": [
    "# Get trending topics from Google Search"
   ]
  },
  {
   "cell_type": "markdown",
   "metadata": {},
   "source": [
    "### env config"
   ]
  },
  {
   "cell_type": "code",
   "execution_count": 1,
   "metadata": {},
   "outputs": [
    {
     "name": "stdout",
     "output_type": "stream",
     "text": [
      "PROJECT_ID: hybrid-vertex\n",
      "LOCATION: us-central1\n",
      "PREFIX: zghost_v1\n"
     ]
    }
   ],
   "source": [
    "import os\n",
    "import sys\n",
    "import ipykernel\n",
    "\n",
    "# from dotenv import load_dotenv\n",
    "# load_dotenv()  # this loads the .env script for use below\n",
    "\n",
    "PROJECT_ID = os.getenv(\"PROJECT_ID\")\n",
    "LOCATION = os.getenv(\"LOCATION\")\n",
    "PREFIX = os.getenv(\"PREFIX\")\n",
    "\n",
    "print(f\"PROJECT_ID: {PROJECT_ID}\")\n",
    "print(f\"LOCATION: {LOCATION}\")\n",
    "print(f\"PREFIX: {PREFIX}\")"
   ]
  },
  {
   "cell_type": "markdown",
   "metadata": {},
   "source": [
    "### imports"
   ]
  },
  {
   "cell_type": "code",
   "execution_count": null,
   "metadata": {},
   "outputs": [],
   "source": [
    "import warnings\n",
    "warnings.filterwarnings('ignore')\n",
    "\n",
    "from google.cloud import bigquery\n",
    "import pandas as pd\n",
    "import numpy as np\n",
    "# from datetime import datetime, timedelta\n",
    "\n",
    "bq = bigquery.Client(project = PROJECT_ID)"
   ]
  },
  {
   "cell_type": "markdown",
   "metadata": {},
   "source": [
    "## BigQuery public dataset"
   ]
  },
  {
   "cell_type": "code",
   "execution_count": 5,
   "metadata": {},
   "outputs": [],
   "source": [
    "TARGET_DATE = \"03/25/2025\""
   ]
  },
  {
   "cell_type": "code",
   "execution_count": 6,
   "metadata": {},
   "outputs": [
    {
     "name": "stdout",
     "output_type": "stream",
     "text": [
      "\n",
      "    SELECT\n",
      "        term,\n",
      "        refresh_date,\n",
      "        ARRAY_AGG(STRUCT(rank,week) ORDER BY week DESC LIMIT 1) x\n",
      "    FROM \n",
      "        `bigquery-public-data.google_trends.top_terms`\n",
      "    WHERE\n",
      "        refresh_date = PARSE_DATE('%m/%d/%Y',  '03/25/2025')\n",
      "    GROUP BY    \n",
      "        term, refresh_date\n",
      "    ORDER BY\n",
      "        (SELECT rank FROM UNNEST(x))\n",
      "\n"
     ]
    }
   ],
   "source": [
    "query = f\"\"\"\n",
    "    SELECT\n",
    "        term,\n",
    "        refresh_date,\n",
    "        ARRAY_AGG(STRUCT(rank,week) ORDER BY week DESC LIMIT 1) x\n",
    "    FROM \n",
    "        `bigquery-public-data.google_trends.top_terms`\n",
    "    WHERE\n",
    "        refresh_date = PARSE_DATE('%m/%d/%Y',  '{TARGET_DATE}')\n",
    "    GROUP BY    \n",
    "        term, refresh_date\n",
    "    ORDER BY\n",
    "        (SELECT rank FROM UNNEST(x))\n",
    "\"\"\"\n",
    "print(query)"
   ]
  },
  {
   "cell_type": "code",
   "execution_count": 15,
   "metadata": {},
   "outputs": [
    {
     "data": {
      "text/html": [
       "<div>\n",
       "<style scoped>\n",
       "    .dataframe tbody tr th:only-of-type {\n",
       "        vertical-align: middle;\n",
       "    }\n",
       "\n",
       "    .dataframe tbody tr th {\n",
       "        vertical-align: top;\n",
       "    }\n",
       "\n",
       "    .dataframe thead th {\n",
       "        text-align: right;\n",
       "    }\n",
       "</style>\n",
       "<table border=\"1\" class=\"dataframe\">\n",
       "  <thead>\n",
       "    <tr style=\"text-align: right;\">\n",
       "      <th></th>\n",
       "      <th>term</th>\n",
       "      <th>refresh_date</th>\n",
       "      <th>x</th>\n",
       "    </tr>\n",
       "  </thead>\n",
       "  <tbody>\n",
       "    <tr>\n",
       "      <th>0</th>\n",
       "      <td>bolivia vs uruguay</td>\n",
       "      <td>2025-03-25</td>\n",
       "      <td>[{'rank': 1, 'week': 2025-03-23 00:00:00}]</td>\n",
       "    </tr>\n",
       "    <tr>\n",
       "      <th>1</th>\n",
       "      <td>bolivia - uruguay</td>\n",
       "      <td>2025-03-25</td>\n",
       "      <td>[{'rank': 2, 'week': 2025-03-23 00:00:00}]</td>\n",
       "    </tr>\n",
       "    <tr>\n",
       "      <th>2</th>\n",
       "      <td>jasmine crockett</td>\n",
       "      <td>2025-03-25</td>\n",
       "      <td>[{'rank': 3, 'week': 2025-03-23 00:00:00}]</td>\n",
       "    </tr>\n",
       "    <tr>\n",
       "      <th>3</th>\n",
       "      <td>troy taylor</td>\n",
       "      <td>2025-03-25</td>\n",
       "      <td>[{'rank': 4, 'week': 2025-03-23 00:00:00}]</td>\n",
       "    </tr>\n",
       "    <tr>\n",
       "      <th>4</th>\n",
       "      <td>outside lands 2025</td>\n",
       "      <td>2025-03-25</td>\n",
       "      <td>[{'rank': 5, 'week': 2025-03-23 00:00:00}]</td>\n",
       "    </tr>\n",
       "    <tr>\n",
       "      <th>5</th>\n",
       "      <td>aaliyah chavez</td>\n",
       "      <td>2025-03-25</td>\n",
       "      <td>[{'rank': 6, 'week': 2025-03-23 00:00:00}]</td>\n",
       "    </tr>\n",
       "    <tr>\n",
       "      <th>6</th>\n",
       "      <td>is chipotle closing</td>\n",
       "      <td>2025-03-25</td>\n",
       "      <td>[{'rank': 7, 'week': 2025-03-23 00:00:00}]</td>\n",
       "    </tr>\n",
       "    <tr>\n",
       "      <th>7</th>\n",
       "      <td>erik per sullivan</td>\n",
       "      <td>2025-03-25</td>\n",
       "      <td>[{'rank': 8, 'week': 2025-03-23 00:00:00}]</td>\n",
       "    </tr>\n",
       "    <tr>\n",
       "      <th>8</th>\n",
       "      <td>nigeria vs zimbabwe</td>\n",
       "      <td>2025-03-25</td>\n",
       "      <td>[{'rank': 9, 'week': 2025-03-23 00:00:00}]</td>\n",
       "    </tr>\n",
       "    <tr>\n",
       "      <th>9</th>\n",
       "      <td>gme stock</td>\n",
       "      <td>2025-03-25</td>\n",
       "      <td>[{'rank': 10, 'week': 2025-03-23 00:00:00}]</td>\n",
       "    </tr>\n",
       "  </tbody>\n",
       "</table>\n",
       "</div>"
      ],
      "text/plain": [
       "                  term refresh_date  \\\n",
       "0   bolivia vs uruguay   2025-03-25   \n",
       "1    bolivia - uruguay   2025-03-25   \n",
       "2     jasmine crockett   2025-03-25   \n",
       "3          troy taylor   2025-03-25   \n",
       "4   outside lands 2025   2025-03-25   \n",
       "5       aaliyah chavez   2025-03-25   \n",
       "6  is chipotle closing   2025-03-25   \n",
       "7    erik per sullivan   2025-03-25   \n",
       "8  nigeria vs zimbabwe   2025-03-25   \n",
       "9            gme stock   2025-03-25   \n",
       "\n",
       "                                             x  \n",
       "0   [{'rank': 1, 'week': 2025-03-23 00:00:00}]  \n",
       "1   [{'rank': 2, 'week': 2025-03-23 00:00:00}]  \n",
       "2   [{'rank': 3, 'week': 2025-03-23 00:00:00}]  \n",
       "3   [{'rank': 4, 'week': 2025-03-23 00:00:00}]  \n",
       "4   [{'rank': 5, 'week': 2025-03-23 00:00:00}]  \n",
       "5   [{'rank': 6, 'week': 2025-03-23 00:00:00}]  \n",
       "6   [{'rank': 7, 'week': 2025-03-23 00:00:00}]  \n",
       "7   [{'rank': 8, 'week': 2025-03-23 00:00:00}]  \n",
       "8   [{'rank': 9, 'week': 2025-03-23 00:00:00}]  \n",
       "9  [{'rank': 10, 'week': 2025-03-23 00:00:00}]  "
      ]
     },
     "execution_count": 15,
     "metadata": {},
     "output_type": "execute_result"
    }
   ],
   "source": [
    "target_trends_df = bq.query(query).to_dataframe()\n",
    "target_trends_df.head(10)"
   ]
  },
  {
   "cell_type": "code",
   "execution_count": null,
   "metadata": {},
   "outputs": [
    {
     "name": "stdout",
     "output_type": "stream",
     "text": [
      "bolivia vs uruguay\n"
     ]
    }
   ],
   "source": [
    "sample_term = target_trends_df['term'].iloc[0]\n",
    "print(sample_term)"
   ]
  }
 ],
 "metadata": {
  "kernelspec": {
   "display_name": ".venv",
   "language": "python",
   "name": "python3"
  },
  "language_info": {
   "codemirror_mode": {
    "name": "ipython",
    "version": 3
   },
   "file_extension": ".py",
   "mimetype": "text/x-python",
   "name": "python",
   "nbconvert_exporter": "python",
   "pygments_lexer": "ipython3",
   "version": "3.12.8"
  }
 },
 "nbformat": 4,
 "nbformat_minor": 2
}
