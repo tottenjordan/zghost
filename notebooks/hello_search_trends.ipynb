{
 "cells": [
  {
   "cell_type": "markdown",
   "metadata": {},
   "source": [
    "# Get trending topics from Google Search and YouTube"
   ]
  },
  {
   "cell_type": "markdown",
   "metadata": {},
   "source": [
    "### env config"
   ]
  },
  {
   "cell_type": "code",
   "execution_count": 1,
   "metadata": {},
   "outputs": [
    {
     "name": "stdout",
     "output_type": "stream",
     "text": [
      "PROJECT_ID: hybrid-vertex\n",
      "LOCATION: us-central1\n",
      "PREFIX: zghost_v1\n"
     ]
    }
   ],
   "source": [
    "import os\n",
    "import sys\n",
    "import ipykernel\n",
    "\n",
    "# from dotenv import load_dotenv\n",
    "# load_dotenv()  # this loads the .env script for use below\n",
    "\n",
    "PROJECT_ID = os.getenv(\"PROJECT_ID\")\n",
    "LOCATION = os.getenv(\"LOCATION\")\n",
    "PREFIX = os.getenv(\"PREFIX\")\n",
    "\n",
    "print(f\"PROJECT_ID: {PROJECT_ID}\")\n",
    "print(f\"LOCATION: {LOCATION}\")\n",
    "print(f\"PREFIX: {PREFIX}\")"
   ]
  },
  {
   "cell_type": "markdown",
   "metadata": {},
   "source": [
    "### imports"
   ]
  },
  {
   "cell_type": "code",
   "execution_count": 2,
   "metadata": {},
   "outputs": [],
   "source": [
    "import warnings\n",
    "warnings.filterwarnings('ignore')\n",
    "\n",
    "from google.cloud import bigquery\n",
    "import pandas as pd\n",
    "import numpy as np\n",
    "# from datetime import datetime, timedelta\n",
    "\n",
    "bq = bigquery.Client(project = PROJECT_ID)"
   ]
  },
  {
   "cell_type": "markdown",
   "metadata": {},
   "source": [
    "## Search Trends\n",
    "\n",
    "see overview and samples for the [Search Trends](https://pantheon.corp.google.com/marketplace/product/bigquery-public-datasets/google-search-trends?_ga=2.261190030.2019434361.1656948847-1975246695.1656948843&e=13802955&mods=-ai_platform_fake_service,-ai_platform_staging_service&inv=1&invt=AbtEjw&project=hybrid-vertex) (BigQuery public dataset)\n",
    "\n",
    "> see code for [generating time intervals](https://source.corp.google.com/piper///depot/google3/experimental/marketing/trendcrawler/trend_crawler/src/data/transformers.py;ws=jwortz%2F310)"
   ]
  },
  {
   "cell_type": "code",
   "execution_count": 3,
   "metadata": {},
   "outputs": [],
   "source": [
    "TARGET_DATE = \"03/25/2025\""
   ]
  },
  {
   "cell_type": "code",
   "execution_count": 4,
   "metadata": {},
   "outputs": [
    {
     "name": "stdout",
     "output_type": "stream",
     "text": [
      "\n",
      "    SELECT\n",
      "        term,\n",
      "        refresh_date,\n",
      "        ARRAY_AGG(STRUCT(rank,week) ORDER BY week DESC LIMIT 1) x\n",
      "    FROM \n",
      "        `bigquery-public-data.google_trends.top_terms`\n",
      "    WHERE\n",
      "        refresh_date = PARSE_DATE('%m/%d/%Y',  '03/25/2025')\n",
      "    GROUP BY    \n",
      "        term, refresh_date\n",
      "    ORDER BY\n",
      "        (SELECT rank FROM UNNEST(x))\n",
      "\n"
     ]
    }
   ],
   "source": [
    "query = f\"\"\"\n",
    "    SELECT\n",
    "        term,\n",
    "        refresh_date,\n",
    "        ARRAY_AGG(STRUCT(rank,week) ORDER BY week DESC LIMIT 1) x\n",
    "    FROM \n",
    "        `bigquery-public-data.google_trends.top_terms`\n",
    "    WHERE\n",
    "        refresh_date = PARSE_DATE('%m/%d/%Y',  '{TARGET_DATE}')\n",
    "    GROUP BY    \n",
    "        term, refresh_date\n",
    "    ORDER BY\n",
    "        (SELECT rank FROM UNNEST(x))\n",
    "\"\"\"\n",
    "print(query)"
   ]
  },
  {
   "cell_type": "code",
   "execution_count": 5,
   "metadata": {},
   "outputs": [
    {
     "data": {
      "text/html": [
       "<div>\n",
       "<style scoped>\n",
       "    .dataframe tbody tr th:only-of-type {\n",
       "        vertical-align: middle;\n",
       "    }\n",
       "\n",
       "    .dataframe tbody tr th {\n",
       "        vertical-align: top;\n",
       "    }\n",
       "\n",
       "    .dataframe thead th {\n",
       "        text-align: right;\n",
       "    }\n",
       "</style>\n",
       "<table border=\"1\" class=\"dataframe\">\n",
       "  <thead>\n",
       "    <tr style=\"text-align: right;\">\n",
       "      <th></th>\n",
       "      <th>term</th>\n",
       "      <th>refresh_date</th>\n",
       "      <th>x</th>\n",
       "    </tr>\n",
       "  </thead>\n",
       "  <tbody>\n",
       "    <tr>\n",
       "      <th>0</th>\n",
       "      <td>bolivia vs uruguay</td>\n",
       "      <td>2025-03-25</td>\n",
       "      <td>[{'rank': 1, 'week': 2025-03-23 00:00:00}]</td>\n",
       "    </tr>\n",
       "    <tr>\n",
       "      <th>1</th>\n",
       "      <td>bolivia - uruguay</td>\n",
       "      <td>2025-03-25</td>\n",
       "      <td>[{'rank': 2, 'week': 2025-03-23 00:00:00}]</td>\n",
       "    </tr>\n",
       "    <tr>\n",
       "      <th>2</th>\n",
       "      <td>jasmine crockett</td>\n",
       "      <td>2025-03-25</td>\n",
       "      <td>[{'rank': 3, 'week': 2025-03-23 00:00:00}]</td>\n",
       "    </tr>\n",
       "    <tr>\n",
       "      <th>3</th>\n",
       "      <td>troy taylor</td>\n",
       "      <td>2025-03-25</td>\n",
       "      <td>[{'rank': 4, 'week': 2025-03-23 00:00:00}]</td>\n",
       "    </tr>\n",
       "    <tr>\n",
       "      <th>4</th>\n",
       "      <td>outside lands 2025</td>\n",
       "      <td>2025-03-25</td>\n",
       "      <td>[{'rank': 5, 'week': 2025-03-23 00:00:00}]</td>\n",
       "    </tr>\n",
       "    <tr>\n",
       "      <th>5</th>\n",
       "      <td>aaliyah chavez</td>\n",
       "      <td>2025-03-25</td>\n",
       "      <td>[{'rank': 6, 'week': 2025-03-23 00:00:00}]</td>\n",
       "    </tr>\n",
       "    <tr>\n",
       "      <th>6</th>\n",
       "      <td>is chipotle closing</td>\n",
       "      <td>2025-03-25</td>\n",
       "      <td>[{'rank': 7, 'week': 2025-03-23 00:00:00}]</td>\n",
       "    </tr>\n",
       "    <tr>\n",
       "      <th>7</th>\n",
       "      <td>erik per sullivan</td>\n",
       "      <td>2025-03-25</td>\n",
       "      <td>[{'rank': 8, 'week': 2025-03-23 00:00:00}]</td>\n",
       "    </tr>\n",
       "    <tr>\n",
       "      <th>8</th>\n",
       "      <td>nigeria vs zimbabwe</td>\n",
       "      <td>2025-03-25</td>\n",
       "      <td>[{'rank': 9, 'week': 2025-03-23 00:00:00}]</td>\n",
       "    </tr>\n",
       "    <tr>\n",
       "      <th>9</th>\n",
       "      <td>gme stock</td>\n",
       "      <td>2025-03-25</td>\n",
       "      <td>[{'rank': 10, 'week': 2025-03-23 00:00:00}]</td>\n",
       "    </tr>\n",
       "  </tbody>\n",
       "</table>\n",
       "</div>"
      ],
      "text/plain": [
       "                  term refresh_date  \\\n",
       "0   bolivia vs uruguay   2025-03-25   \n",
       "1    bolivia - uruguay   2025-03-25   \n",
       "2     jasmine crockett   2025-03-25   \n",
       "3          troy taylor   2025-03-25   \n",
       "4   outside lands 2025   2025-03-25   \n",
       "5       aaliyah chavez   2025-03-25   \n",
       "6  is chipotle closing   2025-03-25   \n",
       "7    erik per sullivan   2025-03-25   \n",
       "8  nigeria vs zimbabwe   2025-03-25   \n",
       "9            gme stock   2025-03-25   \n",
       "\n",
       "                                             x  \n",
       "0   [{'rank': 1, 'week': 2025-03-23 00:00:00}]  \n",
       "1   [{'rank': 2, 'week': 2025-03-23 00:00:00}]  \n",
       "2   [{'rank': 3, 'week': 2025-03-23 00:00:00}]  \n",
       "3   [{'rank': 4, 'week': 2025-03-23 00:00:00}]  \n",
       "4   [{'rank': 5, 'week': 2025-03-23 00:00:00}]  \n",
       "5   [{'rank': 6, 'week': 2025-03-23 00:00:00}]  \n",
       "6   [{'rank': 7, 'week': 2025-03-23 00:00:00}]  \n",
       "7   [{'rank': 8, 'week': 2025-03-23 00:00:00}]  \n",
       "8   [{'rank': 9, 'week': 2025-03-23 00:00:00}]  \n",
       "9  [{'rank': 10, 'week': 2025-03-23 00:00:00}]  "
      ]
     },
     "execution_count": 5,
     "metadata": {},
     "output_type": "execute_result"
    }
   ],
   "source": [
    "target_trends_df = bq.query(query).to_dataframe()\n",
    "target_trends_df.head(10)"
   ]
  },
  {
   "cell_type": "code",
   "execution_count": 6,
   "metadata": {},
   "outputs": [
    {
     "name": "stdout",
     "output_type": "stream",
     "text": [
      "bolivia vs uruguay\n"
     ]
    }
   ],
   "source": [
    "sample_term = target_trends_df['term'].iloc[0]\n",
    "print(sample_term)"
   ]
  },
  {
   "cell_type": "markdown",
   "metadata": {},
   "source": [
    "# YouTube Trends"
   ]
  },
  {
   "cell_type": "markdown",
   "metadata": {},
   "source": [
    "references\n",
    "* video resource [JSON structure](https://developers.google.com/youtube/v3/docs/videos#resource-representation)"
   ]
  },
  {
   "cell_type": "markdown",
   "metadata": {},
   "source": [
    "### config"
   ]
  },
  {
   "cell_type": "code",
   "execution_count": 7,
   "metadata": {},
   "outputs": [
    {
     "name": "stdout",
     "output_type": "stream",
     "text": [
      "_SECRET_NAME: projects/hybrid-vertex/secrets/projects/934903580331/secrets/yt-data-api\n",
      "\n"
     ]
    }
   ],
   "source": [
    "import pandas as pd\n",
    "from IPython.display import HTML\n",
    "\n",
    "from google.cloud import secretmanager\n",
    "import googleapiclient.discovery\n",
    "import googleapiclient.errors\n",
    "\n",
    "# secret manager client\n",
    "sm_client = secretmanager.SecretManagerServiceClient()\n",
    "\n",
    "API_SERVICE_NAME = \"youtube\"\n",
    "API_VERSION = \"v3\"\n",
    "\n",
    "_SECRET_ID = 'projects/934903580331/secrets/yt-data-api'\n",
    "_SECRET_VERSION = '{}/versions/1'.format(_SECRET_ID)\n",
    "_SECRET_NAME = sm_client.secret_path(PROJECT_ID, _SECRET_ID)\n",
    "print(f\"_SECRET_NAME: {_SECRET_NAME}\\n\")"
   ]
  },
  {
   "cell_type": "markdown",
   "metadata": {},
   "source": [
    "### setup yt discovery client\n",
    "\n",
    "> see [src](https://github.com/googleapis/google-api-python-client/blob/main/googleapiclient/discovery.py)"
   ]
  },
  {
   "cell_type": "code",
   "execution_count": 8,
   "metadata": {},
   "outputs": [
    {
     "data": {
      "text/plain": [
       "<googleapiclient.discovery.Resource at 0x7f0ccaf0ade0>"
      ]
     },
     "execution_count": 8,
     "metadata": {},
     "output_type": "execute_result"
    }
   ],
   "source": [
    "response = sm_client.access_secret_version(request={\"name\": _SECRET_VERSION})\n",
    "# print(f\"response: {response}\")\n",
    "\n",
    "YOUTUBE_DATA_API_KEY = response.payload.data.decode(\"UTF-8\")\n",
    "# print(f\"YOUTUBE_DATA_API_KEY: {YOUTUBE_DATA_API_KEY}\")\n",
    "\n",
    "youtube = googleapiclient.discovery.build(\n",
    "    serviceName=API_SERVICE_NAME, \n",
    "    version=API_VERSION, \n",
    "    developerKey=YOUTUBE_DATA_API_KEY\n",
    ")\n",
    "\n",
    "youtube"
   ]
  },
  {
   "cell_type": "code",
   "execution_count": 9,
   "metadata": {},
   "outputs": [
    {
     "name": "stdout",
     "output_type": "stream",
     "text": [
      "search_query: \n",
      "channelId: UCvW9uSNy6Lytcnib1CdXrow\n",
      "video_duration_type: short\n",
      "published_after: 2025-03-16T21:50:15.591400+00:00\n",
      "order_criteria: viewCount\n",
      "num_results: 10\n"
     ]
    }
   ],
   "source": [
    "TARGET_QUERY = \"\"\n",
    "CHANNEL_ID = \"UCvW9uSNy6Lytcnib1CdXrow\"\n",
    "\n",
    "NUM_RESULTS = 10\n",
    "\n",
    "# duration (minutes): ['any', 'long', 'medium', 'short']\n",
    "# short: (-inf, 4)\n",
    "# medium: [4, 20]\n",
    "# long: (20, inf)\n",
    "VIDEO_DURATION = \"short\"\n",
    "\n",
    "# order resources in API response\n",
    "ORDER_CRITERIA = \"viewCount\"  # ['date', 'rating', 'relevance', 'title', 'viewCount']\n",
    "\n",
    "MAX_DAYS_AGO = 10\n",
    "PUBLISHED_AFTER_TIMESTAMP = (\n",
    "    (pd.Timestamp.now() - pd.DateOffset(days=MAX_DAYS_AGO))\n",
    "    .tz_localize(\"UTC\")\n",
    "    .isoformat()\n",
    ")\n",
    "\n",
    "print(f\"search_query: {TARGET_QUERY}\")\n",
    "print(f\"channelId: {CHANNEL_ID}\")\n",
    "print(f\"video_duration_type: {VIDEO_DURATION}\")\n",
    "print(f\"published_after: {PUBLISHED_AFTER_TIMESTAMP}\")\n",
    "print(f\"order_criteria: {ORDER_CRITERIA}\")\n",
    "print(f\"num_results: {NUM_RESULTS}\")"
   ]
  },
  {
   "cell_type": "markdown",
   "metadata": {},
   "source": [
    "create dataframe from response dictionary\n",
    "\n",
    "```python\n",
    "data = {\n",
    "    'row1': {'col1': 1, 'col2': 2},\n",
    "    'row2': {'col1': 3, 'col2': 4},\n",
    "    'row3': {'col1': 5, 'col2': 6}\n",
    "}\n",
    "\n",
    "```"
   ]
  },
  {
   "cell_type": "code",
   "execution_count": null,
   "metadata": {},
   "outputs": [],
   "source": [
    "# AS_OF_DATE = \"20240103\"\n",
    "# default_date = datetime.strptime(AS_OF_DATE, \"%Y%m%d\")\n",
    "# selected_date_str = default_date.strftime(\"%Y%m%d\")\n",
    "# print(\"As of date: \", default_date)"
   ]
  },
  {
   "cell_type": "markdown",
   "metadata": {},
   "source": [
    "TODO\n",
    "* see options for `part` parameter:\n",
    "  * [contentDetails](https://developers.google.com/youtube/v3/docs/videos#contentDetails)\n",
    "  * [statisitcs](https://developers.google.com/youtube/v3/docs/videos#statistics)\n",
    "  * [topicDetails](https://developers.google.com/youtube/v3/docs/videos#topicDetails)"
   ]
  },
  {
   "cell_type": "code",
   "execution_count": 13,
   "metadata": {},
   "outputs": [
    {
     "data": {
      "text/html": [
       "<table border=\"1\" class=\"dataframe\">\n",
       "  <thead>\n",
       "    <tr style=\"text-align: right;\">\n",
       "      <th></th>\n",
       "      <th>publishedAt</th>\n",
       "      <th>videoId</th>\n",
       "      <th>videoTitle</th>\n",
       "      <th>videoDescription</th>\n",
       "      <th>videoThumbnail</th>\n",
       "      <th>videoURL</th>\n",
       "      <th>channelTitle</th>\n",
       "      <th>channelId</th>\n",
       "    </tr>\n",
       "  </thead>\n",
       "  <tbody>\n",
       "    <tr>\n",
       "      <th>0</th>\n",
       "      <td>2025-03-18T16:00:06Z</td>\n",
       "      <td>o8iYmeqXU20</td>\n",
       "      <td>Gettin&#39; Cooked With Ricky - Sneak Preview!</td>\n",
       "      <td>Where the best setting is BAKED... Gettin' Cooked With Ricky launches on SwearNet Friday, March 28! #trailerparkboys ...</td>\n",
       "      <td><a href=\"https://i.ytimg.com/vi/o8iYmeqXU20/hqdefault.jpg\" target=\"_blank\">https://i.ytimg.com/vi/o8iYmeqXU20/hqdefault.jpg</a></td>\n",
       "      <td><a href=\"https://www.youtube.com/watch?v=o8iYmeqXU20\" target=\"_blank\">https://www.youtube.com/watch?v=o8iYmeqXU20</a></td>\n",
       "      <td>Trailer Park Boys</td>\n",
       "      <td>UCvW9uSNy6Lytcnib1CdXrow</td>\n",
       "    </tr>\n",
       "    <tr>\n",
       "      <th>1</th>\n",
       "      <td>2025-03-25T01:15:01Z</td>\n",
       "      <td>E55Pw55MvGA</td>\n",
       "      <td>Park After Dark S6E44 - Gimme The F**king Liquor!</td>\n",
       "      <td>Now streaming at https://bit.ly/PAD6-ep44 and the TPB SwearNet app: It's officially BOOZE MONDAY! The Boys are back at a new ...</td>\n",
       "      <td><a href=\"https://i.ytimg.com/vi/E55Pw55MvGA/hqdefault.jpg\" target=\"_blank\">https://i.ytimg.com/vi/E55Pw55MvGA/hqdefault.jpg</a></td>\n",
       "      <td><a href=\"https://www.youtube.com/watch?v=E55Pw55MvGA\" target=\"_blank\">https://www.youtube.com/watch?v=E55Pw55MvGA</a></td>\n",
       "      <td>Trailer Park Boys</td>\n",
       "      <td>UCvW9uSNy6Lytcnib1CdXrow</td>\n",
       "    </tr>\n",
       "    <tr>\n",
       "      <th>2</th>\n",
       "      <td>2025-03-17T12:15:06Z</td>\n",
       "      <td>tmGzwM3pDls</td>\n",
       "      <td>Don&#39;t mess with the Green Bastard ✳️ #trailerparkboys #greenbastard #jimlahey</td>\n",
       "      <td>Green Bastard fights Ricky and Jim Lahey saves the day... is this some kinda parallel fackin' universe?!?</td>\n",
       "      <td><a href=\"https://i.ytimg.com/vi/tmGzwM3pDls/hqdefault.jpg\" target=\"_blank\">https://i.ytimg.com/vi/tmGzwM3pDls/hqdefault.jpg</a></td>\n",
       "      <td><a href=\"https://www.youtube.com/watch?v=tmGzwM3pDls\" target=\"_blank\">https://www.youtube.com/watch?v=tmGzwM3pDls</a></td>\n",
       "      <td>Trailer Park Boys</td>\n",
       "      <td>UCvW9uSNy6Lytcnib1CdXrow</td>\n",
       "    </tr>\n",
       "    <tr>\n",
       "      <th>3</th>\n",
       "      <td>2025-03-17T16:15:04Z</td>\n",
       "      <td>h6GQonIkFL4</td>\n",
       "      <td>Gettin&#39; Cooked With Ricky - Watch the trailer on Tues, March 18!</td>\n",
       "      <td>IT'S COMIN'... Check back TOMORROW, March 18 at 12pm ET for a sneak peek of Ricky (and Randy's!) new show ...</td>\n",
       "      <td><a href=\"https://i.ytimg.com/vi/h6GQonIkFL4/hqdefault.jpg\" target=\"_blank\">https://i.ytimg.com/vi/h6GQonIkFL4/hqdefault.jpg</a></td>\n",
       "      <td><a href=\"https://www.youtube.com/watch?v=h6GQonIkFL4\" target=\"_blank\">https://www.youtube.com/watch?v=h6GQonIkFL4</a></td>\n",
       "      <td>Trailer Park Boys</td>\n",
       "      <td>UCvW9uSNy6Lytcnib1CdXrow</td>\n",
       "    </tr>\n",
       "    <tr>\n",
       "      <th>4</th>\n",
       "      <td>2025-03-26T17:18:20Z</td>\n",
       "      <td>xUlsza9ciu0</td>\n",
       "      <td>Friday. 9PM ET. SwearNet. Are you fuckin&#39; ready to GET COOKED? 🍗💨🍒 # #trailerparkboys #cookingshow</td>\n",
       "      <td>Where the best setting is BAKED... Gettin' Cooked With Ricky launches on https://SwearNet.com and the TPB SwearNet app on ...</td>\n",
       "      <td><a href=\"https://i.ytimg.com/vi/xUlsza9ciu0/hqdefault.jpg\" target=\"_blank\">https://i.ytimg.com/vi/xUlsza9ciu0/hqdefault.jpg</a></td>\n",
       "      <td><a href=\"https://www.youtube.com/watch?v=xUlsza9ciu0\" target=\"_blank\">https://www.youtube.com/watch?v=xUlsza9ciu0</a></td>\n",
       "      <td>Trailer Park Boys</td>\n",
       "      <td>UCvW9uSNy6Lytcnib1CdXrow</td>\n",
       "    </tr>\n",
       "    <tr>\n",
       "      <th>5</th>\n",
       "      <td>2025-03-25T16:15:00Z</td>\n",
       "      <td>6ypNwuYfUs4</td>\n",
       "      <td>Standing On The Shoulders Of Kitties DVD &amp; Blu-Ray! #BubblesAndTheShitrockers #TrailerParkBoys</td>\n",
       "      <td>HOOOOEEYYY! Standing On The Shoulders Of Kitties is now available on DVD and Blu-Ray (includes extras and bloopners!)</td>\n",
       "      <td><a href=\"https://i.ytimg.com/vi/6ypNwuYfUs4/hqdefault.jpg\" target=\"_blank\">https://i.ytimg.com/vi/6ypNwuYfUs4/hqdefault.jpg</a></td>\n",
       "      <td><a href=\"https://www.youtube.com/watch?v=6ypNwuYfUs4\" target=\"_blank\">https://www.youtube.com/watch?v=6ypNwuYfUs4</a></td>\n",
       "      <td>Trailer Park Boys</td>\n",
       "      <td>UCvW9uSNy6Lytcnib1CdXrow</td>\n",
       "    </tr>\n",
       "  </tbody>\n",
       "</table>"
      ],
      "text/plain": [
       "<IPython.core.display.HTML object>"
      ]
     },
     "execution_count": 13,
     "metadata": {},
     "output_type": "execute_result"
    }
   ],
   "source": [
    "# Using Search:list - https://developers.google.com/youtube/v3/docs/search/list\n",
    "yt_data_api_request = youtube.search().list(\n",
    "    part=\"id,snippet\", # contentDetails,statistics,topicDetails\n",
    "    type=\"video\",\n",
    "    q=TARGET_QUERY,\n",
    "    videoDuration=VIDEO_DURATION,\n",
    "    maxResults=NUM_RESULTS,\n",
    "    publishedAfter=PUBLISHED_AFTER_TIMESTAMP,\n",
    "    channelId=CHANNEL_ID,\n",
    "    order=ORDER_CRITERIA,\n",
    ")\n",
    "yt_data_api_response = yt_data_api_request.execute()\n",
    "\n",
    "# prepare results dataframe\n",
    "data_dict = {}\n",
    "i=1\n",
    "\n",
    "for video in yt_data_api_response['items']:\n",
    "    row_name = f\"row{i}\"\n",
    "    data_dict.update(\n",
    "        {\n",
    "            row_name: {\n",
    "                'publishedAt': video['snippet']['publishedAt'],\n",
    "                'videoId': video['id']['videoId'], \n",
    "                'videoTitle': video['snippet']['title'],\n",
    "                'videoDescription': video['snippet']['description'],\n",
    "                'videoThumbnail': video['snippet']['thumbnails']['high']['url'],\n",
    "                'videoURL': f\"https://www.youtube.com/watch?v={video['id']['videoId']}\",\n",
    "                'channelTitle': video['snippet']['channelTitle'],\n",
    "                'channelId': video['snippet']['channelId'],\n",
    "            }\n",
    "        }\n",
    "    )\n",
    "    i+=1\n",
    "\n",
    "yt_df = pd.DataFrame.from_dict(data_dict, orient='index')\n",
    "yt_df = yt_df.reset_index(drop=True)\n",
    "\n",
    "HTML(yt_df.to_html(render_links=True, escape=False))"
   ]
  },
  {
   "cell_type": "code",
   "execution_count": 14,
   "metadata": {},
   "outputs": [
    {
     "data": {
      "text/plain": [
       "{'kind': 'youtube#searchResult',\n",
       " 'etag': 'Q48eg7EnewvJJe_vEz33obHOivU',\n",
       " 'id': {'kind': 'youtube#video', 'videoId': 'o8iYmeqXU20'},\n",
       " 'snippet': {'publishedAt': '2025-03-18T16:00:06Z',\n",
       "  'channelId': 'UCvW9uSNy6Lytcnib1CdXrow',\n",
       "  'title': 'Gettin&#39; Cooked With Ricky - Sneak Preview!',\n",
       "  'description': \"Where the best setting is BAKED... Gettin' Cooked With Ricky launches on SwearNet Friday, March 28! #trailerparkboys ...\",\n",
       "  'thumbnails': {'default': {'url': 'https://i.ytimg.com/vi/o8iYmeqXU20/default.jpg',\n",
       "    'width': 120,\n",
       "    'height': 90},\n",
       "   'medium': {'url': 'https://i.ytimg.com/vi/o8iYmeqXU20/mqdefault.jpg',\n",
       "    'width': 320,\n",
       "    'height': 180},\n",
       "   'high': {'url': 'https://i.ytimg.com/vi/o8iYmeqXU20/hqdefault.jpg',\n",
       "    'width': 480,\n",
       "    'height': 360}},\n",
       "  'channelTitle': 'Trailer Park Boys',\n",
       "  'liveBroadcastContent': 'none',\n",
       "  'publishTime': '2025-03-18T16:00:06Z'}}"
      ]
     },
     "execution_count": 14,
     "metadata": {},
     "output_type": "execute_result"
    }
   ],
   "source": [
    "yt_data_api_response['items'][0]"
   ]
  },
  {
   "cell_type": "markdown",
   "metadata": {},
   "source": [
    "## Load to respond dataframe to BigQuery"
   ]
  },
  {
   "cell_type": "code",
   "execution_count": 15,
   "metadata": {},
   "outputs": [],
   "source": [
    "BQ_DATASET = 'youtube_video_analysis' # os.getenv(\"BQ_DATASET\")\n",
    "TRENDING_YT_RESPONSE_TABLE = \"yt_trends_responses_v2\""
   ]
  },
  {
   "cell_type": "code",
   "execution_count": 16,
   "metadata": {},
   "outputs": [
    {
     "data": {
      "text/plain": [
       "LoadJob<project=hybrid-vertex, location=us-central1, id=61da4191-80ee-46c0-a2be-36f9ee312f65>"
      ]
     },
     "execution_count": 16,
     "metadata": {},
     "output_type": "execute_result"
    }
   ],
   "source": [
    "YOUTUBE_API_LOAD_JOB = bq.load_table_from_dataframe(\n",
    "    yt_df,\n",
    "    f\"{BQ_DATASET}.{TRENDING_YT_RESPONSE_TABLE}\",\n",
    "    # job_config=bigquery.LoadJobConfig(write_disposition=\"WRITE_TRUNCATE\"),\n",
    ")\n",
    "\n",
    "# Wait for the load job to complete\n",
    "YOUTUBE_API_LOAD_JOB.result()"
   ]
  },
  {
   "cell_type": "code",
   "execution_count": null,
   "metadata": {},
   "outputs": [],
   "source": []
  }
 ],
 "metadata": {
  "kernelspec": {
   "display_name": ".venv",
   "language": "python",
   "name": "python3"
  },
  "language_info": {
   "codemirror_mode": {
    "name": "ipython",
    "version": 3
   },
   "file_extension": ".py",
   "mimetype": "text/x-python",
   "name": "python",
   "nbconvert_exporter": "python",
   "pygments_lexer": "ipython3",
   "version": "3.12.8"
  }
 },
 "nbformat": 4,
 "nbformat_minor": 2
}
