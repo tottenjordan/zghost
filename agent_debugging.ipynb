{
 "cells": [
  {
   "cell_type": "code",
   "execution_count": 1,
   "id": "eac665f1",
   "metadata": {},
   "outputs": [
    {
     "data": {
      "text/plain": [
       "False"
      ]
     },
     "execution_count": 1,
     "metadata": {},
     "output_type": "execute_result"
    }
   ],
   "source": [
    "from dotenv import load_dotenv\n",
    "\n",
    "load_dotenv('marketing_idea_generator_agent/')  # take environment variables"
   ]
  },
  {
   "cell_type": "code",
   "execution_count": 1,
   "id": "41c904bd",
   "metadata": {},
   "outputs": [],
   "source": [
    "import os\n",
    "os.environ[\"GOOGLE_CLOUD_PROJECT\"] = \"cloud-llm-preview1\"\n",
    "os.environ[\"GOOGLE_CLOUD_LOCATION\"] = \"us-central1\"\n",
    "os.environ[\"GOOGLE_API_KEY\"] = \"None\"\n",
    "os.environ[\"GOOGLE_GENAI_USE_VERTEXAI\"] = \"1\"\n"
   ]
  },
  {
   "cell_type": "code",
   "execution_count": 2,
   "id": "f0e0e53c",
   "metadata": {},
   "outputs": [
    {
     "data": {
      "text/plain": [
       "<vertexai.preview.reasoning_engines.templates.adk.AdkApp at 0x14746d250>"
      ]
     },
     "execution_count": 2,
     "metadata": {},
     "output_type": "execute_result"
    }
   ],
   "source": [
    "from vertexai.preview.reasoning_engines import AdkApp\n",
    "\n",
    "from marketing_idea_generator_agent import agent\n",
    "env_vars = {}\n",
    "\n",
    "env_vars[\"GOOGLE_CLOUD_PROJECT\"] = os.getenv(\"GOOGLE_CLOUD_PROJECT\")\n",
    "env_vars[\"GOOGLE_CLOUD_LOCATION\"] = os.getenv(\"GOOGLE_CLOUD_LOCATION\")\n",
    "env_vars[\"BQ_DATASET_ID\"] = os.getenv(\"BQ_DATASET_ID\")\n",
    "env_vars[\"BQ_PROJECT_ID\"] = os.getenv(\"BQ_PROJECT_ID\")\n",
    "env_vars[\"GOOGLE_GENAI_USE_VERTEXAI\"] = os.getenv(\"GOOGLE_GENAI_USE_VERTEXAI\")\n",
    "env_vars[\"CODE_INTERPRETER_EXTENSION_NAME\"] = os.getenv(\n",
    "    \"CODE_INTERPRETER_EXTENSION_NAME\")\n",
    "\n",
    "\n",
    "my_agent = AdkApp(agent=agent.root_agent,\n",
    "                  enable_tracing=False,\n",
    "                #   env_vars=env_vars\n",
    "                  )\n",
    "\n",
    "my_agent"
   ]
  },
  {
   "cell_type": "code",
   "execution_count": 3,
   "id": "33be24e1",
   "metadata": {},
   "outputs": [
    {
     "data": {
      "text/plain": [
       "Session(id='6835ab4d-5d10-43ff-b5c9-6f227e8ccfda', app_name='default-app-name', user_id='jwortz', state={}, events=[], last_update_time=1744317877.574995)"
      ]
     },
     "execution_count": 3,
     "metadata": {},
     "output_type": "execute_result"
    }
   ],
   "source": [
    "session = my_agent.create_session(user_id=\"jwortz\")\n",
    "session"
   ]
  },
  {
   "cell_type": "code",
   "execution_count": 4,
   "id": "a1a96d83",
   "metadata": {},
   "outputs": [
    {
     "data": {
      "text/plain": [
       "ListSessionsResponse(sessions=[Session(id='6835ab4d-5d10-43ff-b5c9-6f227e8ccfda', app_name='default-app-name', user_id='jwortz', state={}, events=[], last_update_time=1744317877.574995)])"
      ]
     },
     "execution_count": 4,
     "metadata": {},
     "output_type": "execute_result"
    }
   ],
   "source": [
    "my_agent.list_sessions(user_id=\"jwortz\")"
   ]
  },
  {
   "cell_type": "code",
   "execution_count": 5,
   "id": "c5178ae8",
   "metadata": {},
   "outputs": [],
   "source": [
    "EXAMPLE_BRIEF = \"\"\"\n",
    "Campaign Name: Connect Beyond Limits with Pix Phone 5\n",
    "Campaign Objectives\n",
    "● Increase awareness of the latest model of the Pix Phone\n",
    "● Generate leads and drive phone sales\n",
    "● Position Pix Phone and the trendy phone to have\n",
    "Target Audience\n",
    "● Individuals aged 20-40 in major markets such as US, France, Japan\n",
    "Media Strategy\n",
    "1. Social Media Marketing: Run targeted social media ads on plaorms where the\n",
    "target audience is active.\n",
    "2. Inuencer Marketing: Partner with inuencers in the tech industry to promote Pix\n",
    "Phone 5\n",
    "3. Paid Advertising: Run targeted display ads on websites and apps frequented by\n",
    "the target audience. Use search engine marketing (SEM) to bid on relevant\n",
    "keywords and appear in search results when potential customers are looking for\n",
    "asset protection insurance.\n",
    "Timeline and country\n",
    "● Activity in the 3 major markets in at least the online channels by early Oct 2023\n",
    "● Start from US, followed by France then Japan\n",
    "● The campaign should use the US version as anchor and localized accordingly\n",
    "Performance Metrics\n",
    "1. Track website trac, lead generation, and phone sales to measure campaign\n",
    "eectiveness.\n",
    "2. Use social media analytics to monitor engagement, reach, and sentiment.\n",
    "\"\"\""
   ]
  },
  {
   "cell_type": "code",
   "execution_count": 6,
   "id": "d371bfe6",
   "metadata": {},
   "outputs": [],
   "source": [
    "from pprint import pprint\n",
    "\n",
    "def stream_agent(agent, prompt: str) -> None:\n",
    "    for event in agent.stream_query(\n",
    "        user_id=\"jwortz\",\n",
    "        session_id=session.id,\n",
    "        message=prompt,\n",
    "    ):\n",
    "        pprint(event)"
   ]
  },
  {
   "cell_type": "code",
   "execution_count": null,
   "id": "6a10dd01",
   "metadata": {},
   "outputs": [],
   "source": [
    "first_prompt = f\"Check out the {EXAMPLE_BRIEF} and come up with some good campaign ideas. Be sure to generate a few image ideas for the campaign.\"\n",
    "stream_agent(my_agent, first_prompt)"
   ]
  },
  {
   "cell_type": "code",
   "execution_count": null,
   "id": "2a3bc0a2",
   "metadata": {},
   "outputs": [
    {
     "name": "stderr",
     "output_type": "stream",
     "text": [
      "Warning: there are non-text parts in the response: ['function_call'],returning concatenated text result from text parts,check out the non text parts for full response from model.\n"
     ]
    },
    {
     "name": "stdout",
     "output_type": "stream",
     "text": [
      "{'actions': {'artifact_delta': {},\n",
      "             'requested_auth_configs': {},\n",
      "             'state_delta': {}},\n",
      " 'author': 'brief_data_generation_agent',\n",
      " 'content': {'parts': [{'function_call': {'args': {'agent_name': 'image_generation_agent'},\n",
      "                                          'id': 'adk-eaf10ed1-cfa9-408d-8c8b-1a27bc7030f4',\n",
      "                                          'name': 'transfer_to_agent'}}],\n",
      "             'role': 'model'},\n",
      " 'id': 'kjk70qEW',\n",
      " 'invocation_id': 'e-1981f8db-e309-400f-98ba-5340ec1f4f42',\n",
      " 'long_running_tool_ids': set(),\n",
      " 'timestamp': 1744317381.289757}\n",
      "{'actions': {'artifact_delta': {},\n",
      "             'requested_auth_configs': {},\n",
      "             'state_delta': {},\n",
      "             'transfer_to_agent': 'image_generation_agent'},\n",
      " 'author': 'brief_data_generation_agent',\n",
      " 'content': {'parts': [{'function_response': {'id': 'adk-eaf10ed1-cfa9-408d-8c8b-1a27bc7030f4',\n",
      "                                              'name': 'transfer_to_agent',\n",
      "                                              'response': {}}}],\n",
      "             'role': 'user'},\n",
      " 'id': 'DvItqRQL',\n",
      " 'invocation_id': 'e-1981f8db-e309-400f-98ba-5340ec1f4f42',\n",
      " 'timestamp': 1744317382.292248}\n"
     ]
    },
    {
     "name": "stderr",
     "output_type": "stream",
     "text": [
      "Warning: there are non-text parts in the response: ['function_call', 'function_call', 'function_call'],returning concatenated text result from text parts,check out the non text parts for full response from model.\n"
     ]
    },
    {
     "name": "stdout",
     "output_type": "stream",
     "text": [
      "{'actions': {'artifact_delta': {},\n",
      "             'requested_auth_configs': {},\n",
      "             'state_delta': {}},\n",
      " 'author': 'image_generation_agent',\n",
      " 'content': {'parts': [{'text': 'Okay, I will generate Instagram ad copies, '\n",
      "                                'tailored for each target market (US, France, '\n",
      "                                \"Japan) from the brief provided. I'll aim to \"\n",
      "                                'localize the ad copy and visuals to enhance '\n",
      "                                'relevance for each specific audience.\\n'\n",
      "                                '\\n'\n",
      "                                '**Here are the Instagram ad copies:**\\n'\n",
      "                                '\\n'\n",
      "                                '**1. United States:**\\n'\n",
      "                                '\\n'\n",
      "                                '*   **Ad Copy:** \"Unlock a world of '\n",
      "                                'possibilities with the new Pix Phone 5! 🚀 '\n",
      "                                'Lightning-fast speeds, a camera that '\n",
      "                                'redefines clarity, and a design that turns '\n",
      "                                'heads. Level up your tech game. #PixPhone5 '\n",
      "                                '#ConnectBeyondLimits #NewPhone #TechTrends\"\\n'\n",
      "                                '*   **Visual Suggestion:** A lifestyle shot '\n",
      "                                'featuring a young professional in a bustling '\n",
      "                                'US city (e.g., New York, LA) using the Pix '\n",
      "                                'Phone 5. The background should showcase '\n",
      "                                'iconic American landmarks.\\n'\n",
      "                                '\\n'\n",
      "                                '**2. France:**\\n'\n",
      "                                '\\n'\n",
      "                                '*   **Ad Copy:** \"Libérez votre potentiel '\n",
      "                                'avec le Pix Phone 5 ! 🇫🇷 Une rapidité '\n",
      "                                'inégalée, un appareil photo qui redéfinit la '\n",
      "                                'clarté et un design élégant. Exprimez votre '\n",
      "                                'style unique. #PixPhone5 '\n",
      "                                '#ConnectezSansLimites #NouveauTéléphone '\n",
      "                                '#TechFrance\" (Translation: \"Free your '\n",
      "                                'potential with the Pix Phone 5! 🇫🇷 Unmatched '\n",
      "                                'speed, a camera that redefines clarity, and '\n",
      "                                'an elegant design. Express your unique style. '\n",
      "                                '#PixPhone5 #ConnectBeyondLimits #NewPhone '\n",
      "                                '#TechFrance\")\\n'\n",
      "                                '*   **Visual Suggestion:** A sophisticated '\n",
      "                                'shot in a Parisian cafe, with someone '\n",
      "                                'stylishly dressed using the Pix Phone 5. The '\n",
      "                                'backdrop could be the Eiffel Tower or a '\n",
      "                                'classic Parisian street.\\n'\n",
      "                                '\\n'\n",
      "                                '**3. Japan:**\\n'\n",
      "                                '\\n'\n",
      "                                '*   **Ad Copy:** \"Pix Phone 5 '\n",
      "                                'で、つながる世界を広げよう！🇯🇵 '\n",
      "                                '驚きのスピード、クリアなカメラ、そして洗練されたデザイン。あなたの毎日をもっと豊かに。#PixPhone5 '\n",
      "                                '#限界を超えてつながる #最新スマホ #テックトレンド\" (Translation: '\n",
      "                                '\"Expand your world with Pix Phone 5! 🇯🇵 '\n",
      "                                'Amazing speed, a clear camera, and a '\n",
      "                                'sophisticated design. Enrich your everyday '\n",
      "                                'life. #PixPhone5 #ConnectBeyondLimits '\n",
      "                                '#LatestSmartphone #TechTrends\")\\n'\n",
      "                                '*   **Visual Suggestion:** A vibrant scene in '\n",
      "                                'Tokyo, perhaps Shibuya Crossing or a serene '\n",
      "                                'temple, with a trendy individual using the '\n",
      "                                'Pix Phone 5. Incorporate elements of Japanese '\n",
      "                                'culture and technology.\\n'\n",
      "                                '\\n'\n",
      "                                \"Now, let's generate images for these ad \"\n",
      "                                'copies using the `generate_image` tool.\\n'},\n",
      "                       {'function_call': {'args': {'prompt': 'Lifestyle shot '\n",
      "                                                             'featuring a '\n",
      "                                                             'young '\n",
      "                                                             'professional in '\n",
      "                                                             'a bustling US '\n",
      "                                                             'city (e.g., New '\n",
      "                                                             'York, LA) using '\n",
      "                                                             'the Pix Phone 5. '\n",
      "                                                             'The background '\n",
      "                                                             'should showcase '\n",
      "                                                             'iconic American '\n",
      "                                                             'landmarks.'},\n",
      "                                          'id': 'adk-1358a70e-16f1-49e3-9e09-80244cecdb29',\n",
      "                                          'name': 'generate_image'}},\n",
      "                       {'function_call': {'args': {'prompt': 'A sophisticated '\n",
      "                                                             'shot in a '\n",
      "                                                             'Parisian cafe, '\n",
      "                                                             'with someone '\n",
      "                                                             'stylishly '\n",
      "                                                             'dressed using '\n",
      "                                                             'the Pix Phone 5. '\n",
      "                                                             'The backdrop '\n",
      "                                                             'could be the '\n",
      "                                                             'Eiffel Tower or '\n",
      "                                                             'a classic '\n",
      "                                                             'Parisian '\n",
      "                                                             'street.'},\n",
      "                                          'id': 'adk-10cd179a-2f39-4f8a-9821-0f5fc86a26bc',\n",
      "                                          'name': 'generate_image'}},\n",
      "                       {'function_call': {'args': {'prompt': 'A vibrant scene '\n",
      "                                                             'in Tokyo, '\n",
      "                                                             'perhaps Shibuya '\n",
      "                                                             'Crossing or a '\n",
      "                                                             'serene temple, '\n",
      "                                                             'with a trendy '\n",
      "                                                             'individual using '\n",
      "                                                             'the Pix Phone 5. '\n",
      "                                                             'Incorporate '\n",
      "                                                             'elements of '\n",
      "                                                             'Japanese culture '\n",
      "                                                             'and technology.'},\n",
      "                                          'id': 'adk-a9a18562-cca9-410a-a747-4bd1f4b7a3cc',\n",
      "                                          'name': 'generate_image'}}],\n",
      "             'role': 'model'},\n",
      " 'id': 'AeNLaCuA',\n",
      " 'invocation_id': 'e-1981f8db-e309-400f-98ba-5340ec1f4f42',\n",
      " 'long_running_tool_ids': set(),\n",
      " 'timestamp': 1744317382.293533}\n",
      "{'actions': {'artifact_delta': {'image.png': 2},\n",
      "             'requested_auth_configs': {},\n",
      "             'state_delta': {}},\n",
      " 'author': 'image_generation_agent',\n",
      " 'content': {'parts': [{'function_response': {'id': 'adk-1358a70e-16f1-49e3-9e09-80244cecdb29',\n",
      "                                              'name': 'generate_image',\n",
      "                                              'response': {'filename': 'image.png',\n",
      "                                                           'status': 'ok'}}},\n",
      "                       {'function_response': {'id': 'adk-10cd179a-2f39-4f8a-9821-0f5fc86a26bc',\n",
      "                                              'name': 'generate_image',\n",
      "                                              'response': {'filename': 'image.png',\n",
      "                                                           'status': 'ok'}}},\n",
      "                       {'function_response': {'id': 'adk-a9a18562-cca9-410a-a747-4bd1f4b7a3cc',\n",
      "                                              'name': 'generate_image',\n",
      "                                              'response': {'filename': 'image.png',\n",
      "                                                           'status': 'ok'}}}],\n",
      "             'role': 'user'},\n",
      " 'id': 'Ju04zjeh',\n",
      " 'invocation_id': 'zj3LIr3Y',\n",
      " 'timestamp': 1744317396.876967}\n"
     ]
    },
    {
     "name": "stderr",
     "output_type": "stream",
     "text": [
      "Warning: there are non-text parts in the response: ['function_call'],returning concatenated text result from text parts,check out the non text parts for full response from model.\n"
     ]
    },
    {
     "name": "stdout",
     "output_type": "stream",
     "text": [
      "{'actions': {'artifact_delta': {},\n",
      "             'requested_auth_configs': {},\n",
      "             'state_delta': {}},\n",
      " 'author': 'image_generation_agent',\n",
      " 'content': {'parts': [{'text': 'Okay, I have generated three images based on '\n",
      "                                'the visual suggestions. I will now load these '\n",
      "                                'artifacts so you can see the results.\\n'},\n",
      "                       {'function_call': {'args': {'artifact_names': ['image.png']},\n",
      "                                          'id': 'adk-c3f053c6-adc8-4d61-b5d3-704d8ec91e06',\n",
      "                                          'name': 'load_artifacts'}}],\n",
      "             'role': 'model'},\n",
      " 'id': 'vTJTXK91',\n",
      " 'invocation_id': 'e-1981f8db-e309-400f-98ba-5340ec1f4f42',\n",
      " 'long_running_tool_ids': set(),\n",
      " 'timestamp': 1744317413.872433}\n",
      "{'actions': {'artifact_delta': {},\n",
      "             'requested_auth_configs': {},\n",
      "             'state_delta': {}},\n",
      " 'author': 'image_generation_agent',\n",
      " 'content': {'parts': [{'function_response': {'id': 'adk-c3f053c6-adc8-4d61-b5d3-704d8ec91e06',\n",
      "                                              'name': 'load_artifacts',\n",
      "                                              'response': {'artifact_names': ['image.png']}}}],\n",
      "             'role': 'user'},\n",
      " 'id': '4u8XMZJ9',\n",
      " 'invocation_id': 'e-1981f8db-e309-400f-98ba-5340ec1f4f42',\n",
      " 'timestamp': 1744317415.092427}\n"
     ]
    },
    {
     "name": "stderr",
     "output_type": "stream",
     "text": [
      "Warning: there are non-text parts in the response: ['function_call'],returning concatenated text result from text parts,check out the non text parts for full response from model.\n"
     ]
    },
    {
     "name": "stdout",
     "output_type": "stream",
     "text": [
      "{'actions': {'artifact_delta': {},\n",
      "             'requested_auth_configs': {},\n",
      "             'state_delta': {}},\n",
      " 'author': 'image_generation_agent',\n",
      " 'content': {'parts': [{'text': 'This image accurately reflects the visual '\n",
      "                                'suggestion for the Japanese market, depicting '\n",
      "                                'a trendy individual using the phone in '\n",
      "                                \"Shibuya Crossing, Tokyo. I'll generate the \"\n",
      "                                'other two images to complete the set.\\n'},\n",
      "                       {'function_call': {'args': {'prompt': 'Lifestyle shot '\n",
      "                                                             'featuring a '\n",
      "                                                             'young '\n",
      "                                                             'professional in '\n",
      "                                                             'a bustling US '\n",
      "                                                             'city (e.g., New '\n",
      "                                                             'York, LA) using '\n",
      "                                                             'the Pix Phone 5. '\n",
      "                                                             'The background '\n",
      "                                                             'should showcase '\n",
      "                                                             'iconic American '\n",
      "                                                             'landmarks.'},\n",
      "                                          'id': 'adk-f62c4fe0-e8f2-49ce-b639-1994adfb775d',\n",
      "                                          'name': 'generate_image'}}],\n",
      "             'role': 'model'},\n",
      " 'id': '99ulHFti',\n",
      " 'invocation_id': 'e-1981f8db-e309-400f-98ba-5340ec1f4f42',\n",
      " 'long_running_tool_ids': set(),\n",
      " 'timestamp': 1744317415.096703}\n",
      "{'actions': {'artifact_delta': {'image.png': 3},\n",
      "             'requested_auth_configs': {},\n",
      "             'state_delta': {}},\n",
      " 'author': 'image_generation_agent',\n",
      " 'content': {'parts': [{'function_response': {'id': 'adk-f62c4fe0-e8f2-49ce-b639-1994adfb775d',\n",
      "                                              'name': 'generate_image',\n",
      "                                              'response': {'filename': 'image.png',\n",
      "                                                           'status': 'ok'}}}],\n",
      "             'role': 'user'},\n",
      " 'id': '0ZzR4byO',\n",
      " 'invocation_id': 'e-1981f8db-e309-400f-98ba-5340ec1f4f42',\n",
      " 'timestamp': 1744317426.819392}\n"
     ]
    },
    {
     "name": "stderr",
     "output_type": "stream",
     "text": [
      "Warning: there are non-text parts in the response: ['function_call'],returning concatenated text result from text parts,check out the non text parts for full response from model.\n"
     ]
    },
    {
     "name": "stdout",
     "output_type": "stream",
     "text": [
      "{'actions': {'artifact_delta': {},\n",
      "             'requested_auth_configs': {},\n",
      "             'state_delta': {}},\n",
      " 'author': 'image_generation_agent',\n",
      " 'content': {'parts': [{'function_call': {'args': {'prompt': 'A sophisticated '\n",
      "                                                             'shot in a '\n",
      "                                                             'Parisian cafe, '\n",
      "                                                             'with someone '\n",
      "                                                             'stylishly '\n",
      "                                                             'dressed using '\n",
      "                                                             'the Pix Phone 5. '\n",
      "                                                             'The backdrop '\n",
      "                                                             'could be the '\n",
      "                                                             'Eiffel Tower or '\n",
      "                                                             'a classic '\n",
      "                                                             'Parisian '\n",
      "                                                             'street.'},\n",
      "                                          'id': 'adk-15792be8-1236-481d-ac88-c1e42fd8a00e',\n",
      "                                          'name': 'generate_image'}}],\n",
      "             'role': 'model'},\n",
      " 'id': 'O2KdtQbm',\n",
      " 'invocation_id': 'e-1981f8db-e309-400f-98ba-5340ec1f4f42',\n",
      " 'long_running_tool_ids': set(),\n",
      " 'timestamp': 1744317426.822279}\n",
      "{'actions': {'artifact_delta': {'image.png': 4},\n",
      "             'requested_auth_configs': {},\n",
      "             'state_delta': {}},\n",
      " 'author': 'image_generation_agent',\n",
      " 'content': {'parts': [{'function_response': {'id': 'adk-15792be8-1236-481d-ac88-c1e42fd8a00e',\n",
      "                                              'name': 'generate_image',\n",
      "                                              'response': {'filename': 'image.png',\n",
      "                                                           'status': 'ok'}}}],\n",
      "             'role': 'user'},\n",
      " 'id': 'ru8PzNiN',\n",
      " 'invocation_id': 'e-1981f8db-e309-400f-98ba-5340ec1f4f42',\n",
      " 'timestamp': 1744317437.260823}\n"
     ]
    },
    {
     "name": "stderr",
     "output_type": "stream",
     "text": [
      "Warning: there are non-text parts in the response: ['function_call'],returning concatenated text result from text parts,check out the non text parts for full response from model.\n"
     ]
    },
    {
     "name": "stdout",
     "output_type": "stream",
     "text": [
      "{'actions': {'artifact_delta': {},\n",
      "             'requested_auth_configs': {},\n",
      "             'state_delta': {}},\n",
      " 'author': 'image_generation_agent',\n",
      " 'content': {'parts': [{'text': \"I have generated new images. Now, let's load \"\n",
      "                                'these artifacts so you can see the '\n",
      "                                'results.\\n'},\n",
      "                       {'function_call': {'args': {'artifact_names': ['image.png']},\n",
      "                                          'id': 'adk-57967f0b-0af4-4fa9-a85b-c3448b2b5479',\n",
      "                                          'name': 'load_artifacts'}}],\n",
      "             'role': 'model'},\n",
      " 'id': '81M3dwRh',\n",
      " 'invocation_id': 'e-1981f8db-e309-400f-98ba-5340ec1f4f42',\n",
      " 'long_running_tool_ids': set(),\n",
      " 'timestamp': 1744317437.263455}\n",
      "{'actions': {'artifact_delta': {},\n",
      "             'requested_auth_configs': {},\n",
      "             'state_delta': {}},\n",
      " 'author': 'image_generation_agent',\n",
      " 'content': {'parts': [{'function_response': {'id': 'adk-57967f0b-0af4-4fa9-a85b-c3448b2b5479',\n",
      "                                              'name': 'load_artifacts',\n",
      "                                              'response': {'artifact_names': ['image.png']}}}],\n",
      "             'role': 'user'},\n",
      " 'id': 'kRviUSfv',\n",
      " 'invocation_id': 'e-1981f8db-e309-400f-98ba-5340ec1f4f42',\n",
      " 'timestamp': 1744317438.504611}\n"
     ]
    },
    {
     "name": "stderr",
     "output_type": "stream",
     "text": [
      "Warning: there are non-text parts in the response: ['function_call'],returning concatenated text result from text parts,check out the non text parts for full response from model.\n"
     ]
    },
    {
     "name": "stdout",
     "output_type": "stream",
     "text": [
      "{'actions': {'artifact_delta': {},\n",
      "             'requested_auth_configs': {},\n",
      "             'state_delta': {}},\n",
      " 'author': 'image_generation_agent',\n",
      " 'content': {'parts': [{'text': 'This image looks great for the French ad! It '\n",
      "                                'captures the Parisian cafe aesthetic '\n",
      "                                'perfectly with the Eiffel Tower in the '\n",
      "                                'background.\\n'\n",
      "                                '\\n'\n",
      "                                \"Let's see the other images to complete the \"\n",
      "                                'set.\\n'},\n",
      "                       {'function_call': {'args': {'artifact_names': ['image.png']},\n",
      "                                          'id': 'adk-b25a63b6-8384-4526-b94a-81e33366a186',\n",
      "                                          'name': 'load_artifacts'}}],\n",
      "             'role': 'model'},\n",
      " 'id': 'xHdSv955',\n",
      " 'invocation_id': 'e-1981f8db-e309-400f-98ba-5340ec1f4f42',\n",
      " 'long_running_tool_ids': set(),\n",
      " 'timestamp': 1744317438.507754}\n",
      "{'actions': {'artifact_delta': {},\n",
      "             'requested_auth_configs': {},\n",
      "             'state_delta': {}},\n",
      " 'author': 'image_generation_agent',\n",
      " 'content': {'parts': [{'function_response': {'id': 'adk-b25a63b6-8384-4526-b94a-81e33366a186',\n",
      "                                              'name': 'load_artifacts',\n",
      "                                              'response': {'artifact_names': ['image.png']}}}],\n",
      "             'role': 'user'},\n",
      " 'id': 'SKJc1n1O',\n",
      " 'invocation_id': 'e-1981f8db-e309-400f-98ba-5340ec1f4f42',\n",
      " 'timestamp': 1744317440.908147}\n"
     ]
    },
    {
     "name": "stderr",
     "output_type": "stream",
     "text": [
      "Warning: there are non-text parts in the response: ['function_call'],returning concatenated text result from text parts,check out the non text parts for full response from model.\n"
     ]
    },
    {
     "name": "stdout",
     "output_type": "stream",
     "text": [
      "{'actions': {'artifact_delta': {},\n",
      "             'requested_auth_configs': {},\n",
      "             'state_delta': {}},\n",
      " 'author': 'image_generation_agent',\n",
      " 'content': {'parts': [{'function_call': {'args': {'artifact_names': ['image.png']},\n",
      "                                          'id': 'adk-2f94a595-c37c-4baf-9ff6-c98e6d2b1e0d',\n",
      "                                          'name': 'load_artifacts'}}],\n",
      "             'role': 'model'},\n",
      " 'id': 'C9IGXaZP',\n",
      " 'invocation_id': 'e-1981f8db-e309-400f-98ba-5340ec1f4f42',\n",
      " 'long_running_tool_ids': set(),\n",
      " 'timestamp': 1744317440.915422}\n",
      "{'actions': {'artifact_delta': {},\n",
      "             'requested_auth_configs': {},\n",
      "             'state_delta': {}},\n",
      " 'author': 'image_generation_agent',\n",
      " 'content': {'parts': [{'function_response': {'id': 'adk-2f94a595-c37c-4baf-9ff6-c98e6d2b1e0d',\n",
      "                                              'name': 'load_artifacts',\n",
      "                                              'response': {'artifact_names': ['image.png']}}}],\n",
      "             'role': 'user'},\n",
      " 'id': '4eiQhjrJ',\n",
      " 'invocation_id': 'e-1981f8db-e309-400f-98ba-5340ec1f4f42',\n",
      " 'timestamp': 1744317442.775159}\n"
     ]
    },
    {
     "name": "stderr",
     "output_type": "stream",
     "text": [
      "Warning: there are non-text parts in the response: ['function_call'],returning concatenated text result from text parts,check out the non text parts for full response from model.\n"
     ]
    },
    {
     "name": "stdout",
     "output_type": "stream",
     "text": [
      "{'actions': {'artifact_delta': {},\n",
      "             'requested_auth_configs': {},\n",
      "             'state_delta': {}},\n",
      " 'author': 'image_generation_agent',\n",
      " 'content': {'parts': [{'text': \"Okay, that's the image for France! Let's load \"\n",
      "                                'the other images.\\n'},\n",
      "                       {'function_call': {'args': {'artifact_names': ['image.png']},\n",
      "                                          'id': 'adk-c7ff77e2-e515-4a7a-a828-11d3518e3f4e',\n",
      "                                          'name': 'load_artifacts'}}],\n",
      "             'role': 'model'},\n",
      " 'id': '6opGoQmy',\n",
      " 'invocation_id': 'e-1981f8db-e309-400f-98ba-5340ec1f4f42',\n",
      " 'long_running_tool_ids': set(),\n",
      " 'timestamp': 1744317442.778797}\n",
      "{'actions': {'artifact_delta': {},\n",
      "             'requested_auth_configs': {},\n",
      "             'state_delta': {}},\n",
      " 'author': 'image_generation_agent',\n",
      " 'content': {'parts': [{'function_response': {'id': 'adk-c7ff77e2-e515-4a7a-a828-11d3518e3f4e',\n",
      "                                              'name': 'load_artifacts',\n",
      "                                              'response': {'artifact_names': ['image.png']}}}],\n",
      "             'role': 'user'},\n",
      " 'id': 'f2ATd5Po',\n",
      " 'invocation_id': 'e-1981f8db-e309-400f-98ba-5340ec1f4f42',\n",
      " 'timestamp': 1744317444.653225}\n",
      "{'actions': {'artifact_delta': {},\n",
      "             'requested_auth_configs': {},\n",
      "             'state_delta': {}},\n",
      " 'author': 'image_generation_agent',\n",
      " 'content': {'parts': [{'text': 'Artifact image.png is:Here is the original '\n",
      "                                'image:'}],\n",
      "             'role': 'model'},\n",
      " 'id': 'FXDeYGl7',\n",
      " 'invocation_id': 'e-1981f8db-e309-400f-98ba-5340ec1f4f42',\n",
      " 'timestamp': 1744317444.656526}\n"
     ]
    }
   ],
   "source": [
    "followup_prompt = \"Create images from these great ideas!\"\n",
    "stream_agent(my_agent, followup_prompt)"
   ]
  },
  {
   "cell_type": "code",
   "execution_count": null,
   "id": "3dcafe0d",
   "metadata": {},
   "outputs": [],
   "source": []
  }
 ],
 "metadata": {
  "kernelspec": {
   "display_name": ".venv",
   "language": "python",
   "name": "python3"
  },
  "language_info": {
   "codemirror_mode": {
    "name": "ipython",
    "version": 3
   },
   "file_extension": ".py",
   "mimetype": "text/x-python",
   "name": "python",
   "nbconvert_exporter": "python",
   "pygments_lexer": "ipython3",
   "version": "3.12.2"
  }
 },
 "nbformat": 4,
 "nbformat_minor": 5
}
